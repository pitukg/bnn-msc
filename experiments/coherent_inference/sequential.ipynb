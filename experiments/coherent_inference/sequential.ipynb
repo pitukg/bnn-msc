{
 "cells": [
  {
   "cell_type": "code",
   "execution_count": null,
   "outputs": [],
   "source": [
    "import copy\n",
    "import pickle\n",
    "\n",
    "import jax.nn\n",
    "import jax.numpy as jnp\n",
    "import jax.random as random\n",
    "import matplotlib.pyplot as plt\n",
    "import numpy as np\n",
    "import numpyro\n",
    "import optax\n",
    "import tqdm.notebook as tqdm\n",
    "from numpyro import handlers"
   ],
   "metadata": {
    "collapsed": false
   }
  },
  {
   "cell_type": "code",
   "execution_count": null,
   "outputs": [],
   "source": [
    "%load_ext autoreload\n",
    "%autoreload 2\n",
    "\n",
    "from experiments.src.experiment import *\n",
    "from experiments.src.data import DataSlice, ToyData1, Sign\n",
    "from experiments.src.model import BNNRegressor"
   ],
   "metadata": {
    "collapsed": false
   }
  },
  {
   "cell_type": "code",
   "execution_count": null,
   "outputs": [],
   "source": [
    "# %matplotlib inline\n",
    "# import matplotlib\n",
    "# matplotlib.use(\"nbAgg\")  # noqa: E402\n",
    "\n",
    "plt.rcParams.update({\n",
    "    \"axes.grid\": True,      # show grid by default\n",
    "    \"font.weight\": \"bold\",  # bold fonts\n",
    "    \"xtick.labelsize\": 15,  # large tick labels\n",
    "    \"ytick.labelsize\": 15,  # large tick labels\n",
    "    \"lines.linewidth\": 1,   # thick lines\n",
    "    \"lines.color\": \"k\",     # black lines\n",
    "    # \"grid.color\": \"0.5\",    # gray gridlines\n",
    "    \"grid.linestyle\": \"-\",  # solid gridlines\n",
    "    \"grid.linewidth\": 0.1,  # thin gridlines\n",
    "    \"savefig.dpi\": 300,     # higher resolution output.\n",
    "})"
   ],
   "metadata": {
    "collapsed": false
   }
  },
  {
   "cell_type": "code",
   "execution_count": null,
   "outputs": [],
   "source": [
    "DEVICE = \"gpu\"\n",
    "numpyro.set_platform(DEVICE)\n",
    "# numpyro.set_host_device_count(NUM_CHAINS)\n",
    "D_X = 2\n",
    "PRIOR_SCALE = 5.0\n",
    "VI_MAX_ITER = 250_000\n",
    "VI_NUM_SAMPLES = 500\n",
    "HMC_NUM_SAMPLES = 200\n",
    "HMC_NUM_WARMUP = 100\n",
    "HMC_NUM_CHAINS = 2\n",
    "BNN_SIZE = [32, 32, 16]\n",
    "BETA = 0.2\n",
    "DO_HMC = True"
   ],
   "metadata": {
    "collapsed": false
   }
  },
  {
   "cell_type": "code",
   "execution_count": null,
   "outputs": [],
   "source": [
    "VI_LR_SCHEDULE = optax.piecewise_interpolate_schedule(\n",
    "    interpolate_type='cosine',\n",
    "    init_value=-0.1,\n",
    "    boundaries_and_scales={1000: 0.2, 5000: 0.5, 10_000: 0.2, 100_000: 0.5, 150_000: 0.5, 200_000: 0.5}\n",
    ")"
   ],
   "metadata": {
    "collapsed": false
   }
  },
  {
   "cell_type": "markdown",
   "source": [
    "## Data"
   ],
   "metadata": {
    "collapsed": false
   }
  },
  {
   "cell_type": "code",
   "execution_count": null,
   "outputs": [],
   "source": [
    "data = ToyData1(D_X=D_X, train_size=100, sigma_obs=0.05)"
   ],
   "metadata": {
    "collapsed": false
   }
  },
  {
   "cell_type": "markdown",
   "source": [
    "## Model"
   ],
   "metadata": {
    "collapsed": false
   }
  },
  {
   "cell_type": "code",
   "execution_count": null,
   "outputs": [],
   "source": [
    "bnn = BNNRegressor(\n",
    "    nonlin=jax.nn.silu,\n",
    "    D_X=D_X,\n",
    "    D_Y=1,\n",
    "    D_H=BNN_SIZE,\n",
    "    biases=True,\n",
    "    prior_scale=PRIOR_SCALE,\n",
    "    prior_type='xavier',\n",
    "    # obs_model=\"classification\",\n",
    "    obs_model='loc_scale',\n",
    "    # obs_model=1 / (0.05 / 0.26480442)**2,\n",
    "    beta=BETA,\n",
    ")"
   ],
   "metadata": {
    "collapsed": false
   }
  },
  {
   "cell_type": "code",
   "execution_count": null,
   "outputs": [],
   "source": [
    "bnn.get_weight_dim()"
   ],
   "metadata": {
    "collapsed": false
   }
  },
  {
   "cell_type": "code",
   "execution_count": null,
   "outputs": [],
   "source": [
    "sequential_experiment = SequentialExperiment(bnn, data, BasicMeanFieldGaussianVIExperiment, num_inference_steps=5, num_samples=VI_NUM_SAMPLES, max_iter=VI_MAX_ITER, lr_schedule=VI_LR_SCHEDULE)"
   ],
   "metadata": {
    "collapsed": false
   }
  },
  {
   "cell_type": "code",
   "execution_count": null,
   "outputs": [],
   "source": [
    "# sequential_experiment = ExperimentWithLastBlockReplaced(sequential_experiment, BasicHMCExperiment, num_samples=200, num_warmup=100)"
   ],
   "metadata": {
    "collapsed": false
   }
  },
  {
   "cell_type": "code",
   "execution_count": null,
   "outputs": [],
   "source": [
    "sequential_experiment.train(random.PRNGKey(0))"
   ],
   "metadata": {
    "collapsed": false
   }
  },
  {
   "cell_type": "code",
   "execution_count": null,
   "outputs": [],
   "source": [
    "sequential_experiment.make_predictions(random.PRNGKey(2), final_only=False)"
   ],
   "metadata": {
    "collapsed": false
   }
  },
  {
   "cell_type": "code",
   "execution_count": null,
   "outputs": [],
   "source": [
    "for i, experiment_block in enumerate(sequential_experiment._experiment_blocks):\n",
    "    fig, ax = plt.subplots()\n",
    "    experiment_block.make_plots(fig, ax)\n",
    "    # plot prior data\n",
    "    end = experiment_block._data._train_idx_slice.start\n",
    "    ax.plot(sequential_experiment._data.train[0][:end, 1], sequential_experiment._data.train[1][:end], 'bx')\n",
    "    ax.set_ylim(-6, 6)\n",
    "    fig.savefig(f\"figs/seq{i}.png\")\n",
    "\n",
    "    if DO_HMC:\n",
    "        experiment_block._bnn.BETA = 1.0\n",
    "        hmc = BasicHMCExperiment(experiment_block._bnn, experiment_block._data, HMC_NUM_SAMPLES, HMC_NUM_WARMUP,\n",
    "                                 HMC_NUM_CHAINS)\n",
    "        hmc.train(random.PRNGKey(0))\n",
    "        hmc.make_predictions(random.PRNGKey(1))\n",
    "        hmc._samples = None\n",
    "        fig, ax = plt.subplots()\n",
    "        hmc.make_plots(fig=fig, ax=ax)\n",
    "        ax.plot(sequential_experiment._data.train[0][:end, 1], sequential_experiment._data.train[1][:end], 'bx')\n",
    "        ax.set_ylim(-6, 6)\n",
    "        fig.savefig(f\"figs/hmcseq{i}.png\")\n",
    "        del hmc\n",
    "        experiment_block._bnn.BETA = BETA"
   ],
   "metadata": {
    "collapsed": false
   }
  },
  {
   "cell_type": "code",
   "execution_count": null,
   "outputs": [],
   "source": [
    "# # Custom plotting for sequential experiment\n",
    "# fig, axs = plt.subplots(figsize=(20, 8), ncols=3)\n",
    "# for i, ax in enumerate(axs.ravel()):\n",
    "#     experiment_block = sequential_experiment._sequential_experiment._experiment_blocks[i]\n",
    "#     predictions = experiment_block._predictions[\"Y\"][..., 0]\n",
    "#     mean_predictions = experiment_block._predictions[\"Y_mean\"][..., 0]\n",
    "#     data = experiment_block._data\n",
    "#     X, Y = data.train\n",
    "#     X_test, _ = data.test\n",
    "#     # compute mean prediction and confidence interval around median\n",
    "#     mean_means = jnp.mean(mean_predictions, axis=0)\n",
    "#     mean_percentiles = np.percentile(predictions, [5.0, 95.0], axis=0)\n",
    "#     # plot training data\n",
    "#     ax.plot(X[:, 1], Y[:, 0], \"kx\")\n",
    "#     # plot predictions & quantiles\n",
    "#     ax.plot(X_test[:, 1], mean_means, color=\"blue\")\n",
    "#     ax.fill_between(X_test[:, 1], *mean_percentiles, color=\"lightblue\")\n",
    "#     ax.set_title(str(data._train_idx_slice))\n",
    "# fig.tight_layout()\n",
    "# fig.savefig(\"figs/sequential-VI-simple3.png\")"
   ],
   "metadata": {
    "collapsed": false
   }
  }
 ],
 "metadata": {
  "kernelspec": {
   "display_name": "Python 3",
   "language": "python",
   "name": "python3"
  },
  "language_info": {
   "codemirror_mode": {
    "name": "ipython",
    "version": 2
   },
   "file_extension": ".py",
   "mimetype": "text/x-python",
   "name": "python",
   "nbconvert_exporter": "python",
   "pygments_lexer": "ipython2",
   "version": "2.7.6"
  }
 },
 "nbformat": 4,
 "nbformat_minor": 0
}
