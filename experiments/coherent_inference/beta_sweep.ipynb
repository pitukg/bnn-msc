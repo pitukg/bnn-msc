{
 "cells": [
  {
   "cell_type": "code",
   "execution_count": null,
   "outputs": [],
   "source": [
    "import copy\n",
    "import pickle\n",
    "\n",
    "import jax.nn\n",
    "import jax.numpy as jnp\n",
    "import jax.random as random\n",
    "import matplotlib.pyplot as plt\n",
    "import numpy as np\n",
    "import numpyro\n",
    "import optax\n",
    "import tqdm.notebook as tqdm\n",
    "from numpyro import handlers"
   ],
   "metadata": {
    "collapsed": false
   }
  },
  {
   "cell_type": "code",
   "execution_count": null,
   "outputs": [],
   "source": [
    "%load_ext autoreload\n",
    "%autoreload 2\n",
    "\n",
    "from experiments.src.experiment import *\n",
    "from experiments.src.data import DataSlice, ToyData1, Sign\n",
    "from experiments.src.model import BNNRegressor"
   ],
   "metadata": {
    "collapsed": false
   }
  },
  {
   "cell_type": "code",
   "execution_count": null,
   "outputs": [],
   "source": [
    "# %matplotlib inline\n",
    "# import matplotlib\n",
    "# matplotlib.use(\"nbAgg\")  # noqa: E402\n",
    "\n",
    "plt.rcParams.update({\n",
    "    \"axes.grid\": True,      # show grid by default\n",
    "    \"font.weight\": \"bold\",  # bold fonts\n",
    "    \"xtick.labelsize\": 15,  # large tick labels\n",
    "    \"ytick.labelsize\": 15,  # large tick labels\n",
    "    \"lines.linewidth\": 1,   # thick lines\n",
    "    \"lines.color\": \"k\",     # black lines\n",
    "    # \"grid.color\": \"0.5\",    # gray gridlines\n",
    "    \"grid.linestyle\": \"-\",  # solid gridlines\n",
    "    \"grid.linewidth\": 0.1,  # thin gridlines\n",
    "    \"savefig.dpi\": 300,     # higher resolution output.\n",
    "})"
   ],
   "metadata": {
    "collapsed": false
   }
  },
  {
   "cell_type": "code",
   "execution_count": null,
   "outputs": [],
   "source": [
    "DEVICE = \"gpu\"\n",
    "numpyro.set_platform(DEVICE)\n",
    "# numpyro.set_host_device_count(NUM_CHAINS)\n",
    "D_X = 2\n",
    "VI_MAX_ITER = 250_000\n",
    "BNN_SIZE = [64, 128, 128, 128, 64]\n",
    "BETAS = np.logspace(-8, 2, num=11)"
   ],
   "metadata": {
    "collapsed": false
   }
  },
  {
   "cell_type": "markdown",
   "source": [
    "## Data"
   ],
   "metadata": {
    "collapsed": false
   }
  },
  {
   "cell_type": "code",
   "execution_count": null,
   "outputs": [],
   "source": [
    "data = ToyData1(D_X=D_X, train_size=100, sigma_obs=0.05)"
   ],
   "metadata": {
    "collapsed": false
   }
  },
  {
   "cell_type": "markdown",
   "source": [
    "## Model"
   ],
   "metadata": {
    "collapsed": false
   }
  },
  {
   "cell_type": "code",
   "execution_count": null,
   "outputs": [],
   "source": [
    "for beta in BETAS:\n",
    "    bnn = BNNRegressor(\n",
    "        nonlin=jax.nn.silu,\n",
    "        D_X=D_X,\n",
    "        D_Y=1,\n",
    "        D_H=BNN_SIZE,\n",
    "        biases=True,\n",
    "        prior_scale=np.sqrt(2),\n",
    "        prior_type='xavier',\n",
    "        # obs_model=\"classification\",\n",
    "        obs_model='loc_scale',\n",
    "        # obs_model=1 / (0.05 / 0.26480442)**2,\n",
    "        beta=beta,\n",
    "    )\n",
    "    experiment = BasicMeanFieldGaussianVIExperiment(\n",
    "        bnn, data, num_samples=10_000, max_iter=VI_MAX_ITER, lr_schedule=optax.piecewise_interpolate_schedule(\n",
    "            interpolate_type='cosine',\n",
    "            init_value=-0.1,\n",
    "            boundaries_and_scales={1000: 0.2, 5000: 0.5, 10_000: 0.2, 100_000: 0.5, 150_000: 0.5, 200_000: 0.5}\n",
    "        )\n",
    "    )\n",
    "    experiment.train(random.PRNGKey(0))\n",
    "    experiment.make_predictions(random.PRNGKey(1))\n",
    "    fig, ax = plt.subplots()\n",
    "    experiment.make_plots(fig=fig, ax=ax)\n",
    "    ax.set_ylim(-6, 6)\n",
    "    fig.savefig(f\"figs/beta_sweep_{beta}.png\")"
   ],
   "metadata": {
    "collapsed": false
   }
  }
 ],
 "metadata": {
  "kernelspec": {
   "display_name": "Python 3",
   "language": "python",
   "name": "python3"
  },
  "language_info": {
   "codemirror_mode": {
    "name": "ipython",
    "version": 2
   },
   "file_extension": ".py",
   "mimetype": "text/x-python",
   "name": "python",
   "nbconvert_exporter": "python",
   "pygments_lexer": "ipython2",
   "version": "2.7.6"
  }
 },
 "nbformat": 4,
 "nbformat_minor": 0
}
