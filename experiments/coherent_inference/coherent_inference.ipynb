{
 "cells": [
  {
   "cell_type": "code",
   "execution_count": 1,
   "outputs": [],
   "source": [
    "import copy\n",
    "import pickle\n",
    "\n",
    "import jax.nn\n",
    "import jax.random as random\n",
    "import matplotlib.pyplot as plt\n",
    "import numpyro\n",
    "from numpyro import handlers"
   ],
   "metadata": {
    "collapsed": false
   }
  },
  {
   "cell_type": "code",
   "execution_count": 2,
   "outputs": [],
   "source": [
    "%load_ext autoreload\n",
    "%autoreload 2\n",
    "\n",
    "from experiments.src.experiment import *\n",
    "from experiments.src.data import ToyData1\n",
    "from experiments.src.model import BNNRegressor"
   ],
   "metadata": {
    "collapsed": false
   }
  },
  {
   "cell_type": "code",
   "execution_count": 3,
   "outputs": [],
   "source": [
    "# %matplotlib inline\n",
    "# matplotlib.use(\"nbAgg\")  # noqa: E402\n",
    "\n",
    "plt.rcParams.update({\n",
    "    \"axes.grid\": True,      # show grid by default\n",
    "    \"font.weight\": \"bold\",  # bold fonts\n",
    "    \"xtick.labelsize\": 15,  # large tick labels\n",
    "    \"ytick.labelsize\": 15,  # large tick labels\n",
    "    \"lines.linewidth\": 1,   # thick lines\n",
    "    \"lines.color\": \"k\",     # black lines\n",
    "    # \"grid.color\": \"0.5\",    # gray gridlines\n",
    "    \"grid.linestyle\": \"-\",  # solid gridlines\n",
    "    \"grid.linewidth\": 0.1,  # thin gridlines\n",
    "    \"savefig.dpi\": 300,     # higher resolution output.\n",
    "})"
   ],
   "metadata": {
    "collapsed": false
   }
  },
  {
   "cell_type": "code",
   "execution_count": 4,
   "outputs": [],
   "source": [
    "DEVICE = \"cpu\"\n",
    "numpyro.set_platform(DEVICE)\n",
    "# numpyro.set_host_device_count(NUM_CHAINS)\n",
    "D_X = 3\n",
    "VI_MAX_ITER = 100_000\n",
    "BNN_SIZE = [32, 32, 16]\n",
    "BETA = 1.0\n",
    "# FIG_PREFIX = f\"fig\""
   ],
   "metadata": {
    "collapsed": false
   }
  },
  {
   "cell_type": "markdown",
   "source": [
    "## Data"
   ],
   "metadata": {
    "collapsed": false
   }
  },
  {
   "cell_type": "code",
   "execution_count": 5,
   "outputs": [],
   "source": [
    "data = ToyData1(D_X=D_X, train_size=100)"
   ],
   "metadata": {
    "collapsed": false
   }
  },
  {
   "cell_type": "markdown",
   "source": [
    "## Model"
   ],
   "metadata": {
    "collapsed": false
   }
  },
  {
   "cell_type": "code",
   "execution_count": 6,
   "outputs": [],
   "source": [
    "bnn = BNNRegressor(\n",
    "    nonlin=jax.nn.silu,\n",
    "    D_X=D_X,\n",
    "    D_Y=1,\n",
    "    D_H=BNN_SIZE,\n",
    "    biases=True,\n",
    "    prior_scale=10,\n",
    "    prior_type='xavier',\n",
    "    obs_model='loc_scale',\n",
    "    # obs_model=1 / (0.05 / 0.26480442)**2,\n",
    "    beta=BETA,\n",
    ")\n"
   ],
   "metadata": {
    "collapsed": false
   }
  },
  {
   "cell_type": "code",
   "execution_count": 7,
   "outputs": [
    {
     "data": {
      "text/plain": "1746"
     },
     "execution_count": 7,
     "metadata": {},
     "output_type": "execute_result"
    }
   ],
   "source": [
    "bnn.get_weight_dim()"
   ],
   "metadata": {
    "collapsed": false
   }
  },
  {
   "cell_type": "code",
   "execution_count": 8,
   "outputs": [],
   "source": [
    "fresh_bnn = copy.deepcopy(bnn)"
   ],
   "metadata": {
    "collapsed": false
   }
  },
  {
   "cell_type": "markdown",
   "source": [
    "## Experiment"
   ],
   "metadata": {
    "collapsed": false
   }
  },
  {
   "cell_type": "code",
   "execution_count": 9,
   "outputs": [
    {
     "name": "stderr",
     "output_type": "stream",
     "text": [
      "  0%|          | 0/90 [00:00<?, ?it/s]\n"
     ]
    },
    {
     "ename": "KeyboardInterrupt",
     "evalue": "",
     "output_type": "error",
     "traceback": [
      "\u001B[0;31m---------------------------------------------------------------------------\u001B[0m",
      "\u001B[0;31mKeyboardInterrupt\u001B[0m                         Traceback (most recent call last)",
      "Cell \u001B[0;32mIn[9], line 7\u001B[0m\n\u001B[1;32m      1\u001B[0m experiment \u001B[38;5;241m=\u001B[39m BasicHMCExperiment(\n\u001B[1;32m      2\u001B[0m     bnn,\n\u001B[1;32m      3\u001B[0m     data,\n\u001B[1;32m      4\u001B[0m     num_samples \u001B[38;5;241m=\u001B[39m \u001B[38;5;241m60\u001B[39m, num_warmup \u001B[38;5;241m=\u001B[39m \u001B[38;5;241m30\u001B[39m,\n\u001B[1;32m      5\u001B[0m     \u001B[38;5;66;03m# num_chains = 4, group_by_chain=True\u001B[39;00m\n\u001B[1;32m      6\u001B[0m )\n\u001B[0;32m----> 7\u001B[0m \u001B[43mexperiment\u001B[49m\u001B[38;5;241;43m.\u001B[39;49m\u001B[43mrun\u001B[49m\u001B[43m(\u001B[49m\u001B[43mrandom\u001B[49m\u001B[38;5;241;43m.\u001B[39;49m\u001B[43mPRNGKey\u001B[49m\u001B[43m(\u001B[49m\u001B[38;5;241;43m0\u001B[39;49m\u001B[43m)\u001B[49m\u001B[43m)\u001B[49m\n",
      "File \u001B[0;32m~/DataspellProjects/bnn/experiments/src/experiment.py:75\u001B[0m, in \u001B[0;36mExperiment.run\u001B[0;34m(self, rng_key)\u001B[0m\n\u001B[1;32m     73\u001B[0m \u001B[38;5;28;01mdef\u001B[39;00m \u001B[38;5;21mrun\u001B[39m(\u001B[38;5;28mself\u001B[39m, rng_key: random\u001B[38;5;241m.\u001B[39mPRNGKey):\n\u001B[1;32m     74\u001B[0m     rng_key_train, rng_key_predict \u001B[38;5;241m=\u001B[39m random\u001B[38;5;241m.\u001B[39msplit(rng_key)\n\u001B[0;32m---> 75\u001B[0m     \u001B[38;5;28;43mself\u001B[39;49m\u001B[38;5;241;43m.\u001B[39;49m\u001B[43mtrain\u001B[49m\u001B[43m(\u001B[49m\u001B[43mrng_key_train\u001B[49m\u001B[43m)\u001B[49m\n\u001B[1;32m     76\u001B[0m     \u001B[38;5;28mself\u001B[39m\u001B[38;5;241m.\u001B[39mmake_predictions(rng_key_predict)\n\u001B[1;32m     77\u001B[0m     fig \u001B[38;5;241m=\u001B[39m \u001B[38;5;28mself\u001B[39m\u001B[38;5;241m.\u001B[39mmake_plots()\n",
      "File \u001B[0;32m~/DataspellProjects/bnn/experiments/src/experiment.py:112\u001B[0m, in \u001B[0;36mBasicHMCExperiment.train\u001B[0;34m(self, rng_key_train, progress_bar)\u001B[0m\n\u001B[1;32m    103\u001B[0m kernel \u001B[38;5;241m=\u001B[39m NUTS(\u001B[38;5;28mself\u001B[39m\u001B[38;5;241m.\u001B[39m_bnn)\n\u001B[1;32m    104\u001B[0m mcmc \u001B[38;5;241m=\u001B[39m MCMC(\n\u001B[1;32m    105\u001B[0m     kernel,\n\u001B[1;32m    106\u001B[0m     num_warmup\u001B[38;5;241m=\u001B[39m\u001B[38;5;28mself\u001B[39m\u001B[38;5;241m.\u001B[39m_num_warmup,\n\u001B[0;32m   (...)\u001B[0m\n\u001B[1;32m    110\u001B[0m     progress_bar\u001B[38;5;241m=\u001B[39m\u001B[38;5;28;01mFalse\u001B[39;00m \u001B[38;5;28;01mif\u001B[39;00m \u001B[38;5;129;01mnot\u001B[39;00m progress_bar \u001B[38;5;129;01mor\u001B[39;00m \u001B[38;5;124m\"\u001B[39m\u001B[38;5;124mNUMPYRO_SPHINXBUILD\u001B[39m\u001B[38;5;124m\"\u001B[39m \u001B[38;5;129;01min\u001B[39;00m os\u001B[38;5;241m.\u001B[39menviron \u001B[38;5;28;01melse\u001B[39;00m \u001B[38;5;28;01mTrue\u001B[39;00m,\n\u001B[1;32m    111\u001B[0m )\n\u001B[0;32m--> 112\u001B[0m \u001B[43mmcmc\u001B[49m\u001B[38;5;241;43m.\u001B[39;49m\u001B[43mrun\u001B[49m\u001B[43m(\u001B[49m\u001B[43mrng_key_train\u001B[49m\u001B[43m,\u001B[49m\u001B[43m \u001B[49m\u001B[43mX\u001B[49m\u001B[43m,\u001B[49m\u001B[43m \u001B[49m\u001B[43mY\u001B[49m\u001B[43m)\u001B[49m\n\u001B[1;32m    113\u001B[0m \u001B[38;5;66;03m# mcmc.print_summary()\u001B[39;00m\n\u001B[1;32m    114\u001B[0m \u001B[38;5;28mprint\u001B[39m(\u001B[38;5;124m\"\u001B[39m\u001B[38;5;130;01m\\n\u001B[39;00m\u001B[38;5;124mMCMC elapsed time:\u001B[39m\u001B[38;5;124m\"\u001B[39m, time\u001B[38;5;241m.\u001B[39mtime() \u001B[38;5;241m-\u001B[39m start)\n",
      "File \u001B[0;32m~/miniconda3/envs/bnn/lib/python3.10/site-packages/numpyro/infer/mcmc.py:628\u001B[0m, in \u001B[0;36mMCMC.run\u001B[0;34m(self, rng_key, extra_fields, init_params, *args, **kwargs)\u001B[0m\n\u001B[1;32m    626\u001B[0m map_args \u001B[38;5;241m=\u001B[39m (rng_key, init_state, init_params)\n\u001B[1;32m    627\u001B[0m \u001B[38;5;28;01mif\u001B[39;00m \u001B[38;5;28mself\u001B[39m\u001B[38;5;241m.\u001B[39mnum_chains \u001B[38;5;241m==\u001B[39m \u001B[38;5;241m1\u001B[39m:\n\u001B[0;32m--> 628\u001B[0m     states_flat, last_state \u001B[38;5;241m=\u001B[39m \u001B[43mpartial_map_fn\u001B[49m\u001B[43m(\u001B[49m\u001B[43mmap_args\u001B[49m\u001B[43m)\u001B[49m\n\u001B[1;32m    629\u001B[0m     states \u001B[38;5;241m=\u001B[39m tree_map(\u001B[38;5;28;01mlambda\u001B[39;00m x: x[jnp\u001B[38;5;241m.\u001B[39mnewaxis, \u001B[38;5;241m.\u001B[39m\u001B[38;5;241m.\u001B[39m\u001B[38;5;241m.\u001B[39m], states_flat)\n\u001B[1;32m    630\u001B[0m \u001B[38;5;28;01melse\u001B[39;00m:\n",
      "File \u001B[0;32m~/miniconda3/envs/bnn/lib/python3.10/site-packages/numpyro/infer/mcmc.py:434\u001B[0m, in \u001B[0;36mMCMC._single_chain_mcmc\u001B[0;34m(self, init, args, kwargs, collect_fields)\u001B[0m\n\u001B[1;32m    428\u001B[0m collection_size \u001B[38;5;241m=\u001B[39m \u001B[38;5;28mself\u001B[39m\u001B[38;5;241m.\u001B[39m_collection_params[\u001B[38;5;124m\"\u001B[39m\u001B[38;5;124mcollection_size\u001B[39m\u001B[38;5;124m\"\u001B[39m]\n\u001B[1;32m    429\u001B[0m collection_size \u001B[38;5;241m=\u001B[39m (\n\u001B[1;32m    430\u001B[0m     collection_size\n\u001B[1;32m    431\u001B[0m     \u001B[38;5;28;01mif\u001B[39;00m collection_size \u001B[38;5;129;01mis\u001B[39;00m \u001B[38;5;28;01mNone\u001B[39;00m\n\u001B[1;32m    432\u001B[0m     \u001B[38;5;28;01melse\u001B[39;00m collection_size \u001B[38;5;241m/\u001B[39m\u001B[38;5;241m/\u001B[39m \u001B[38;5;28mself\u001B[39m\u001B[38;5;241m.\u001B[39mthinning\n\u001B[1;32m    433\u001B[0m )\n\u001B[0;32m--> 434\u001B[0m collect_vals \u001B[38;5;241m=\u001B[39m \u001B[43mfori_collect\u001B[49m\u001B[43m(\u001B[49m\n\u001B[1;32m    435\u001B[0m \u001B[43m    \u001B[49m\u001B[43mlower_idx\u001B[49m\u001B[43m,\u001B[49m\n\u001B[1;32m    436\u001B[0m \u001B[43m    \u001B[49m\u001B[43mupper_idx\u001B[49m\u001B[43m,\u001B[49m\n\u001B[1;32m    437\u001B[0m \u001B[43m    \u001B[49m\u001B[43msample_fn\u001B[49m\u001B[43m,\u001B[49m\n\u001B[1;32m    438\u001B[0m \u001B[43m    \u001B[49m\u001B[43minit_val\u001B[49m\u001B[43m,\u001B[49m\n\u001B[1;32m    439\u001B[0m \u001B[43m    \u001B[49m\u001B[43mtransform\u001B[49m\u001B[38;5;241;43m=\u001B[39;49m\u001B[43m_collect_fn\u001B[49m\u001B[43m(\u001B[49m\u001B[43mcollect_fields\u001B[49m\u001B[43m)\u001B[49m\u001B[43m,\u001B[49m\n\u001B[1;32m    440\u001B[0m \u001B[43m    \u001B[49m\u001B[43mprogbar\u001B[49m\u001B[38;5;241;43m=\u001B[39;49m\u001B[38;5;28;43mself\u001B[39;49m\u001B[38;5;241;43m.\u001B[39;49m\u001B[43mprogress_bar\u001B[49m\u001B[43m,\u001B[49m\n\u001B[1;32m    441\u001B[0m \u001B[43m    \u001B[49m\u001B[43mreturn_last_val\u001B[49m\u001B[38;5;241;43m=\u001B[39;49m\u001B[38;5;28;43;01mTrue\u001B[39;49;00m\u001B[43m,\u001B[49m\n\u001B[1;32m    442\u001B[0m \u001B[43m    \u001B[49m\u001B[43mthinning\u001B[49m\u001B[38;5;241;43m=\u001B[39;49m\u001B[38;5;28;43mself\u001B[39;49m\u001B[38;5;241;43m.\u001B[39;49m\u001B[43mthinning\u001B[49m\u001B[43m,\u001B[49m\n\u001B[1;32m    443\u001B[0m \u001B[43m    \u001B[49m\u001B[43mcollection_size\u001B[49m\u001B[38;5;241;43m=\u001B[39;49m\u001B[43mcollection_size\u001B[49m\u001B[43m,\u001B[49m\n\u001B[1;32m    444\u001B[0m \u001B[43m    \u001B[49m\u001B[43mprogbar_desc\u001B[49m\u001B[38;5;241;43m=\u001B[39;49m\u001B[43mpartial\u001B[49m\u001B[43m(\u001B[49m\u001B[43m_get_progbar_desc_str\u001B[49m\u001B[43m,\u001B[49m\u001B[43m \u001B[49m\u001B[43mlower_idx\u001B[49m\u001B[43m,\u001B[49m\u001B[43m \u001B[49m\u001B[43mphase\u001B[49m\u001B[43m)\u001B[49m\u001B[43m,\u001B[49m\n\u001B[1;32m    445\u001B[0m \u001B[43m    \u001B[49m\u001B[43mdiagnostics_fn\u001B[49m\u001B[38;5;241;43m=\u001B[39;49m\u001B[43mdiagnostics\u001B[49m\u001B[43m,\u001B[49m\n\u001B[1;32m    446\u001B[0m \u001B[43m    \u001B[49m\u001B[43mnum_chains\u001B[49m\u001B[38;5;241;43m=\u001B[39;49m\u001B[38;5;28;43mself\u001B[39;49m\u001B[38;5;241;43m.\u001B[39;49m\u001B[43mnum_chains\u001B[49m\u001B[43m \u001B[49m\u001B[38;5;28;43;01mif\u001B[39;49;00m\u001B[43m \u001B[49m\u001B[38;5;28;43mself\u001B[39;49m\u001B[38;5;241;43m.\u001B[39;49m\u001B[43mchain_method\u001B[49m\u001B[43m \u001B[49m\u001B[38;5;241;43m==\u001B[39;49m\u001B[43m \u001B[49m\u001B[38;5;124;43m\"\u001B[39;49m\u001B[38;5;124;43mparallel\u001B[39;49m\u001B[38;5;124;43m\"\u001B[39;49m\u001B[43m \u001B[49m\u001B[38;5;28;43;01melse\u001B[39;49;00m\u001B[43m \u001B[49m\u001B[38;5;241;43m1\u001B[39;49m\u001B[43m,\u001B[49m\n\u001B[1;32m    447\u001B[0m \u001B[43m\u001B[49m\u001B[43m)\u001B[49m\n\u001B[1;32m    448\u001B[0m states, last_val \u001B[38;5;241m=\u001B[39m collect_vals\n\u001B[1;32m    449\u001B[0m \u001B[38;5;66;03m# Get first argument of type `HMCState`\u001B[39;00m\n",
      "File \u001B[0;32m~/miniconda3/envs/bnn/lib/python3.10/site-packages/numpyro/util.py:358\u001B[0m, in \u001B[0;36mfori_collect\u001B[0;34m(lower, upper, body_fun, init_val, transform, progbar, return_last_val, collection_size, thinning, **progbar_opts)\u001B[0m\n\u001B[1;32m    356\u001B[0m \u001B[38;5;28;01mwith\u001B[39;00m tqdm\u001B[38;5;241m.\u001B[39mtrange(upper) \u001B[38;5;28;01mas\u001B[39;00m t:\n\u001B[1;32m    357\u001B[0m     \u001B[38;5;28;01mfor\u001B[39;00m i \u001B[38;5;129;01min\u001B[39;00m t:\n\u001B[0;32m--> 358\u001B[0m         vals \u001B[38;5;241m=\u001B[39m \u001B[43mjit\u001B[49m\u001B[43m(\u001B[49m\u001B[43m_body_fn\u001B[49m\u001B[43m)\u001B[49m\u001B[43m(\u001B[49m\u001B[43mi\u001B[49m\u001B[43m,\u001B[49m\u001B[43m \u001B[49m\u001B[43mvals\u001B[49m\u001B[43m)\u001B[49m\n\u001B[1;32m    359\u001B[0m         t\u001B[38;5;241m.\u001B[39mset_description(progbar_desc(i), refresh\u001B[38;5;241m=\u001B[39m\u001B[38;5;28;01mFalse\u001B[39;00m)\n\u001B[1;32m    360\u001B[0m         \u001B[38;5;28;01mif\u001B[39;00m diagnostics_fn:\n",
      "    \u001B[0;31m[... skipping hidden 1 frame]\u001B[0m\n",
      "File \u001B[0;32m~/miniconda3/envs/bnn/lib/python3.10/site-packages/jax/_src/api.py:622\u001B[0m, in \u001B[0;36m_cpp_jit.<locals>.cache_miss\u001B[0;34m(*args, **kwargs)\u001B[0m\n\u001B[1;32m    619\u001B[0m execute \u001B[38;5;241m=\u001B[39m \u001B[38;5;28;01mNone\u001B[39;00m\n\u001B[1;32m    620\u001B[0m \u001B[38;5;28;01mif\u001B[39;00m \u001B[38;5;28misinstance\u001B[39m(top_trace, core\u001B[38;5;241m.\u001B[39mEvalTrace) \u001B[38;5;129;01mand\u001B[39;00m \u001B[38;5;129;01mnot\u001B[39;00m (\n\u001B[1;32m    621\u001B[0m     jax\u001B[38;5;241m.\u001B[39mconfig\u001B[38;5;241m.\u001B[39mjax_debug_nans \u001B[38;5;129;01mor\u001B[39;00m jax\u001B[38;5;241m.\u001B[39mconfig\u001B[38;5;241m.\u001B[39mjax_debug_infs):\n\u001B[0;32m--> 622\u001B[0m   execute \u001B[38;5;241m=\u001B[39m \u001B[43mdispatch\u001B[49m\u001B[38;5;241;43m.\u001B[39;49m\u001B[43m_xla_call_impl_lazy\u001B[49m\u001B[43m(\u001B[49m\u001B[43mfun_\u001B[49m\u001B[43m,\u001B[49m\u001B[43m \u001B[49m\u001B[38;5;241;43m*\u001B[39;49m\u001B[43mtracers\u001B[49m\u001B[43m,\u001B[49m\u001B[43m \u001B[49m\u001B[38;5;241;43m*\u001B[39;49m\u001B[38;5;241;43m*\u001B[39;49m\u001B[43mparams\u001B[49m\u001B[43m)\u001B[49m\n\u001B[1;32m    623\u001B[0m   out_flat \u001B[38;5;241m=\u001B[39m call_bind_continuation(execute(\u001B[38;5;241m*\u001B[39margs_flat))\n\u001B[1;32m    624\u001B[0m \u001B[38;5;28;01melse\u001B[39;00m:\n",
      "File \u001B[0;32m~/miniconda3/envs/bnn/lib/python3.10/site-packages/jax/_src/dispatch.py:236\u001B[0m, in \u001B[0;36m_xla_call_impl_lazy\u001B[0;34m(***failed resolving arguments***)\u001B[0m\n\u001B[1;32m    234\u001B[0m     \u001B[38;5;28;01mraise\u001B[39;00m \u001B[38;5;167;01mNotImplementedError\u001B[39;00m(\u001B[38;5;124m'\u001B[39m\u001B[38;5;124mDynamic shapes do not work with Array.\u001B[39m\u001B[38;5;124m'\u001B[39m)\n\u001B[1;32m    235\u001B[0m   arg_specs \u001B[38;5;241m=\u001B[39m [(\u001B[38;5;28;01mNone\u001B[39;00m, \u001B[38;5;28mgetattr\u001B[39m(x, \u001B[38;5;124m'\u001B[39m\u001B[38;5;124m_device\u001B[39m\u001B[38;5;124m'\u001B[39m, \u001B[38;5;28;01mNone\u001B[39;00m)) \u001B[38;5;28;01mfor\u001B[39;00m x \u001B[38;5;129;01min\u001B[39;00m args]\n\u001B[0;32m--> 236\u001B[0m \u001B[38;5;28;01mreturn\u001B[39;00m \u001B[43mxla_callable\u001B[49m\u001B[43m(\u001B[49m\u001B[43mfun\u001B[49m\u001B[43m,\u001B[49m\u001B[43m \u001B[49m\u001B[43mdevice\u001B[49m\u001B[43m,\u001B[49m\u001B[43m \u001B[49m\u001B[43mbackend\u001B[49m\u001B[43m,\u001B[49m\u001B[43m \u001B[49m\u001B[43mname\u001B[49m\u001B[43m,\u001B[49m\u001B[43m \u001B[49m\u001B[43mdonated_invars\u001B[49m\u001B[43m,\u001B[49m\u001B[43m \u001B[49m\u001B[43mkeep_unused\u001B[49m\u001B[43m,\u001B[49m\n\u001B[1;32m    237\u001B[0m \u001B[43m                    \u001B[49m\u001B[38;5;241;43m*\u001B[39;49m\u001B[43marg_specs\u001B[49m\u001B[43m)\u001B[49m\n",
      "File \u001B[0;32m~/miniconda3/envs/bnn/lib/python3.10/site-packages/jax/linear_util.py:303\u001B[0m, in \u001B[0;36mcache.<locals>.memoized_fun\u001B[0;34m(fun, *args)\u001B[0m\n\u001B[1;32m    301\u001B[0m   fun\u001B[38;5;241m.\u001B[39mpopulate_stores(stores)\n\u001B[1;32m    302\u001B[0m \u001B[38;5;28;01melse\u001B[39;00m:\n\u001B[0;32m--> 303\u001B[0m   ans \u001B[38;5;241m=\u001B[39m \u001B[43mcall\u001B[49m\u001B[43m(\u001B[49m\u001B[43mfun\u001B[49m\u001B[43m,\u001B[49m\u001B[43m \u001B[49m\u001B[38;5;241;43m*\u001B[39;49m\u001B[43margs\u001B[49m\u001B[43m)\u001B[49m\n\u001B[1;32m    304\u001B[0m   cache[key] \u001B[38;5;241m=\u001B[39m (ans, fun\u001B[38;5;241m.\u001B[39mstores)\n\u001B[1;32m    306\u001B[0m \u001B[38;5;28;01mreturn\u001B[39;00m ans\n",
      "File \u001B[0;32m~/miniconda3/envs/bnn/lib/python3.10/site-packages/jax/_src/dispatch.py:359\u001B[0m, in \u001B[0;36m_xla_callable_uncached\u001B[0;34m(fun, device, backend, name, donated_invars, keep_unused, *arg_specs)\u001B[0m\n\u001B[1;32m    357\u001B[0m   \u001B[38;5;28;01mreturn\u001B[39;00m computation\u001B[38;5;241m.\u001B[39mcompile(_allow_propagation_to_outputs\u001B[38;5;241m=\u001B[39m\u001B[38;5;28;01mTrue\u001B[39;00m)\u001B[38;5;241m.\u001B[39munsafe_call\n\u001B[1;32m    358\u001B[0m \u001B[38;5;28;01melse\u001B[39;00m:\n\u001B[0;32m--> 359\u001B[0m   \u001B[38;5;28;01mreturn\u001B[39;00m \u001B[43mlower_xla_callable\u001B[49m\u001B[43m(\u001B[49m\u001B[43mfun\u001B[49m\u001B[43m,\u001B[49m\u001B[43m \u001B[49m\u001B[43mdevice\u001B[49m\u001B[43m,\u001B[49m\u001B[43m \u001B[49m\u001B[43mbackend\u001B[49m\u001B[43m,\u001B[49m\u001B[43m \u001B[49m\u001B[43mname\u001B[49m\u001B[43m,\u001B[49m\u001B[43m \u001B[49m\u001B[43mdonated_invars\u001B[49m\u001B[43m,\u001B[49m\u001B[43m \u001B[49m\u001B[38;5;28;43;01mFalse\u001B[39;49;00m\u001B[43m,\u001B[49m\n\u001B[1;32m    360\u001B[0m \u001B[43m                            \u001B[49m\u001B[43mkeep_unused\u001B[49m\u001B[43m,\u001B[49m\u001B[43m \u001B[49m\u001B[38;5;241;43m*\u001B[39;49m\u001B[43marg_specs\u001B[49m\u001B[43m)\u001B[49m\u001B[38;5;241m.\u001B[39mcompile()\u001B[38;5;241m.\u001B[39munsafe_call\n",
      "File \u001B[0;32m~/miniconda3/envs/bnn/lib/python3.10/site-packages/jax/_src/profiler.py:314\u001B[0m, in \u001B[0;36mannotate_function.<locals>.wrapper\u001B[0;34m(*args, **kwargs)\u001B[0m\n\u001B[1;32m    311\u001B[0m \u001B[38;5;129m@wraps\u001B[39m(func)\n\u001B[1;32m    312\u001B[0m \u001B[38;5;28;01mdef\u001B[39;00m \u001B[38;5;21mwrapper\u001B[39m(\u001B[38;5;241m*\u001B[39margs, \u001B[38;5;241m*\u001B[39m\u001B[38;5;241m*\u001B[39mkwargs):\n\u001B[1;32m    313\u001B[0m   \u001B[38;5;28;01mwith\u001B[39;00m TraceAnnotation(name, \u001B[38;5;241m*\u001B[39m\u001B[38;5;241m*\u001B[39mdecorator_kwargs):\n\u001B[0;32m--> 314\u001B[0m     \u001B[38;5;28;01mreturn\u001B[39;00m \u001B[43mfunc\u001B[49m\u001B[43m(\u001B[49m\u001B[38;5;241;43m*\u001B[39;49m\u001B[43margs\u001B[49m\u001B[43m,\u001B[49m\u001B[43m \u001B[49m\u001B[38;5;241;43m*\u001B[39;49m\u001B[38;5;241;43m*\u001B[39;49m\u001B[43mkwargs\u001B[49m\u001B[43m)\u001B[49m\n\u001B[1;32m    315\u001B[0m   \u001B[38;5;28;01mreturn\u001B[39;00m wrapper\n",
      "File \u001B[0;32m~/miniconda3/envs/bnn/lib/python3.10/site-packages/jax/_src/dispatch.py:445\u001B[0m, in \u001B[0;36mlower_xla_callable\u001B[0;34m(fun, device, backend, name, donated_invars, always_lower, keep_unused, *arg_specs)\u001B[0m\n\u001B[1;32m    441\u001B[0m   abstract_args \u001B[38;5;241m=\u001B[39m \u001B[38;5;28mtuple\u001B[39m(aval \u001B[38;5;28;01mfor\u001B[39;00m aval, _ \u001B[38;5;129;01min\u001B[39;00m fun\u001B[38;5;241m.\u001B[39min_type)\n\u001B[1;32m    443\u001B[0m \u001B[38;5;28;01mwith\u001B[39;00m log_elapsed_time(\u001B[38;5;124mf\u001B[39m\u001B[38;5;124m\"\u001B[39m\u001B[38;5;124mFinished tracing + transforming \u001B[39m\u001B[38;5;132;01m{\u001B[39;00mfun\u001B[38;5;241m.\u001B[39m\u001B[38;5;18m__name__\u001B[39m\u001B[38;5;132;01m}\u001B[39;00m\u001B[38;5;124m \u001B[39m\u001B[38;5;124m\"\u001B[39m\n\u001B[1;32m    444\u001B[0m                       \u001B[38;5;124m\"\u001B[39m\u001B[38;5;124mfor jit in \u001B[39m\u001B[38;5;132;01m{elapsed_time}\u001B[39;00m\u001B[38;5;124m sec\u001B[39m\u001B[38;5;124m\"\u001B[39m):\n\u001B[0;32m--> 445\u001B[0m   jaxpr, out_type, consts \u001B[38;5;241m=\u001B[39m \u001B[43mpe\u001B[49m\u001B[38;5;241;43m.\u001B[39;49m\u001B[43mtrace_to_jaxpr_final2\u001B[49m\u001B[43m(\u001B[49m\n\u001B[1;32m    446\u001B[0m \u001B[43m      \u001B[49m\u001B[43mfun\u001B[49m\u001B[43m,\u001B[49m\u001B[43m \u001B[49m\u001B[43mpe\u001B[49m\u001B[38;5;241;43m.\u001B[39;49m\u001B[43mdebug_info_final\u001B[49m\u001B[43m(\u001B[49m\u001B[43mfun\u001B[49m\u001B[43m,\u001B[49m\u001B[43m \u001B[49m\u001B[38;5;124;43m\"\u001B[39;49m\u001B[38;5;124;43mjit\u001B[39;49m\u001B[38;5;124;43m\"\u001B[39;49m\u001B[43m)\u001B[49m\u001B[43m)\u001B[49m\n\u001B[1;32m    447\u001B[0m out_avals, kept_outputs \u001B[38;5;241m=\u001B[39m util\u001B[38;5;241m.\u001B[39munzip2(out_type)\n\u001B[1;32m    449\u001B[0m \u001B[38;5;28;01mif\u001B[39;00m \u001B[38;5;28many\u001B[39m(\u001B[38;5;28misinstance\u001B[39m(c, core\u001B[38;5;241m.\u001B[39mTracer) \u001B[38;5;28;01mfor\u001B[39;00m c \u001B[38;5;129;01min\u001B[39;00m consts):\n",
      "File \u001B[0;32m~/miniconda3/envs/bnn/lib/python3.10/site-packages/jax/_src/profiler.py:314\u001B[0m, in \u001B[0;36mannotate_function.<locals>.wrapper\u001B[0;34m(*args, **kwargs)\u001B[0m\n\u001B[1;32m    311\u001B[0m \u001B[38;5;129m@wraps\u001B[39m(func)\n\u001B[1;32m    312\u001B[0m \u001B[38;5;28;01mdef\u001B[39;00m \u001B[38;5;21mwrapper\u001B[39m(\u001B[38;5;241m*\u001B[39margs, \u001B[38;5;241m*\u001B[39m\u001B[38;5;241m*\u001B[39mkwargs):\n\u001B[1;32m    313\u001B[0m   \u001B[38;5;28;01mwith\u001B[39;00m TraceAnnotation(name, \u001B[38;5;241m*\u001B[39m\u001B[38;5;241m*\u001B[39mdecorator_kwargs):\n\u001B[0;32m--> 314\u001B[0m     \u001B[38;5;28;01mreturn\u001B[39;00m \u001B[43mfunc\u001B[49m\u001B[43m(\u001B[49m\u001B[38;5;241;43m*\u001B[39;49m\u001B[43margs\u001B[49m\u001B[43m,\u001B[49m\u001B[43m \u001B[49m\u001B[38;5;241;43m*\u001B[39;49m\u001B[38;5;241;43m*\u001B[39;49m\u001B[43mkwargs\u001B[49m\u001B[43m)\u001B[49m\n\u001B[1;32m    315\u001B[0m   \u001B[38;5;28;01mreturn\u001B[39;00m wrapper\n",
      "File \u001B[0;32m~/miniconda3/envs/bnn/lib/python3.10/site-packages/jax/interpreters/partial_eval.py:2077\u001B[0m, in \u001B[0;36mtrace_to_jaxpr_final2\u001B[0;34m(fun, debug_info)\u001B[0m\n\u001B[1;32m   2075\u001B[0m   main\u001B[38;5;241m.\u001B[39mjaxpr_stack \u001B[38;5;241m=\u001B[39m ()  \u001B[38;5;66;03m# type: ignore\u001B[39;00m\n\u001B[1;32m   2076\u001B[0m   \u001B[38;5;28;01mwith\u001B[39;00m core\u001B[38;5;241m.\u001B[39mnew_sublevel():\n\u001B[0;32m-> 2077\u001B[0m     jaxpr, out_type, consts \u001B[38;5;241m=\u001B[39m \u001B[43mtrace_to_subjaxpr_dynamic2\u001B[49m\u001B[43m(\u001B[49m\u001B[43mfun\u001B[49m\u001B[43m,\u001B[49m\u001B[43m \u001B[49m\u001B[43mmain\u001B[49m\u001B[43m,\u001B[49m\u001B[43m \u001B[49m\u001B[43mdebug_info\u001B[49m\u001B[43m)\u001B[49m\n\u001B[1;32m   2078\u001B[0m   \u001B[38;5;28;01mdel\u001B[39;00m fun, main\n\u001B[1;32m   2079\u001B[0m \u001B[38;5;28;01mreturn\u001B[39;00m jaxpr, out_type, consts\n",
      "File \u001B[0;32m~/miniconda3/envs/bnn/lib/python3.10/site-packages/jax/interpreters/partial_eval.py:2027\u001B[0m, in \u001B[0;36mtrace_to_subjaxpr_dynamic2\u001B[0;34m(fun, main, debug_info)\u001B[0m\n\u001B[1;32m   2025\u001B[0m in_tracers \u001B[38;5;241m=\u001B[39m _input_type_to_tracers(trace\u001B[38;5;241m.\u001B[39mnew_arg, in_avals)\n\u001B[1;32m   2026\u001B[0m in_tracers_ \u001B[38;5;241m=\u001B[39m [t \u001B[38;5;28;01mfor\u001B[39;00m t, keep \u001B[38;5;129;01min\u001B[39;00m \u001B[38;5;28mzip\u001B[39m(in_tracers, keep_inputs) \u001B[38;5;28;01mif\u001B[39;00m keep]\n\u001B[0;32m-> 2027\u001B[0m ans \u001B[38;5;241m=\u001B[39m \u001B[43mfun\u001B[49m\u001B[38;5;241;43m.\u001B[39;49m\u001B[43mcall_wrapped\u001B[49m\u001B[43m(\u001B[49m\u001B[38;5;241;43m*\u001B[39;49m\u001B[43min_tracers_\u001B[49m\u001B[43m)\u001B[49m\n\u001B[1;32m   2028\u001B[0m out_tracers \u001B[38;5;241m=\u001B[39m \u001B[38;5;28mmap\u001B[39m(trace\u001B[38;5;241m.\u001B[39mfull_raise, ans)\n\u001B[1;32m   2029\u001B[0m jaxpr, out_type, consts \u001B[38;5;241m=\u001B[39m frame\u001B[38;5;241m.\u001B[39mto_jaxpr2(out_tracers)\n",
      "File \u001B[0;32m~/miniconda3/envs/bnn/lib/python3.10/site-packages/jax/linear_util.py:167\u001B[0m, in \u001B[0;36mWrappedFun.call_wrapped\u001B[0;34m(self, *args, **kwargs)\u001B[0m\n\u001B[1;32m    164\u001B[0m gen \u001B[38;5;241m=\u001B[39m gen_static_args \u001B[38;5;241m=\u001B[39m out_store \u001B[38;5;241m=\u001B[39m \u001B[38;5;28;01mNone\u001B[39;00m\n\u001B[1;32m    166\u001B[0m \u001B[38;5;28;01mtry\u001B[39;00m:\n\u001B[0;32m--> 167\u001B[0m   ans \u001B[38;5;241m=\u001B[39m \u001B[38;5;28;43mself\u001B[39;49m\u001B[38;5;241;43m.\u001B[39;49m\u001B[43mf\u001B[49m\u001B[43m(\u001B[49m\u001B[38;5;241;43m*\u001B[39;49m\u001B[43margs\u001B[49m\u001B[43m,\u001B[49m\u001B[43m \u001B[49m\u001B[38;5;241;43m*\u001B[39;49m\u001B[38;5;241;43m*\u001B[39;49m\u001B[38;5;28;43mdict\u001B[39;49m\u001B[43m(\u001B[49m\u001B[38;5;28;43mself\u001B[39;49m\u001B[38;5;241;43m.\u001B[39;49m\u001B[43mparams\u001B[49m\u001B[43m,\u001B[49m\u001B[43m \u001B[49m\u001B[38;5;241;43m*\u001B[39;49m\u001B[38;5;241;43m*\u001B[39;49m\u001B[43mkwargs\u001B[49m\u001B[43m)\u001B[49m\u001B[43m)\u001B[49m\n\u001B[1;32m    168\u001B[0m \u001B[38;5;28;01mexcept\u001B[39;00m:\n\u001B[1;32m    169\u001B[0m   \u001B[38;5;66;03m# Some transformations yield from inside context managers, so we have to\u001B[39;00m\n\u001B[1;32m    170\u001B[0m   \u001B[38;5;66;03m# interrupt them before reraising the exception. Otherwise they will only\u001B[39;00m\n\u001B[1;32m    171\u001B[0m   \u001B[38;5;66;03m# get garbage-collected at some later time, running their cleanup tasks\u001B[39;00m\n\u001B[1;32m    172\u001B[0m   \u001B[38;5;66;03m# only after this exception is handled, which can corrupt the global\u001B[39;00m\n\u001B[1;32m    173\u001B[0m   \u001B[38;5;66;03m# state.\u001B[39;00m\n\u001B[1;32m    174\u001B[0m   \u001B[38;5;28;01mwhile\u001B[39;00m stack:\n",
      "File \u001B[0;32m~/miniconda3/envs/bnn/lib/python3.10/site-packages/numpyro/util.py:323\u001B[0m, in \u001B[0;36mfori_collect.<locals>._body_fn\u001B[0;34m(i, vals)\u001B[0m\n\u001B[1;32m    320\u001B[0m \u001B[38;5;129m@cached_by\u001B[39m(fori_collect, body_fun, transform)\n\u001B[1;32m    321\u001B[0m \u001B[38;5;28;01mdef\u001B[39;00m \u001B[38;5;21m_body_fn\u001B[39m(i, vals):\n\u001B[1;32m    322\u001B[0m     val, collection, start_idx, thinning \u001B[38;5;241m=\u001B[39m vals\n\u001B[0;32m--> 323\u001B[0m     val \u001B[38;5;241m=\u001B[39m \u001B[43mbody_fun\u001B[49m\u001B[43m(\u001B[49m\u001B[43mval\u001B[49m\u001B[43m)\u001B[49m\n\u001B[1;32m    324\u001B[0m     idx \u001B[38;5;241m=\u001B[39m (i \u001B[38;5;241m-\u001B[39m start_idx) \u001B[38;5;241m/\u001B[39m\u001B[38;5;241m/\u001B[39m thinning\n\u001B[1;32m    325\u001B[0m     collection \u001B[38;5;241m=\u001B[39m cond(\n\u001B[1;32m    326\u001B[0m         idx \u001B[38;5;241m>\u001B[39m\u001B[38;5;241m=\u001B[39m \u001B[38;5;241m0\u001B[39m,\n\u001B[1;32m    327\u001B[0m         collection,\n\u001B[0;32m   (...)\u001B[0m\n\u001B[1;32m    330\u001B[0m         identity,\n\u001B[1;32m    331\u001B[0m     )\n",
      "File \u001B[0;32m~/miniconda3/envs/bnn/lib/python3.10/site-packages/numpyro/infer/mcmc.py:172\u001B[0m, in \u001B[0;36m_sample_fn_nojit_args\u001B[0;34m(state, sampler, args, kwargs)\u001B[0m\n\u001B[1;32m    170\u001B[0m \u001B[38;5;28;01mdef\u001B[39;00m \u001B[38;5;21m_sample_fn_nojit_args\u001B[39m(state, sampler, args, kwargs):\n\u001B[1;32m    171\u001B[0m     \u001B[38;5;66;03m# state is a tuple of size 1 - containing HMCState\u001B[39;00m\n\u001B[0;32m--> 172\u001B[0m     \u001B[38;5;28;01mreturn\u001B[39;00m (\u001B[43msampler\u001B[49m\u001B[38;5;241;43m.\u001B[39;49m\u001B[43msample\u001B[49m\u001B[43m(\u001B[49m\u001B[43mstate\u001B[49m\u001B[43m[\u001B[49m\u001B[38;5;241;43m0\u001B[39;49m\u001B[43m]\u001B[49m\u001B[43m,\u001B[49m\u001B[43m \u001B[49m\u001B[43margs\u001B[49m\u001B[43m,\u001B[49m\u001B[43m \u001B[49m\u001B[43mkwargs\u001B[49m\u001B[43m)\u001B[49m,)\n",
      "File \u001B[0;32m~/miniconda3/envs/bnn/lib/python3.10/site-packages/numpyro/infer/hmc.py:778\u001B[0m, in \u001B[0;36mHMC.sample\u001B[0;34m(self, state, model_args, model_kwargs)\u001B[0m\n\u001B[1;32m    768\u001B[0m \u001B[38;5;28;01mdef\u001B[39;00m \u001B[38;5;21msample\u001B[39m(\u001B[38;5;28mself\u001B[39m, state, model_args, model_kwargs):\n\u001B[1;32m    769\u001B[0m     \u001B[38;5;124;03m\"\"\"\u001B[39;00m\n\u001B[1;32m    770\u001B[0m \u001B[38;5;124;03m    Run HMC from the given :data:`~numpyro.infer.hmc.HMCState` and return the resulting\u001B[39;00m\n\u001B[1;32m    771\u001B[0m \u001B[38;5;124;03m    :data:`~numpyro.infer.hmc.HMCState`.\u001B[39;00m\n\u001B[0;32m   (...)\u001B[0m\n\u001B[1;32m    776\u001B[0m \u001B[38;5;124;03m    :return: Next `state` after running HMC.\u001B[39;00m\n\u001B[1;32m    777\u001B[0m \u001B[38;5;124;03m    \"\"\"\u001B[39;00m\n\u001B[0;32m--> 778\u001B[0m     \u001B[38;5;28;01mreturn\u001B[39;00m \u001B[38;5;28;43mself\u001B[39;49m\u001B[38;5;241;43m.\u001B[39;49m\u001B[43m_sample_fn\u001B[49m\u001B[43m(\u001B[49m\u001B[43mstate\u001B[49m\u001B[43m,\u001B[49m\u001B[43m \u001B[49m\u001B[43mmodel_args\u001B[49m\u001B[43m,\u001B[49m\u001B[43m \u001B[49m\u001B[43mmodel_kwargs\u001B[49m\u001B[43m)\u001B[49m\n",
      "File \u001B[0;32m~/miniconda3/envs/bnn/lib/python3.10/site-packages/numpyro/infer/hmc.py:467\u001B[0m, in \u001B[0;36mhmc.<locals>.sample_kernel\u001B[0;34m(hmc_state, model_args, model_kwargs)\u001B[0m\n\u001B[1;32m    463\u001B[0m \u001B[38;5;28;01melse\u001B[39;00m:\n\u001B[1;32m    464\u001B[0m     hmc_length_args \u001B[38;5;241m=\u001B[39m (\n\u001B[1;32m    465\u001B[0m         jnp\u001B[38;5;241m.\u001B[39mwhere(hmc_state\u001B[38;5;241m.\u001B[39mi \u001B[38;5;241m<\u001B[39m wa_steps, max_treedepth[\u001B[38;5;241m0\u001B[39m], max_treedepth[\u001B[38;5;241m1\u001B[39m]),\n\u001B[1;32m    466\u001B[0m     )\n\u001B[0;32m--> 467\u001B[0m vv_state, energy, num_steps, accept_prob, diverging \u001B[38;5;241m=\u001B[39m \u001B[43m_next\u001B[49m\u001B[43m(\u001B[49m\n\u001B[1;32m    468\u001B[0m \u001B[43m    \u001B[49m\u001B[43mhmc_state\u001B[49m\u001B[38;5;241;43m.\u001B[39;49m\u001B[43madapt_state\u001B[49m\u001B[38;5;241;43m.\u001B[39;49m\u001B[43mstep_size\u001B[49m\u001B[43m,\u001B[49m\n\u001B[1;32m    469\u001B[0m \u001B[43m    \u001B[49m\u001B[43mhmc_state\u001B[49m\u001B[38;5;241;43m.\u001B[39;49m\u001B[43madapt_state\u001B[49m\u001B[38;5;241;43m.\u001B[39;49m\u001B[43minverse_mass_matrix\u001B[49m\u001B[43m,\u001B[49m\n\u001B[1;32m    470\u001B[0m \u001B[43m    \u001B[49m\u001B[43mvv_state\u001B[49m\u001B[43m,\u001B[49m\n\u001B[1;32m    471\u001B[0m \u001B[43m    \u001B[49m\u001B[43mmodel_args\u001B[49m\u001B[43m,\u001B[49m\n\u001B[1;32m    472\u001B[0m \u001B[43m    \u001B[49m\u001B[43mmodel_kwargs\u001B[49m\u001B[43m,\u001B[49m\n\u001B[1;32m    473\u001B[0m \u001B[43m    \u001B[49m\u001B[43mrng_key_transition\u001B[49m\u001B[43m,\u001B[49m\n\u001B[1;32m    474\u001B[0m \u001B[43m    \u001B[49m\u001B[38;5;241;43m*\u001B[39;49m\u001B[43mhmc_length_args\u001B[49m\u001B[43m,\u001B[49m\n\u001B[1;32m    475\u001B[0m \u001B[43m\u001B[49m\u001B[43m)\u001B[49m\n\u001B[1;32m    476\u001B[0m \u001B[38;5;66;03m# not update adapt_state after warmup phase\u001B[39;00m\n\u001B[1;32m    477\u001B[0m adapt_state \u001B[38;5;241m=\u001B[39m cond(\n\u001B[1;32m    478\u001B[0m     hmc_state\u001B[38;5;241m.\u001B[39mi \u001B[38;5;241m<\u001B[39m wa_steps,\n\u001B[1;32m    479\u001B[0m     (hmc_state\u001B[38;5;241m.\u001B[39mi, accept_prob, vv_state, hmc_state\u001B[38;5;241m.\u001B[39madapt_state),\n\u001B[0;32m   (...)\u001B[0m\n\u001B[1;32m    482\u001B[0m     identity,\n\u001B[1;32m    483\u001B[0m )\n",
      "File \u001B[0;32m~/miniconda3/envs/bnn/lib/python3.10/site-packages/numpyro/infer/hmc.py:407\u001B[0m, in \u001B[0;36mhmc.<locals>._nuts_next\u001B[0;34m(step_size, inverse_mass_matrix, vv_state, model_args, model_kwargs, rng_key, max_treedepth_current)\u001B[0m\n\u001B[1;32m    404\u001B[0m     pe_fn \u001B[38;5;241m=\u001B[39m potential_fn_gen(\u001B[38;5;241m*\u001B[39mmodel_args, \u001B[38;5;241m*\u001B[39m\u001B[38;5;241m*\u001B[39mmodel_kwargs)\n\u001B[1;32m    405\u001B[0m     _, vv_update \u001B[38;5;241m=\u001B[39m velocity_verlet(pe_fn, kinetic_fn, forward_mode_ad)\n\u001B[0;32m--> 407\u001B[0m binary_tree \u001B[38;5;241m=\u001B[39m \u001B[43mbuild_tree\u001B[49m\u001B[43m(\u001B[49m\n\u001B[1;32m    408\u001B[0m \u001B[43m    \u001B[49m\u001B[43mvv_update\u001B[49m\u001B[43m,\u001B[49m\n\u001B[1;32m    409\u001B[0m \u001B[43m    \u001B[49m\u001B[43mkinetic_fn\u001B[49m\u001B[43m,\u001B[49m\n\u001B[1;32m    410\u001B[0m \u001B[43m    \u001B[49m\u001B[43mvv_state\u001B[49m\u001B[43m,\u001B[49m\n\u001B[1;32m    411\u001B[0m \u001B[43m    \u001B[49m\u001B[43minverse_mass_matrix\u001B[49m\u001B[43m,\u001B[49m\n\u001B[1;32m    412\u001B[0m \u001B[43m    \u001B[49m\u001B[43mstep_size\u001B[49m\u001B[43m,\u001B[49m\n\u001B[1;32m    413\u001B[0m \u001B[43m    \u001B[49m\u001B[43mrng_key\u001B[49m\u001B[43m,\u001B[49m\n\u001B[1;32m    414\u001B[0m \u001B[43m    \u001B[49m\u001B[43mmax_delta_energy\u001B[49m\u001B[38;5;241;43m=\u001B[39;49m\u001B[43mmax_delta_energy\u001B[49m\u001B[43m,\u001B[49m\n\u001B[1;32m    415\u001B[0m \u001B[43m    \u001B[49m\u001B[43mmax_tree_depth\u001B[49m\u001B[38;5;241;43m=\u001B[39;49m\u001B[43m(\u001B[49m\u001B[43mmax_treedepth_current\u001B[49m\u001B[43m,\u001B[49m\u001B[43m \u001B[49m\u001B[38;5;28;43mmax\u001B[39;49m\u001B[43m(\u001B[49m\u001B[43mmax_treedepth\u001B[49m\u001B[43m)\u001B[49m\u001B[43m)\u001B[49m\u001B[43m,\u001B[49m\n\u001B[1;32m    416\u001B[0m \u001B[43m\u001B[49m\u001B[43m)\u001B[49m\n\u001B[1;32m    417\u001B[0m accept_prob \u001B[38;5;241m=\u001B[39m binary_tree\u001B[38;5;241m.\u001B[39msum_accept_probs \u001B[38;5;241m/\u001B[39m binary_tree\u001B[38;5;241m.\u001B[39mnum_proposals\n\u001B[1;32m    418\u001B[0m num_steps \u001B[38;5;241m=\u001B[39m binary_tree\u001B[38;5;241m.\u001B[39mnum_proposals\n",
      "File \u001B[0;32m~/miniconda3/envs/bnn/lib/python3.10/site-packages/numpyro/infer/hmc_util.py:1177\u001B[0m, in \u001B[0;36mbuild_tree\u001B[0;34m(verlet_update, kinetic_fn, verlet_state, inverse_mass_matrix, step_size, rng_key, max_delta_energy, max_tree_depth)\u001B[0m\n\u001B[1;32m   1174\u001B[0m     \u001B[38;5;28;01mreturn\u001B[39;00m tree, key\n\u001B[1;32m   1176\u001B[0m state \u001B[38;5;241m=\u001B[39m (tree, rng_key)\n\u001B[0;32m-> 1177\u001B[0m tree, _ \u001B[38;5;241m=\u001B[39m \u001B[43mwhile_loop\u001B[49m\u001B[43m(\u001B[49m\u001B[43m_cond_fn\u001B[49m\u001B[43m,\u001B[49m\u001B[43m \u001B[49m\u001B[43m_body_fn\u001B[49m\u001B[43m,\u001B[49m\u001B[43m \u001B[49m\u001B[43mstate\u001B[49m\u001B[43m)\u001B[49m\n\u001B[1;32m   1178\u001B[0m \u001B[38;5;28;01mreturn\u001B[39;00m tree\n",
      "File \u001B[0;32m~/miniconda3/envs/bnn/lib/python3.10/site-packages/numpyro/util.py:131\u001B[0m, in \u001B[0;36mwhile_loop\u001B[0;34m(cond_fun, body_fun, init_val)\u001B[0m\n\u001B[1;32m    129\u001B[0m     \u001B[38;5;28;01mreturn\u001B[39;00m val\n\u001B[1;32m    130\u001B[0m \u001B[38;5;28;01melse\u001B[39;00m:\n\u001B[0;32m--> 131\u001B[0m     \u001B[38;5;28;01mreturn\u001B[39;00m \u001B[43mlax\u001B[49m\u001B[38;5;241;43m.\u001B[39;49m\u001B[43mwhile_loop\u001B[49m\u001B[43m(\u001B[49m\u001B[43mcond_fun\u001B[49m\u001B[43m,\u001B[49m\u001B[43m \u001B[49m\u001B[43mbody_fun\u001B[49m\u001B[43m,\u001B[49m\u001B[43m \u001B[49m\u001B[43minit_val\u001B[49m\u001B[43m)\u001B[49m\n",
      "    \u001B[0;31m[... skipping hidden 1 frame]\u001B[0m\n",
      "File \u001B[0;32m~/miniconda3/envs/bnn/lib/python3.10/site-packages/jax/_src/lax/control_flow/loops.py:1111\u001B[0m, in \u001B[0;36mwhile_loop\u001B[0;34m(cond_fun, body_fun, init_val)\u001B[0m\n\u001B[1;32m   1104\u001B[0m   \u001B[38;5;28;01mreturn\u001B[39;00m init_vals, init_avals, body_jaxpr, in_tree, cond_jaxpr, cond_consts, body_consts, body_tree\n\u001B[1;32m   1106\u001B[0m \u001B[38;5;66;03m# The body input and output avals must match exactly. However, we want to account for\u001B[39;00m\n\u001B[1;32m   1107\u001B[0m \u001B[38;5;66;03m# the case when init contains weakly-typed values (e.g. Python scalars), with avals that\u001B[39;00m\n\u001B[1;32m   1108\u001B[0m \u001B[38;5;66;03m# may not match the output despite being compatible by virtue of their weak type.\u001B[39;00m\n\u001B[1;32m   1109\u001B[0m \u001B[38;5;66;03m# To do this, we compute the jaxpr in two passes: first with the raw inputs, and if\u001B[39;00m\n\u001B[1;32m   1110\u001B[0m \u001B[38;5;66;03m# necessary, a second time with modified init values.\u001B[39;00m\n\u001B[0;32m-> 1111\u001B[0m init_vals, init_avals, body_jaxpr, in_tree, \u001B[38;5;241m*\u001B[39mrest \u001B[38;5;241m=\u001B[39m \u001B[43m_create_jaxpr\u001B[49m\u001B[43m(\u001B[49m\u001B[43minit_val\u001B[49m\u001B[43m)\u001B[49m\n\u001B[1;32m   1112\u001B[0m new_init_vals, changed \u001B[38;5;241m=\u001B[39m _promote_weak_typed_inputs(init_vals, init_avals, body_jaxpr\u001B[38;5;241m.\u001B[39mout_avals)\n\u001B[1;32m   1113\u001B[0m \u001B[38;5;28;01mif\u001B[39;00m changed:\n",
      "File \u001B[0;32m~/miniconda3/envs/bnn/lib/python3.10/site-packages/jax/_src/lax/control_flow/loops.py:1094\u001B[0m, in \u001B[0;36mwhile_loop.<locals>._create_jaxpr\u001B[0;34m(init_val)\u001B[0m\n\u001B[1;32m   1091\u001B[0m init_avals \u001B[38;5;241m=\u001B[39m \u001B[38;5;28mtuple\u001B[39m(_map(_abstractify, init_vals))\n\u001B[1;32m   1092\u001B[0m cond_jaxpr, cond_consts, cond_tree \u001B[38;5;241m=\u001B[39m _initial_style_jaxpr(\n\u001B[1;32m   1093\u001B[0m     cond_fun, in_tree, init_avals, \u001B[38;5;124m\"\u001B[39m\u001B[38;5;124mwhile_cond\u001B[39m\u001B[38;5;124m\"\u001B[39m)\n\u001B[0;32m-> 1094\u001B[0m body_jaxpr, body_consts, body_tree \u001B[38;5;241m=\u001B[39m \u001B[43m_initial_style_jaxpr\u001B[49m\u001B[43m(\u001B[49m\n\u001B[1;32m   1095\u001B[0m \u001B[43m    \u001B[49m\u001B[43mbody_fun\u001B[49m\u001B[43m,\u001B[49m\u001B[43m \u001B[49m\u001B[43min_tree\u001B[49m\u001B[43m,\u001B[49m\u001B[43m \u001B[49m\u001B[43minit_avals\u001B[49m\u001B[43m,\u001B[49m\u001B[43m \u001B[49m\u001B[38;5;124;43m\"\u001B[39;49m\u001B[38;5;124;43mwhile_loop\u001B[39;49m\u001B[38;5;124;43m\"\u001B[39;49m\u001B[43m)\u001B[49m\n\u001B[1;32m   1096\u001B[0m \u001B[38;5;28;01mif\u001B[39;00m \u001B[38;5;129;01mnot\u001B[39;00m treedef_is_leaf(cond_tree) \u001B[38;5;129;01mor\u001B[39;00m \u001B[38;5;28mlen\u001B[39m(cond_jaxpr\u001B[38;5;241m.\u001B[39mout_avals) \u001B[38;5;241m!=\u001B[39m \u001B[38;5;241m1\u001B[39m:\n\u001B[1;32m   1097\u001B[0m   msg \u001B[38;5;241m=\u001B[39m \u001B[38;5;124m\"\u001B[39m\u001B[38;5;124mcond_fun must return a boolean scalar, but got pytree \u001B[39m\u001B[38;5;132;01m{}\u001B[39;00m\u001B[38;5;124m.\u001B[39m\u001B[38;5;124m\"\u001B[39m\n",
      "File \u001B[0;32m~/miniconda3/envs/bnn/lib/python3.10/site-packages/jax/_src/lax/control_flow/common.py:60\u001B[0m, in \u001B[0;36m_initial_style_jaxpr\u001B[0;34m(fun, in_tree, in_avals, primitive_name)\u001B[0m\n\u001B[1;32m     57\u001B[0m \u001B[38;5;129m@weakref_lru_cache\u001B[39m\n\u001B[1;32m     58\u001B[0m \u001B[38;5;28;01mdef\u001B[39;00m \u001B[38;5;21m_initial_style_jaxpr\u001B[39m(fun: Callable, in_tree, in_avals,\n\u001B[1;32m     59\u001B[0m                          primitive_name: Optional[\u001B[38;5;28mstr\u001B[39m] \u001B[38;5;241m=\u001B[39m \u001B[38;5;28;01mNone\u001B[39;00m):\n\u001B[0;32m---> 60\u001B[0m   jaxpr, consts, out_tree \u001B[38;5;241m=\u001B[39m \u001B[43m_initial_style_open_jaxpr\u001B[49m\u001B[43m(\u001B[49m\n\u001B[1;32m     61\u001B[0m \u001B[43m      \u001B[49m\u001B[43mfun\u001B[49m\u001B[43m,\u001B[49m\u001B[43m \u001B[49m\u001B[43min_tree\u001B[49m\u001B[43m,\u001B[49m\u001B[43m \u001B[49m\u001B[43min_avals\u001B[49m\u001B[43m,\u001B[49m\u001B[43m \u001B[49m\u001B[43mprimitive_name\u001B[49m\u001B[43m)\u001B[49m\n\u001B[1;32m     62\u001B[0m   closed_jaxpr \u001B[38;5;241m=\u001B[39m core\u001B[38;5;241m.\u001B[39mClosedJaxpr(pe\u001B[38;5;241m.\u001B[39mconvert_constvars_jaxpr(jaxpr), ())\n\u001B[1;32m     63\u001B[0m   \u001B[38;5;28;01mreturn\u001B[39;00m closed_jaxpr, consts, out_tree\n",
      "File \u001B[0;32m~/miniconda3/envs/bnn/lib/python3.10/site-packages/jax/_src/lax/control_flow/common.py:54\u001B[0m, in \u001B[0;36m_initial_style_open_jaxpr\u001B[0;34m(fun, in_tree, in_avals, primitive_name)\u001B[0m\n\u001B[1;32m     52\u001B[0m wrapped_fun, out_tree \u001B[38;5;241m=\u001B[39m flatten_fun_nokwargs(lu\u001B[38;5;241m.\u001B[39mwrap_init(fun), in_tree)\n\u001B[1;32m     53\u001B[0m debug \u001B[38;5;241m=\u001B[39m pe\u001B[38;5;241m.\u001B[39mdebug_info(fun, in_tree, \u001B[38;5;28;01mFalse\u001B[39;00m, primitive_name \u001B[38;5;129;01mor\u001B[39;00m \u001B[38;5;124m\"\u001B[39m\u001B[38;5;124m<unknown>\u001B[39m\u001B[38;5;124m\"\u001B[39m)\n\u001B[0;32m---> 54\u001B[0m jaxpr, _, consts \u001B[38;5;241m=\u001B[39m \u001B[43mpe\u001B[49m\u001B[38;5;241;43m.\u001B[39;49m\u001B[43mtrace_to_jaxpr_dynamic\u001B[49m\u001B[43m(\u001B[49m\u001B[43mwrapped_fun\u001B[49m\u001B[43m,\u001B[49m\u001B[43m \u001B[49m\u001B[43min_avals\u001B[49m\u001B[43m,\u001B[49m\u001B[43m \u001B[49m\u001B[43mdebug\u001B[49m\u001B[43m)\u001B[49m\n\u001B[1;32m     55\u001B[0m \u001B[38;5;28;01mreturn\u001B[39;00m jaxpr, consts, out_tree()\n",
      "File \u001B[0;32m~/miniconda3/envs/bnn/lib/python3.10/site-packages/jax/_src/profiler.py:314\u001B[0m, in \u001B[0;36mannotate_function.<locals>.wrapper\u001B[0;34m(*args, **kwargs)\u001B[0m\n\u001B[1;32m    311\u001B[0m \u001B[38;5;129m@wraps\u001B[39m(func)\n\u001B[1;32m    312\u001B[0m \u001B[38;5;28;01mdef\u001B[39;00m \u001B[38;5;21mwrapper\u001B[39m(\u001B[38;5;241m*\u001B[39margs, \u001B[38;5;241m*\u001B[39m\u001B[38;5;241m*\u001B[39mkwargs):\n\u001B[1;32m    313\u001B[0m   \u001B[38;5;28;01mwith\u001B[39;00m TraceAnnotation(name, \u001B[38;5;241m*\u001B[39m\u001B[38;5;241m*\u001B[39mdecorator_kwargs):\n\u001B[0;32m--> 314\u001B[0m     \u001B[38;5;28;01mreturn\u001B[39;00m \u001B[43mfunc\u001B[49m\u001B[43m(\u001B[49m\u001B[38;5;241;43m*\u001B[39;49m\u001B[43margs\u001B[49m\u001B[43m,\u001B[49m\u001B[43m \u001B[49m\u001B[38;5;241;43m*\u001B[39;49m\u001B[38;5;241;43m*\u001B[39;49m\u001B[43mkwargs\u001B[49m\u001B[43m)\u001B[49m\n\u001B[1;32m    315\u001B[0m   \u001B[38;5;28;01mreturn\u001B[39;00m wrapper\n",
      "File \u001B[0;32m~/miniconda3/envs/bnn/lib/python3.10/site-packages/jax/interpreters/partial_eval.py:1981\u001B[0m, in \u001B[0;36mtrace_to_jaxpr_dynamic\u001B[0;34m(fun, in_avals, debug_info, keep_inputs)\u001B[0m\n\u001B[1;32m   1979\u001B[0m \u001B[38;5;28;01mwith\u001B[39;00m core\u001B[38;5;241m.\u001B[39mnew_main(DynamicJaxprTrace, dynamic\u001B[38;5;241m=\u001B[39m\u001B[38;5;28;01mTrue\u001B[39;00m) \u001B[38;5;28;01mas\u001B[39;00m main:  \u001B[38;5;66;03m# type: ignore\u001B[39;00m\n\u001B[1;32m   1980\u001B[0m   main\u001B[38;5;241m.\u001B[39mjaxpr_stack \u001B[38;5;241m=\u001B[39m ()  \u001B[38;5;66;03m# type: ignore\u001B[39;00m\n\u001B[0;32m-> 1981\u001B[0m   jaxpr, out_avals, consts \u001B[38;5;241m=\u001B[39m \u001B[43mtrace_to_subjaxpr_dynamic\u001B[49m\u001B[43m(\u001B[49m\n\u001B[1;32m   1982\u001B[0m \u001B[43m    \u001B[49m\u001B[43mfun\u001B[49m\u001B[43m,\u001B[49m\u001B[43m \u001B[49m\u001B[43mmain\u001B[49m\u001B[43m,\u001B[49m\u001B[43m \u001B[49m\u001B[43min_avals\u001B[49m\u001B[43m,\u001B[49m\u001B[43m \u001B[49m\u001B[43mkeep_inputs\u001B[49m\u001B[38;5;241;43m=\u001B[39;49m\u001B[43mkeep_inputs\u001B[49m\u001B[43m,\u001B[49m\u001B[43m \u001B[49m\u001B[43mdebug_info\u001B[49m\u001B[38;5;241;43m=\u001B[39;49m\u001B[43mdebug_info\u001B[49m\u001B[43m)\u001B[49m\n\u001B[1;32m   1983\u001B[0m   \u001B[38;5;28;01mdel\u001B[39;00m main, fun\n\u001B[1;32m   1984\u001B[0m \u001B[38;5;28;01mreturn\u001B[39;00m jaxpr, out_avals, consts\n",
      "File \u001B[0;32m~/miniconda3/envs/bnn/lib/python3.10/site-packages/jax/interpreters/partial_eval.py:1998\u001B[0m, in \u001B[0;36mtrace_to_subjaxpr_dynamic\u001B[0;34m(fun, main, in_avals, keep_inputs, debug_info)\u001B[0m\n\u001B[1;32m   1996\u001B[0m in_tracers \u001B[38;5;241m=\u001B[39m _input_type_to_tracers(trace\u001B[38;5;241m.\u001B[39mnew_arg, in_avals)\n\u001B[1;32m   1997\u001B[0m in_tracers_ \u001B[38;5;241m=\u001B[39m [t \u001B[38;5;28;01mfor\u001B[39;00m t, keep \u001B[38;5;129;01min\u001B[39;00m \u001B[38;5;28mzip\u001B[39m(in_tracers, keep_inputs) \u001B[38;5;28;01mif\u001B[39;00m keep]\n\u001B[0;32m-> 1998\u001B[0m ans \u001B[38;5;241m=\u001B[39m \u001B[43mfun\u001B[49m\u001B[38;5;241;43m.\u001B[39;49m\u001B[43mcall_wrapped\u001B[49m\u001B[43m(\u001B[49m\u001B[38;5;241;43m*\u001B[39;49m\u001B[43min_tracers_\u001B[49m\u001B[43m)\u001B[49m\n\u001B[1;32m   1999\u001B[0m out_tracers \u001B[38;5;241m=\u001B[39m \u001B[38;5;28mmap\u001B[39m(trace\u001B[38;5;241m.\u001B[39mfull_raise, ans)\n\u001B[1;32m   2000\u001B[0m jaxpr, consts \u001B[38;5;241m=\u001B[39m frame\u001B[38;5;241m.\u001B[39mto_jaxpr(out_tracers)\n",
      "File \u001B[0;32m~/miniconda3/envs/bnn/lib/python3.10/site-packages/jax/linear_util.py:167\u001B[0m, in \u001B[0;36mWrappedFun.call_wrapped\u001B[0;34m(self, *args, **kwargs)\u001B[0m\n\u001B[1;32m    164\u001B[0m gen \u001B[38;5;241m=\u001B[39m gen_static_args \u001B[38;5;241m=\u001B[39m out_store \u001B[38;5;241m=\u001B[39m \u001B[38;5;28;01mNone\u001B[39;00m\n\u001B[1;32m    166\u001B[0m \u001B[38;5;28;01mtry\u001B[39;00m:\n\u001B[0;32m--> 167\u001B[0m   ans \u001B[38;5;241m=\u001B[39m \u001B[38;5;28;43mself\u001B[39;49m\u001B[38;5;241;43m.\u001B[39;49m\u001B[43mf\u001B[49m\u001B[43m(\u001B[49m\u001B[38;5;241;43m*\u001B[39;49m\u001B[43margs\u001B[49m\u001B[43m,\u001B[49m\u001B[43m \u001B[49m\u001B[38;5;241;43m*\u001B[39;49m\u001B[38;5;241;43m*\u001B[39;49m\u001B[38;5;28;43mdict\u001B[39;49m\u001B[43m(\u001B[49m\u001B[38;5;28;43mself\u001B[39;49m\u001B[38;5;241;43m.\u001B[39;49m\u001B[43mparams\u001B[49m\u001B[43m,\u001B[49m\u001B[43m \u001B[49m\u001B[38;5;241;43m*\u001B[39;49m\u001B[38;5;241;43m*\u001B[39;49m\u001B[43mkwargs\u001B[49m\u001B[43m)\u001B[49m\u001B[43m)\u001B[49m\n\u001B[1;32m    168\u001B[0m \u001B[38;5;28;01mexcept\u001B[39;00m:\n\u001B[1;32m    169\u001B[0m   \u001B[38;5;66;03m# Some transformations yield from inside context managers, so we have to\u001B[39;00m\n\u001B[1;32m    170\u001B[0m   \u001B[38;5;66;03m# interrupt them before reraising the exception. Otherwise they will only\u001B[39;00m\n\u001B[1;32m    171\u001B[0m   \u001B[38;5;66;03m# get garbage-collected at some later time, running their cleanup tasks\u001B[39;00m\n\u001B[1;32m    172\u001B[0m   \u001B[38;5;66;03m# only after this exception is handled, which can corrupt the global\u001B[39;00m\n\u001B[1;32m    173\u001B[0m   \u001B[38;5;66;03m# state.\u001B[39;00m\n\u001B[1;32m    174\u001B[0m   \u001B[38;5;28;01mwhile\u001B[39;00m stack:\n",
      "File \u001B[0;32m~/miniconda3/envs/bnn/lib/python3.10/site-packages/numpyro/infer/hmc_util.py:1161\u001B[0m, in \u001B[0;36mbuild_tree.<locals>._body_fn\u001B[0;34m(state)\u001B[0m\n\u001B[1;32m   1159\u001B[0m key, direction_key, doubling_key \u001B[38;5;241m=\u001B[39m random\u001B[38;5;241m.\u001B[39msplit(key, \u001B[38;5;241m3\u001B[39m)\n\u001B[1;32m   1160\u001B[0m going_right \u001B[38;5;241m=\u001B[39m random\u001B[38;5;241m.\u001B[39mbernoulli(direction_key)\n\u001B[0;32m-> 1161\u001B[0m tree \u001B[38;5;241m=\u001B[39m \u001B[43m_double_tree\u001B[49m\u001B[43m(\u001B[49m\n\u001B[1;32m   1162\u001B[0m \u001B[43m    \u001B[49m\u001B[43mtree\u001B[49m\u001B[43m,\u001B[49m\n\u001B[1;32m   1163\u001B[0m \u001B[43m    \u001B[49m\u001B[43mverlet_update\u001B[49m\u001B[43m,\u001B[49m\n\u001B[1;32m   1164\u001B[0m \u001B[43m    \u001B[49m\u001B[43mkinetic_fn\u001B[49m\u001B[43m,\u001B[49m\n\u001B[1;32m   1165\u001B[0m \u001B[43m    \u001B[49m\u001B[43minverse_mass_matrix\u001B[49m\u001B[43m,\u001B[49m\n\u001B[1;32m   1166\u001B[0m \u001B[43m    \u001B[49m\u001B[43mstep_size\u001B[49m\u001B[43m,\u001B[49m\n\u001B[1;32m   1167\u001B[0m \u001B[43m    \u001B[49m\u001B[43mgoing_right\u001B[49m\u001B[43m,\u001B[49m\n\u001B[1;32m   1168\u001B[0m \u001B[43m    \u001B[49m\u001B[43mdoubling_key\u001B[49m\u001B[43m,\u001B[49m\n\u001B[1;32m   1169\u001B[0m \u001B[43m    \u001B[49m\u001B[43menergy_current\u001B[49m\u001B[43m,\u001B[49m\n\u001B[1;32m   1170\u001B[0m \u001B[43m    \u001B[49m\u001B[43mmax_delta_energy\u001B[49m\u001B[43m,\u001B[49m\n\u001B[1;32m   1171\u001B[0m \u001B[43m    \u001B[49m\u001B[43mr_ckpts\u001B[49m\u001B[43m,\u001B[49m\n\u001B[1;32m   1172\u001B[0m \u001B[43m    \u001B[49m\u001B[43mr_sum_ckpts\u001B[49m\u001B[43m,\u001B[49m\n\u001B[1;32m   1173\u001B[0m \u001B[43m\u001B[49m\u001B[43m)\u001B[49m\n\u001B[1;32m   1174\u001B[0m \u001B[38;5;28;01mreturn\u001B[39;00m tree, key\n",
      "File \u001B[0;32m~/miniconda3/envs/bnn/lib/python3.10/site-packages/numpyro/infer/hmc_util.py:916\u001B[0m, in \u001B[0;36m_double_tree\u001B[0;34m(current_tree, vv_update, kinetic_fn, inverse_mass_matrix, step_size, going_right, rng_key, energy_current, max_delta_energy, r_ckpts, r_sum_ckpts)\u001B[0m\n\u001B[1;32m    901\u001B[0m \u001B[38;5;28;01mdef\u001B[39;00m \u001B[38;5;21m_double_tree\u001B[39m(\n\u001B[1;32m    902\u001B[0m     current_tree,\n\u001B[1;32m    903\u001B[0m     vv_update,\n\u001B[0;32m   (...)\u001B[0m\n\u001B[1;32m    912\u001B[0m     r_sum_ckpts,\n\u001B[1;32m    913\u001B[0m ):\n\u001B[1;32m    914\u001B[0m     key, transition_key \u001B[38;5;241m=\u001B[39m random\u001B[38;5;241m.\u001B[39msplit(rng_key)\n\u001B[0;32m--> 916\u001B[0m     new_tree \u001B[38;5;241m=\u001B[39m \u001B[43m_iterative_build_subtree\u001B[49m\u001B[43m(\u001B[49m\n\u001B[1;32m    917\u001B[0m \u001B[43m        \u001B[49m\u001B[43mcurrent_tree\u001B[49m\u001B[43m,\u001B[49m\n\u001B[1;32m    918\u001B[0m \u001B[43m        \u001B[49m\u001B[43mvv_update\u001B[49m\u001B[43m,\u001B[49m\n\u001B[1;32m    919\u001B[0m \u001B[43m        \u001B[49m\u001B[43mkinetic_fn\u001B[49m\u001B[43m,\u001B[49m\n\u001B[1;32m    920\u001B[0m \u001B[43m        \u001B[49m\u001B[43minverse_mass_matrix\u001B[49m\u001B[43m,\u001B[49m\n\u001B[1;32m    921\u001B[0m \u001B[43m        \u001B[49m\u001B[43mstep_size\u001B[49m\u001B[43m,\u001B[49m\n\u001B[1;32m    922\u001B[0m \u001B[43m        \u001B[49m\u001B[43mgoing_right\u001B[49m\u001B[43m,\u001B[49m\n\u001B[1;32m    923\u001B[0m \u001B[43m        \u001B[49m\u001B[43mkey\u001B[49m\u001B[43m,\u001B[49m\n\u001B[1;32m    924\u001B[0m \u001B[43m        \u001B[49m\u001B[43menergy_current\u001B[49m\u001B[43m,\u001B[49m\n\u001B[1;32m    925\u001B[0m \u001B[43m        \u001B[49m\u001B[43mmax_delta_energy\u001B[49m\u001B[43m,\u001B[49m\n\u001B[1;32m    926\u001B[0m \u001B[43m        \u001B[49m\u001B[43mr_ckpts\u001B[49m\u001B[43m,\u001B[49m\n\u001B[1;32m    927\u001B[0m \u001B[43m        \u001B[49m\u001B[43mr_sum_ckpts\u001B[49m\u001B[43m,\u001B[49m\n\u001B[1;32m    928\u001B[0m \u001B[43m    \u001B[49m\u001B[43m)\u001B[49m\n\u001B[1;32m    930\u001B[0m     \u001B[38;5;28;01mreturn\u001B[39;00m _combine_tree(\n\u001B[1;32m    931\u001B[0m         current_tree, new_tree, inverse_mass_matrix, going_right, transition_key, \u001B[38;5;28;01mTrue\u001B[39;00m\n\u001B[1;32m    932\u001B[0m     )\n",
      "File \u001B[0;32m~/miniconda3/envs/bnn/lib/python3.10/site-packages/numpyro/infer/hmc_util.py:1061\u001B[0m, in \u001B[0;36m_iterative_build_subtree\u001B[0;34m(prototype_tree, vv_update, kinetic_fn, inverse_mass_matrix, step_size, going_right, rng_key, energy_current, max_delta_energy, r_ckpts, r_sum_ckpts)\u001B[0m\n\u001B[1;32m   1057\u001B[0m     \u001B[38;5;28;01mreturn\u001B[39;00m new_tree, turning, r_ckpts, r_sum_ckpts, rng_key\n\u001B[1;32m   1059\u001B[0m basetree \u001B[38;5;241m=\u001B[39m prototype_tree\u001B[38;5;241m.\u001B[39m_replace(num_proposals\u001B[38;5;241m=\u001B[39m\u001B[38;5;241m0\u001B[39m)\n\u001B[0;32m-> 1061\u001B[0m tree, turning, _, _, _ \u001B[38;5;241m=\u001B[39m \u001B[43mwhile_loop\u001B[49m\u001B[43m(\u001B[49m\n\u001B[1;32m   1062\u001B[0m \u001B[43m    \u001B[49m\u001B[43m_cond_fn\u001B[49m\u001B[43m,\u001B[49m\u001B[43m \u001B[49m\u001B[43m_body_fn\u001B[49m\u001B[43m,\u001B[49m\u001B[43m \u001B[49m\u001B[43m(\u001B[49m\u001B[43mbasetree\u001B[49m\u001B[43m,\u001B[49m\u001B[43m \u001B[49m\u001B[38;5;28;43;01mFalse\u001B[39;49;00m\u001B[43m,\u001B[49m\u001B[43m \u001B[49m\u001B[43mr_ckpts\u001B[49m\u001B[43m,\u001B[49m\u001B[43m \u001B[49m\u001B[43mr_sum_ckpts\u001B[49m\u001B[43m,\u001B[49m\u001B[43m \u001B[49m\u001B[43mrng_key\u001B[49m\u001B[43m)\u001B[49m\n\u001B[1;32m   1063\u001B[0m \u001B[43m\u001B[49m\u001B[43m)\u001B[49m\n\u001B[1;32m   1064\u001B[0m \u001B[38;5;66;03m# update depth and turning condition\u001B[39;00m\n\u001B[1;32m   1065\u001B[0m \u001B[38;5;28;01mreturn\u001B[39;00m TreeInfo(\n\u001B[1;32m   1066\u001B[0m     tree\u001B[38;5;241m.\u001B[39mz_left,\n\u001B[1;32m   1067\u001B[0m     tree\u001B[38;5;241m.\u001B[39mr_left,\n\u001B[0;32m   (...)\u001B[0m\n\u001B[1;32m   1082\u001B[0m     tree\u001B[38;5;241m.\u001B[39mnum_proposals,\n\u001B[1;32m   1083\u001B[0m )\n",
      "File \u001B[0;32m~/miniconda3/envs/bnn/lib/python3.10/site-packages/numpyro/util.py:131\u001B[0m, in \u001B[0;36mwhile_loop\u001B[0;34m(cond_fun, body_fun, init_val)\u001B[0m\n\u001B[1;32m    129\u001B[0m     \u001B[38;5;28;01mreturn\u001B[39;00m val\n\u001B[1;32m    130\u001B[0m \u001B[38;5;28;01melse\u001B[39;00m:\n\u001B[0;32m--> 131\u001B[0m     \u001B[38;5;28;01mreturn\u001B[39;00m \u001B[43mlax\u001B[49m\u001B[38;5;241;43m.\u001B[39;49m\u001B[43mwhile_loop\u001B[49m\u001B[43m(\u001B[49m\u001B[43mcond_fun\u001B[49m\u001B[43m,\u001B[49m\u001B[43m \u001B[49m\u001B[43mbody_fun\u001B[49m\u001B[43m,\u001B[49m\u001B[43m \u001B[49m\u001B[43minit_val\u001B[49m\u001B[43m)\u001B[49m\n",
      "    \u001B[0;31m[... skipping hidden 1 frame]\u001B[0m\n",
      "File \u001B[0;32m~/miniconda3/envs/bnn/lib/python3.10/site-packages/jax/_src/lax/control_flow/loops.py:1128\u001B[0m, in \u001B[0;36mwhile_loop\u001B[0;34m(cond_fun, body_fun, init_val)\u001B[0m\n\u001B[1;32m   1125\u001B[0m \u001B[38;5;28;01mif\u001B[39;00m disallowed_effects:\n\u001B[1;32m   1126\u001B[0m   \u001B[38;5;28;01mraise\u001B[39;00m \u001B[38;5;167;01mNotImplementedError\u001B[39;00m(\n\u001B[1;32m   1127\u001B[0m       \u001B[38;5;124mf\u001B[39m\u001B[38;5;124m'\u001B[39m\u001B[38;5;124mEffects not supported in `while`: \u001B[39m\u001B[38;5;132;01m{\u001B[39;00mdisallowed_effects\u001B[38;5;132;01m}\u001B[39;00m\u001B[38;5;124m'\u001B[39m)\n\u001B[0;32m-> 1128\u001B[0m outs \u001B[38;5;241m=\u001B[39m \u001B[43mwhile_p\u001B[49m\u001B[38;5;241;43m.\u001B[39;49m\u001B[43mbind\u001B[49m\u001B[43m(\u001B[49m\u001B[38;5;241;43m*\u001B[39;49m\u001B[43mcond_consts\u001B[49m\u001B[43m,\u001B[49m\u001B[43m \u001B[49m\u001B[38;5;241;43m*\u001B[39;49m\u001B[43mbody_consts\u001B[49m\u001B[43m,\u001B[49m\u001B[43m \u001B[49m\u001B[38;5;241;43m*\u001B[39;49m\u001B[43minit_vals\u001B[49m\u001B[43m,\u001B[49m\n\u001B[1;32m   1129\u001B[0m \u001B[43m                    \u001B[49m\u001B[43mcond_nconsts\u001B[49m\u001B[38;5;241;43m=\u001B[39;49m\u001B[38;5;28;43mlen\u001B[39;49m\u001B[43m(\u001B[49m\u001B[43mcond_consts\u001B[49m\u001B[43m)\u001B[49m\u001B[43m,\u001B[49m\u001B[43m \u001B[49m\u001B[43mcond_jaxpr\u001B[49m\u001B[38;5;241;43m=\u001B[39;49m\u001B[43mcond_jaxpr\u001B[49m\u001B[43m,\u001B[49m\n\u001B[1;32m   1130\u001B[0m \u001B[43m                    \u001B[49m\u001B[43mbody_nconsts\u001B[49m\u001B[38;5;241;43m=\u001B[39;49m\u001B[38;5;28;43mlen\u001B[39;49m\u001B[43m(\u001B[49m\u001B[43mbody_consts\u001B[49m\u001B[43m)\u001B[49m\u001B[43m,\u001B[49m\u001B[43m \u001B[49m\u001B[43mbody_jaxpr\u001B[49m\u001B[38;5;241;43m=\u001B[39;49m\u001B[43mbody_jaxpr\u001B[49m\u001B[43m)\u001B[49m\n\u001B[1;32m   1131\u001B[0m \u001B[38;5;28;01mreturn\u001B[39;00m tree_unflatten(body_tree, outs)\n",
      "File \u001B[0;32m~/miniconda3/envs/bnn/lib/python3.10/site-packages/jax/core.py:2444\u001B[0m, in \u001B[0;36mAxisPrimitive.bind\u001B[0;34m(self, *args, **params)\u001B[0m\n\u001B[1;32m   2440\u001B[0m axis_main \u001B[38;5;241m=\u001B[39m \u001B[38;5;28mmax\u001B[39m((axis_frame(a)\u001B[38;5;241m.\u001B[39mmain_trace \u001B[38;5;28;01mfor\u001B[39;00m a \u001B[38;5;129;01min\u001B[39;00m used_axis_names(\u001B[38;5;28mself\u001B[39m, params)),\n\u001B[1;32m   2441\u001B[0m                 default\u001B[38;5;241m=\u001B[39m\u001B[38;5;28;01mNone\u001B[39;00m, key\u001B[38;5;241m=\u001B[39m\u001B[38;5;28;01mlambda\u001B[39;00m t: \u001B[38;5;28mgetattr\u001B[39m(t, \u001B[38;5;124m'\u001B[39m\u001B[38;5;124mlevel\u001B[39m\u001B[38;5;124m'\u001B[39m, \u001B[38;5;241m-\u001B[39m\u001B[38;5;241m1\u001B[39m))\n\u001B[1;32m   2442\u001B[0m top_trace \u001B[38;5;241m=\u001B[39m (top_trace \u001B[38;5;28;01mif\u001B[39;00m \u001B[38;5;129;01mnot\u001B[39;00m axis_main \u001B[38;5;129;01mor\u001B[39;00m axis_main\u001B[38;5;241m.\u001B[39mlevel \u001B[38;5;241m<\u001B[39m top_trace\u001B[38;5;241m.\u001B[39mlevel\n\u001B[1;32m   2443\u001B[0m              \u001B[38;5;28;01melse\u001B[39;00m axis_main\u001B[38;5;241m.\u001B[39mwith_cur_sublevel())\n\u001B[0;32m-> 2444\u001B[0m \u001B[38;5;28;01mreturn\u001B[39;00m \u001B[38;5;28;43mself\u001B[39;49m\u001B[38;5;241;43m.\u001B[39;49m\u001B[43mbind_with_trace\u001B[49m\u001B[43m(\u001B[49m\u001B[43mtop_trace\u001B[49m\u001B[43m,\u001B[49m\u001B[43m \u001B[49m\u001B[43margs\u001B[49m\u001B[43m,\u001B[49m\u001B[43m \u001B[49m\u001B[43mparams\u001B[49m\u001B[43m)\u001B[49m\n",
      "File \u001B[0;32m~/miniconda3/envs/bnn/lib/python3.10/site-packages/jax/core.py:332\u001B[0m, in \u001B[0;36mPrimitive.bind_with_trace\u001B[0;34m(self, trace, args, params)\u001B[0m\n\u001B[1;32m    331\u001B[0m \u001B[38;5;28;01mdef\u001B[39;00m \u001B[38;5;21mbind_with_trace\u001B[39m(\u001B[38;5;28mself\u001B[39m, trace, args, params):\n\u001B[0;32m--> 332\u001B[0m   out \u001B[38;5;241m=\u001B[39m trace\u001B[38;5;241m.\u001B[39mprocess_primitive(\u001B[38;5;28mself\u001B[39m, \u001B[38;5;28;43mmap\u001B[39;49m\u001B[43m(\u001B[49m\u001B[43mtrace\u001B[49m\u001B[38;5;241;43m.\u001B[39;49m\u001B[43mfull_raise\u001B[49m\u001B[43m,\u001B[49m\u001B[43m \u001B[49m\u001B[43margs\u001B[49m\u001B[43m)\u001B[49m, params)\n\u001B[1;32m    333\u001B[0m   \u001B[38;5;28;01mreturn\u001B[39;00m \u001B[38;5;28mmap\u001B[39m(full_lower, out) \u001B[38;5;28;01mif\u001B[39;00m \u001B[38;5;28mself\u001B[39m\u001B[38;5;241m.\u001B[39mmultiple_results \u001B[38;5;28;01melse\u001B[39;00m full_lower(out)\n",
      "File \u001B[0;32m~/miniconda3/envs/bnn/lib/python3.10/site-packages/jax/_src/util.py:78\u001B[0m, in \u001B[0;36msafe_map\u001B[0;34m(f, *args)\u001B[0m\n\u001B[1;32m     76\u001B[0m \u001B[38;5;28;01mfor\u001B[39;00m arg \u001B[38;5;129;01min\u001B[39;00m args[\u001B[38;5;241m1\u001B[39m:]:\n\u001B[1;32m     77\u001B[0m   \u001B[38;5;28;01massert\u001B[39;00m \u001B[38;5;28mlen\u001B[39m(arg) \u001B[38;5;241m==\u001B[39m n, \u001B[38;5;124mf\u001B[39m\u001B[38;5;124m'\u001B[39m\u001B[38;5;124mlength mismatch: \u001B[39m\u001B[38;5;132;01m{\u001B[39;00m\u001B[38;5;28mlist\u001B[39m(\u001B[38;5;28mmap\u001B[39m(\u001B[38;5;28mlen\u001B[39m, args))\u001B[38;5;132;01m}\u001B[39;00m\u001B[38;5;124m'\u001B[39m\n\u001B[0;32m---> 78\u001B[0m \u001B[38;5;28;01mreturn\u001B[39;00m \u001B[38;5;28;43mlist\u001B[39;49m\u001B[43m(\u001B[49m\u001B[38;5;28;43mmap\u001B[39;49m\u001B[43m(\u001B[49m\u001B[43mf\u001B[49m\u001B[43m,\u001B[49m\u001B[43m \u001B[49m\u001B[38;5;241;43m*\u001B[39;49m\u001B[43margs\u001B[49m\u001B[43m)\u001B[49m\u001B[43m)\u001B[49m\n",
      "File \u001B[0;32m~/miniconda3/envs/bnn/lib/python3.10/site-packages/jax/core.py:420\u001B[0m, in \u001B[0;36mTrace.full_raise\u001B[0;34m(self, val)\u001B[0m\n\u001B[1;32m    418\u001B[0m \u001B[38;5;28;01mdef\u001B[39;00m \u001B[38;5;21mfull_raise\u001B[39m(\u001B[38;5;28mself\u001B[39m, val) \u001B[38;5;241m-\u001B[39m\u001B[38;5;241m>\u001B[39m Tracer:\n\u001B[1;32m    419\u001B[0m   \u001B[38;5;28;01mif\u001B[39;00m \u001B[38;5;129;01mnot\u001B[39;00m \u001B[38;5;28misinstance\u001B[39m(val, Tracer):\n\u001B[0;32m--> 420\u001B[0m     \u001B[38;5;28;01mreturn\u001B[39;00m \u001B[38;5;28;43mself\u001B[39;49m\u001B[38;5;241;43m.\u001B[39;49m\u001B[43mpure\u001B[49m\u001B[43m(\u001B[49m\u001B[43mval\u001B[49m\u001B[43m)\u001B[49m\n\u001B[1;32m    421\u001B[0m   val\u001B[38;5;241m.\u001B[39m_assert_live()\n\u001B[1;32m    422\u001B[0m   level \u001B[38;5;241m=\u001B[39m \u001B[38;5;28mself\u001B[39m\u001B[38;5;241m.\u001B[39mlevel\n",
      "File \u001B[0;32m~/miniconda3/envs/bnn/lib/python3.10/site-packages/jax/interpreters/partial_eval.py:1657\u001B[0m, in \u001B[0;36mDynamicJaxprTrace.new_const\u001B[0;34m(self, c)\u001B[0m\n\u001B[1;32m   1655\u001B[0m tracer \u001B[38;5;241m=\u001B[39m \u001B[38;5;28mself\u001B[39m\u001B[38;5;241m.\u001B[39mframe\u001B[38;5;241m.\u001B[39mconstid_to_tracer\u001B[38;5;241m.\u001B[39mget(\u001B[38;5;28mid\u001B[39m(c))\n\u001B[1;32m   1656\u001B[0m \u001B[38;5;28;01mif\u001B[39;00m tracer \u001B[38;5;129;01mis\u001B[39;00m \u001B[38;5;28;01mNone\u001B[39;00m:\n\u001B[0;32m-> 1657\u001B[0m   aval \u001B[38;5;241m=\u001B[39m raise_to_shaped(\u001B[43mget_aval\u001B[49m\u001B[43m(\u001B[49m\u001B[43mc\u001B[49m\u001B[43m)\u001B[49m, weak_type\u001B[38;5;241m=\u001B[39mdtypes\u001B[38;5;241m.\u001B[39mis_weakly_typed(c))\n\u001B[1;32m   1658\u001B[0m   tracer \u001B[38;5;241m=\u001B[39m \u001B[38;5;28mself\u001B[39m\u001B[38;5;241m.\u001B[39m_new_const(aval, c)\n\u001B[1;32m   1659\u001B[0m \u001B[38;5;28;01mreturn\u001B[39;00m tracer\n",
      "File \u001B[0;32m~/miniconda3/envs/bnn/lib/python3.10/site-packages/jax/core.py:1256\u001B[0m, in \u001B[0;36mget_aval\u001B[0;34m(x)\u001B[0m\n\u001B[1;32m   1254\u001B[0m   \u001B[38;5;28;01mreturn\u001B[39;00m x\u001B[38;5;241m.\u001B[39maval\n\u001B[1;32m   1255\u001B[0m \u001B[38;5;28;01melse\u001B[39;00m:\n\u001B[0;32m-> 1256\u001B[0m   \u001B[38;5;28;01mreturn\u001B[39;00m \u001B[43mconcrete_aval\u001B[49m\u001B[43m(\u001B[49m\u001B[43mx\u001B[49m\u001B[43m)\u001B[49m\n",
      "File \u001B[0;32m~/miniconda3/envs/bnn/lib/python3.10/site-packages/jax/core.py:1245\u001B[0m, in \u001B[0;36mconcrete_aval\u001B[0;34m(x)\u001B[0m\n\u001B[1;32m   1243\u001B[0m \u001B[38;5;28;01mfor\u001B[39;00m typ \u001B[38;5;129;01min\u001B[39;00m \u001B[38;5;28mtype\u001B[39m(x)\u001B[38;5;241m.\u001B[39m\u001B[38;5;18m__mro__\u001B[39m:\n\u001B[1;32m   1244\u001B[0m   handler \u001B[38;5;241m=\u001B[39m pytype_aval_mappings\u001B[38;5;241m.\u001B[39mget(typ)\n\u001B[0;32m-> 1245\u001B[0m   \u001B[38;5;28;01mif\u001B[39;00m handler: \u001B[38;5;28;01mreturn\u001B[39;00m \u001B[43mhandler\u001B[49m\u001B[43m(\u001B[49m\u001B[43mx\u001B[49m\u001B[43m)\u001B[49m\n\u001B[1;32m   1246\u001B[0m \u001B[38;5;28;01mif\u001B[39;00m \u001B[38;5;28mhasattr\u001B[39m(x, \u001B[38;5;124m'\u001B[39m\u001B[38;5;124m__jax_array__\u001B[39m\u001B[38;5;124m'\u001B[39m):\n\u001B[1;32m   1247\u001B[0m   \u001B[38;5;28;01mreturn\u001B[39;00m concrete_aval(x\u001B[38;5;241m.\u001B[39m__jax_array__())\n",
      "File \u001B[0;32m~/miniconda3/envs/bnn/lib/python3.10/site-packages/jax/_src/abstract_arrays.py:69\u001B[0m, in \u001B[0;36m_make_concrete_python_scalar\u001B[0;34m(t, x)\u001B[0m\n\u001B[1;32m     67\u001B[0m \u001B[38;5;28;01mdef\u001B[39;00m \u001B[38;5;21m_make_concrete_python_scalar\u001B[39m(t, x):\n\u001B[1;32m     68\u001B[0m   dtype \u001B[38;5;241m=\u001B[39m dtypes\u001B[38;5;241m.\u001B[39m_scalar_type_to_dtype(t, x)\n\u001B[0;32m---> 69\u001B[0m   \u001B[38;5;28;01mreturn\u001B[39;00m canonical_concrete_aval(\u001B[43mnp\u001B[49m\u001B[38;5;241;43m.\u001B[39;49m\u001B[43marray\u001B[49m\u001B[43m(\u001B[49m\u001B[43mx\u001B[49m\u001B[43m,\u001B[49m\u001B[43m \u001B[49m\u001B[43mdtype\u001B[49m\u001B[38;5;241;43m=\u001B[39;49m\u001B[43mdtype\u001B[49m\u001B[43m)\u001B[49m, weak_type\u001B[38;5;241m=\u001B[39m\u001B[38;5;28;01mTrue\u001B[39;00m)\n",
      "\u001B[0;31mKeyboardInterrupt\u001B[0m: "
     ]
    }
   ],
   "source": [
    "experiment = BasicHMCExperiment(\n",
    "    bnn,\n",
    "    data,\n",
    "    num_samples = 60, num_warmup = 30,\n",
    "    # num_chains = 4, group_by_chain=True\n",
    ")\n",
    "experiment.run(random.PRNGKey(0))#.savefig(\"figs/simple_hmc_4.png\")"
   ],
   "metadata": {
    "collapsed": false
   }
  },
  {
   "cell_type": "code",
   "execution_count": null,
   "outputs": [],
   "source": [
    "# fig, axs = plt.subplots(nrows=2, ncols=2, figsize=(12,10), sharex=True, sharey=True)\n",
    "# for i, ax in enumerate(axs.ravel()):\n",
    "#     ax.plot(data.test[0][:, 1], experiment._predictions[\"Y_mean\"][..., 0][i].mean(axis=0))\n",
    "#     ax.fill_between(data.test[0][:, 1], *np.percentile(experiment._predictions[\"Y_mean\"][..., 0][i], (5.0, 95.0), axis=0), alpha=0.5, color=\"orange\")\n",
    "#     ax.fill_between(data.test[0][:, 1], *np.percentile(experiment._predictions[\"Y\"][..., 0][i], (5.0, 95.0), axis=0), alpha=0.5, color=\"lightgreen\")\n",
    "#     ax.plot(data.train[0][:, 1], data.train[1], \"kx\")\n",
    "#     ax.set_ylim(-6, +6)\n",
    "# fig.tight_layout()\n",
    "# fig.savefig(\"figs/hmc-by-chain.png\")"
   ],
   "metadata": {
    "collapsed": false
   }
  },
  {
   "cell_type": "code",
   "execution_count": null,
   "outputs": [],
   "source": [
    "experiment = AutoLaplaceExperiment(\n",
    "    fresh_bnn,\n",
    "    data,\n",
    "    num_samples=10_000,\n",
    "    max_iter=VI_MAX_ITER,\n",
    "    diag=True,\n",
    "    shrink=100.0,\n",
    ")\n",
    "rk = random.PRNGKey(0)\n",
    "# experiment.run(random.PRNGKey(1))\n",
    "# experiment.show_convergence_plot()\n",
    "# experiment.run(random.PRNGKey(1)).savefig(\"figs/simple_mfvi_4.png\")\n",
    "# experiment.show_convergence_plot().savefig(\"figs/simple_mfvi_conv_4.png\")"
   ],
   "metadata": {
    "collapsed": false
   }
  },
  {
   "cell_type": "code",
   "execution_count": null,
   "outputs": [],
   "source": [
    "assert False\n",
    "for i in tqdm.tqdm(range(15)):\n",
    "    rk, rkc = random.split(rk)\n",
    "    experiment.train(rkc)\n",
    "    with open(\"svi-state.pkl\", \"wb\") as f:\n",
    "        pickle.dump(experiment._saved_svi_state, f)\n",
    "    rk, rkc = random.split(rk)\n",
    "    experiment.make_predictions(rkc)\n",
    "    experiment.make_plots().savefig(f\"figs/post-pred-{i}.png\")\n",
    "    fig, ax = plt.subplots()\n",
    "    # ax.plot(experiment._losses[::(VI_MAX_ITER//50)])\n",
    "    ax.plot(experiment._eval_losses)\n",
    "    ax.set_ylim(experiment._eval_losses.min(), jnp.percentile(experiment._eval_losses, 90.0))\n",
    "    fig.savefig(f\"figs/loss-{i}.png\")"
   ],
   "metadata": {
    "collapsed": false
   }
  },
  {
   "cell_type": "code",
   "execution_count": null,
   "outputs": [],
   "source": [
    "# with open(\"/tmp/svi-state.pkl\", \"rb\") as f:\n",
    "#     print(pickle.load(f))"
   ],
   "metadata": {
    "collapsed": false
   }
  },
  {
   "cell_type": "code",
   "execution_count": null,
   "outputs": [],
   "source": [
    "# go again:\n",
    "rk, rkc = random.split(rk)\n",
    "experiment.train(rkc, num_iter=10_000)"
   ],
   "metadata": {
    "collapsed": false
   }
  },
  {
   "cell_type": "code",
   "execution_count": null,
   "outputs": [],
   "source": [
    "rk, rkc = random.split(rk)\n",
    "experiment.make_predictions(rkc)\n",
    "experiment.make_plots().show()"
   ],
   "metadata": {
    "collapsed": false
   }
  },
  {
   "cell_type": "code",
   "execution_count": null,
   "outputs": [],
   "source": [
    "fig, ax = plt.subplots()\n",
    "ax.plot(-experiment._eval_losses[:, 1], label=\"-loglik\")\n",
    "ax.plot(experiment._eval_losses[:, 2], label=\"+kl\")\n",
    "ax.legend()\n",
    "fig.show()"
   ],
   "metadata": {
    "collapsed": false
   }
  },
  {
   "cell_type": "code",
   "execution_count": null,
   "outputs": [],
   "source": [
    "fig, ax = plt.subplots()\n",
    "ax.plot(experiment._losses[1000::10*(VI_MAX_ITER // VI_MAX_ITER)])\n",
    "# ax.plot(experiment._eval_losses)\n",
    "ax.set_ylim(0, 1000)\n",
    "fig.show()"
   ],
   "metadata": {
    "collapsed": false
   }
  },
  {
   "cell_type": "markdown",
   "source": [
    "### Loglikelihood analysis"
   ],
   "metadata": {
    "collapsed": false
   }
  },
  {
   "cell_type": "code",
   "execution_count": null,
   "outputs": [],
   "source": [
    "def sample_posterior(rng_key):\n",
    "    fitted_guide = handlers.substitute(handlers.seed(experiment._get_guide(), rng_key), experiment._params)\n",
    "    trace = handlers.trace(fitted_guide).get_trace(X=experiment._data.train[0], Y=None)\n",
    "    # print(numpyro.util.format_shapes(trace))\n",
    "    return dict(w=trace[\"w\"][\"value\"])"
   ],
   "metadata": {
    "collapsed": false
   }
  },
  {
   "cell_type": "code",
   "execution_count": null,
   "outputs": [],
   "source": [
    "n = 6\n",
    "post_fns = vmap(sample_posterior)(random.split(random.PRNGKey(0), n))"
   ],
   "metadata": {
    "collapsed": false
   }
  },
  {
   "cell_type": "code",
   "execution_count": null,
   "outputs": [],
   "source": [
    "def loglik(rng_key, params):\n",
    "    rng_lik, rng_gen = random.split(rng_key)\n",
    "    model = handlers.substitute(handlers.seed(experiment._bnn, rng_lik), params)\n",
    "    trace = handlers.trace(model).get_trace(X=experiment._data.train[0], Y=experiment._data.train[1])\n",
    "    # print(numpyro.util.format_shapes(trace, compute_log_prob=True))\n",
    "    w_node = trace[\"w\"]\n",
    "    y_node = trace[\"Y\"]\n",
    "\n",
    "    model = handlers.substitute(handlers.seed(experiment._bnn, rng_gen), params)\n",
    "    trace =  handlers.trace(model).get_trace(X=experiment._data.test[0], Y=None)\n",
    "    return dict(prior_logprob=w_node['fn'].log_prob(w_node['value']),\n",
    "                loglik=y_node['fn'].log_prob(y_node['value']).sum(),\n",
    "                Y_mean=trace[\"Y_mean\"][\"value\"].squeeze(),\n",
    "                Y_scale=trace[\"Y_scale\"][\"value\"].squeeze())"
   ],
   "metadata": {
    "collapsed": false
   }
  },
  {
   "cell_type": "code",
   "execution_count": null,
   "outputs": [],
   "source": [
    "ll = vmap(loglik)(random.split(random.PRNGKey(1), n), post_fns)"
   ],
   "metadata": {
    "collapsed": false
   }
  },
  {
   "cell_type": "code",
   "execution_count": null,
   "outputs": [],
   "source": [
    "fig, axs = plt.subplots(ncols=3, nrows=2, figsize=(9, 6))\n",
    "for i, ax in enumerate(axs.ravel()):\n",
    "    ax.plot(data.train[0][:, 1], data.train[1][:, 0], 'kx', alpha=0.2)\n",
    "    ax.plot(data.test[0][:, 1], ll['Y_mean'][i])\n",
    "    ax.fill_between(data.test[0][:, 1], ll['Y_mean'][i] - ll['Y_scale'][i] * 2,\n",
    "                    ll['Y_mean'][i] + ll['Y_scale'][i] * 2, alpha=0.2)\n",
    "    ax.set_title(f\"loglik={ll['loglik'][i]:.3f}\\nlogprior={ll['prior_logprob'][i]:.3f}\")\n",
    "fig.tight_layout()\n",
    "fig.show()"
   ],
   "metadata": {
    "collapsed": false
   }
  },
  {
   "cell_type": "code",
   "execution_count": null,
   "outputs": [],
   "source": [
    "# fig, ax = plt.subplots()\n",
    "# for i in range(10):\n",
    "#     ax.plot(fresh_data.test[0][:, 1], preds[i])\n",
    "# plt.show()"
   ],
   "metadata": {
    "collapsed": false
   }
  },
  {
   "cell_type": "code",
   "execution_count": null,
   "outputs": [],
   "source": [
    "# fig.savefig(\"figs/posterior_predictive_1.png\")"
   ],
   "metadata": {
    "collapsed": false
   }
  },
  {
   "cell_type": "markdown",
   "source": [
    "### Sequential experiment"
   ],
   "metadata": {
    "collapsed": false
   }
  },
  {
   "cell_type": "code",
   "execution_count": null,
   "outputs": [],
   "source": [],
   "metadata": {
    "collapsed": false
   }
  },
  {
   "cell_type": "markdown",
   "source": [
    "## Space for running experiments"
   ],
   "metadata": {
    "collapsed": false
   }
  },
  {
   "cell_type": "code",
   "execution_count": null,
   "outputs": [],
   "source": [
    "tr = handlers.trace(handlers.seed(bnn, random.PRNGKey(0))).get_trace(X=data.train[0], Y=None)\n",
    "print(numpyro.util.format_shapes(tr, compute_log_prob=True))"
   ],
   "metadata": {
    "collapsed": false
   }
  },
  {
   "cell_type": "code",
   "execution_count": null,
   "outputs": [],
   "source": [
    "# fresh_bnn = copy.deepcopy(bnn)\n",
    "fresh_data = copy.deepcopy(data)\n",
    "first_half_data = DataSlice(fresh_data, slice(50))\n",
    "second_half_data = DataSlice(fresh_data, slice(50,100))"
   ],
   "metadata": {
    "collapsed": false
   }
  },
  {
   "cell_type": "code",
   "execution_count": null,
   "outputs": [],
   "source": [
    "first_half_experiment = BasicMeanFieldGaussianVIExperiment(fresh_bnn, first_half_data, num_samples=1000, max_iter=VI_MAX_ITER)\n",
    "first_half_experiment.run(random.PRNGKey(0)).savefig(\"figs/manual_first_half_VI_4.png\")\n",
    "first_half_experiment.show_convergence_plot().savefig(\"figs/manual_first_half_VI_conv_4.png\")"
   ],
   "metadata": {
    "collapsed": false
   }
  },
  {
   "cell_type": "code",
   "execution_count": null,
   "outputs": [],
   "source": [
    "# rk = random.PRNGKey(0)\n",
    "# # For consistency with exp\n",
    "# rk, _ = random.split(rk)"
   ],
   "metadata": {
    "collapsed": false
   }
  },
  {
   "cell_type": "code",
   "execution_count": null,
   "outputs": [],
   "source": [
    "# first_half_experiment._data.train[0][..., 1].max()"
   ],
   "metadata": {
    "collapsed": false
   }
  },
  {
   "cell_type": "code",
   "execution_count": null,
   "outputs": [],
   "source": [
    "# rk, rkc = random.split(rk)\n",
    "# first_half_experiment.train(rkc, num_iter=1_000)"
   ],
   "metadata": {
    "collapsed": false
   }
  },
  {
   "cell_type": "code",
   "execution_count": null,
   "outputs": [],
   "source": [
    "# rk, rkc = random.split(rk)\n",
    "# first_half_experiment.make_predictions(rkc)\n",
    "# first_half_experiment.make_plots().show()"
   ],
   "metadata": {
    "collapsed": false
   }
  },
  {
   "cell_type": "code",
   "execution_count": null,
   "outputs": [],
   "source": [
    "# plt.plot(first_half_experiment._losses[::(VI_MAX_ITER // 50)])\n",
    "# plt.plot(first_half_experiment._eval_losses)"
   ],
   "metadata": {
    "collapsed": false
   }
  },
  {
   "cell_type": "code",
   "execution_count": null,
   "outputs": [],
   "source": [
    "second_half_HMC_experiment = BasicHMCExperiment(fresh_bnn.with_prior(*first_half_experiment.posterior), second_half_data, num_samples=1000, num_warmup=500)\n",
    "second_half_HMC_experiment.run(random.PRNGKey(0)).savefig(\"figs/manual_second_half_HMC_4.png\")"
   ],
   "metadata": {
    "collapsed": false
   }
  },
  {
   "cell_type": "code",
   "execution_count": null,
   "outputs": [],
   "source": [
    "second_half_VI_experiment = BasicMeanFieldGaussianVIExperiment(fresh_bnn.with_prior(*first_half_experiment.posterior), second_half_data, num_samples=1000, max_iter=5*VI_MAX_ITER)\n",
    "second_half_VI_experiment.run(random.PRNGKey(0)).savefig(\"figs/manual_second_half_VI_4.png\")"
   ],
   "metadata": {
    "collapsed": false
   }
  },
  {
   "cell_type": "code",
   "execution_count": null,
   "outputs": [],
   "source": [
    "# fresh_data = copy.deepcopy(data)"
   ],
   "metadata": {
    "collapsed": false
   }
  },
  {
   "cell_type": "code",
   "execution_count": null,
   "outputs": [],
   "source": [
    "sequential_experiment = SequentialExperiment(fresh_bnn, fresh_data, BasicMeanFieldGaussianVIExperiment, num_inference_steps=2, max_iter = VI_MAX_ITER)"
   ],
   "metadata": {
    "collapsed": false
   }
  },
  {
   "cell_type": "code",
   "execution_count": null,
   "outputs": [],
   "source": [
    "sequential_experiment = ExperimentWithLastBlockReplaced(sequential_experiment, BasicHMCExperiment, num_samples=200, num_warmup=100)"
   ],
   "metadata": {
    "collapsed": false
   }
  },
  {
   "cell_type": "code",
   "execution_count": null,
   "outputs": [],
   "source": [
    "# sequential_experiment.train(random.PRNGKey(0))"
   ],
   "metadata": {
    "collapsed": false
   }
  },
  {
   "cell_type": "code",
   "execution_count": null,
   "outputs": [],
   "source": [
    "# sequential_experiment.make_predictions(random.PRNGKey(2), final_only=False)"
   ],
   "metadata": {
    "collapsed": false
   }
  },
  {
   "cell_type": "code",
   "execution_count": null,
   "outputs": [],
   "source": [
    "# sequential_experiment.make_plots(final_only=False)"
   ],
   "metadata": {
    "collapsed": false
   }
  },
  {
   "cell_type": "code",
   "execution_count": null,
   "outputs": [],
   "source": [
    "# # Custom plotting for sequential experiment\n",
    "# fig, axs = plt.subplots(figsize=(8, 4), ncols=2)\n",
    "# for i, ax in enumerate(axs.ravel()):\n",
    "#     experiment_block = sequential_experiment._sequential_experiment._experiment_blocks[i]\n",
    "#     predictions = experiment_block._predictions[\"Y\"][..., 0]\n",
    "#     mean_predictions = experiment_block._predictions[\"Y_mean\"][..., 0]\n",
    "#     data = experiment_block._data\n",
    "#     X, Y = data.train\n",
    "#     X_test, _ = data.test\n",
    "#     # compute mean prediction and confidence interval around median\n",
    "#     mean_means = jnp.mean(mean_predictions, axis=0)\n",
    "#     mean_percentiles = np.percentile(predictions, [5.0, 95.0], axis=0)\n",
    "#     # plot training data\n",
    "#     ax.plot(X[:, 1], Y[:, 0], \"kx\")\n",
    "#     # plot predictions & quantiles\n",
    "#     ax.plot(X_test[:, 1], mean_means, color=\"blue\")\n",
    "#     ax.fill_between(X_test[:, 1], *mean_percentiles, color=\"lightblue\")\n",
    "#     ax.set_title(str(data._train_idx_slice))\n",
    "# fig.tight_layout()\n",
    "# fig.savefig(\"figs/sequential-VI-simple3.png\")"
   ],
   "metadata": {
    "collapsed": false
   }
  },
  {
   "cell_type": "markdown",
   "source": [
    "#### Draw samples from prior predictive"
   ],
   "metadata": {
    "collapsed": false
   }
  },
  {
   "cell_type": "code",
   "execution_count": null,
   "outputs": [],
   "source": [
    "fig, ax =  plt.subplots()\n",
    "with handlers.seed(rng_seed=random.PRNGKey(1)):\n",
    "    t = data.test[0]\n",
    "    for _ in range(50):\n",
    "        prior_fn = handlers.trace(fresh_bnn).get_trace(X=t, Y=None)[\"Y_mean\"][\"value\"]\n",
    "        ax.plot(t[:,1], prior_fn, alpha=0.5)\n",
    "        # ax.set_yscale('log')\n",
    "# plt.savefig(\"figs/prior_pred_4.png\")"
   ],
   "metadata": {
    "collapsed": false
   }
  },
  {
   "cell_type": "markdown",
   "source": [
    "#### Reverse dataset for two halves sequential experiment"
   ],
   "metadata": {
    "collapsed": false
   }
  },
  {
   "cell_type": "code",
   "execution_count": null,
   "outputs": [],
   "source": [
    "# fresh_bnn = copy.deepcopy(bnn)"
   ],
   "metadata": {
    "collapsed": false
   }
  },
  {
   "cell_type": "code",
   "execution_count": null,
   "outputs": [],
   "source": [
    "reversed_data = ReverseData(data)"
   ],
   "metadata": {
    "collapsed": false
   }
  },
  {
   "cell_type": "code",
   "execution_count": null,
   "outputs": [],
   "source": [
    "reversed_sequential_experiment = SequentialExperiment(fresh_bnn, reversed_data, BasicFullRankGaussianVIExperiment)"
   ],
   "metadata": {
    "collapsed": false
   }
  },
  {
   "cell_type": "code",
   "execution_count": null,
   "outputs": [],
   "source": [
    "# reversed_sequential_experiment.train(random.PRNGKey(0))"
   ],
   "metadata": {
    "collapsed": false
   }
  },
  {
   "cell_type": "code",
   "execution_count": null,
   "outputs": [],
   "source": [
    "# reversed_sequential_experiment.make_predictions(random.PRNGKey(1), final_only=False)"
   ],
   "metadata": {
    "collapsed": false
   }
  },
  {
   "cell_type": "code",
   "execution_count": null,
   "outputs": [],
   "source": [
    "# # Custom plotting for reversed sequential experiment\n",
    "# fig, axs = plt.subplots(figsize=(8, 4), ncols=2)\n",
    "# for i, ax in enumerate(axs.ravel()):\n",
    "#     experiment_block = reversed_sequential_experiment._experiment_blocks[i]\n",
    "#     predictions = experiment_block._predictions[\"Y\"][..., 0]\n",
    "#     data = experiment_block._data\n",
    "#     X, Y = data.train\n",
    "#     X_test, _ = data.test\n",
    "#     # compute mean prediction and confidence interval around median\n",
    "#     mean_predictions = jnp.mean(predictions, axis=0)\n",
    "#     percentiles = np.percentile(predictions, [5.0, 95.0], axis=0)\n",
    "#     # plot training data\n",
    "#     ax.plot(X[:, 1], Y[:, 0], \"kx\")\n",
    "#     # plot predictions & quantiles\n",
    "#     ax.plot(X_test[:, 1], mean_predictions, color=\"blue\")\n",
    "#     ax.fill_between(X_test[:, 1], *percentiles, color=\"lightblue\")\n",
    "#     ax.set_title(str(data._train_idx_slice))\n",
    "# fig.tight_layout()\n",
    "# # fig.savefig(\"figs/sequential-full-rank-VI-reversed1.png\")"
   ],
   "metadata": {
    "collapsed": false
   }
  },
  {
   "cell_type": "markdown",
   "source": [
    "#### Randomized dataset experiment"
   ],
   "metadata": {
    "collapsed": false
   }
  },
  {
   "cell_type": "code",
   "execution_count": null,
   "outputs": [],
   "source": [
    "train_len = data.train[0].shape[0]\n",
    "random_perm = np.random.choice(np.arange(train_len), size=train_len, replace=False)\n",
    "permuted_data = PermutedData(data, random_perm)"
   ],
   "metadata": {
    "collapsed": false
   }
  },
  {
   "cell_type": "code",
   "execution_count": null,
   "outputs": [],
   "source": [
    "plt.close('all')"
   ],
   "metadata": {
    "collapsed": false
   }
  }
 ],
 "metadata": {
  "kernelspec": {
   "display_name": "Python 3",
   "language": "python",
   "name": "python3"
  },
  "language_info": {
   "codemirror_mode": {
    "name": "ipython",
    "version": 2
   },
   "file_extension": ".py",
   "mimetype": "text/x-python",
   "name": "python",
   "nbconvert_exporter": "python",
   "pygments_lexer": "ipython2",
   "version": "2.7.6"
  }
 },
 "nbformat": 4,
 "nbformat_minor": 0
}
