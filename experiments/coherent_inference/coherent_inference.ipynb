{
 "cells": [
  {
   "cell_type": "code",
   "execution_count": 1,
   "outputs": [],
   "source": [
    "import copy\n",
    "import os\n",
    "import time\n",
    "import abc\n",
    "import copy\n",
    "\n",
    "import jax.tree_util\n",
    "import matplotlib\n",
    "import matplotlib.pyplot as plt\n",
    "import numpy as np\n",
    "\n",
    "from jax import jit, lax, vmap\n",
    "import jax.numpy as jnp\n",
    "import jax.nn\n",
    "import jax.random as random\n",
    "\n",
    "import numpyro\n",
    "from numpyro import handlers\n",
    "from numpyro.distributions import constraints\n",
    "import numpyro.distributions as dist\n",
    "from numpyro.infer import MCMC, NUTS, SVI, Predictive, Trace_ELBO, TraceEnum_ELBO, TraceMeanField_ELBO, autoguide\n",
    "from numpyro.infer.svi import SVIState\n",
    "\n",
    "import tqdm\n",
    "from typing import Any, Callable, Iterable, Optional, Sequence, Type\n",
    "from typing_extensions import Self"
   ],
   "metadata": {
    "collapsed": false
   }
  },
  {
   "cell_type": "code",
   "execution_count": 2,
   "outputs": [],
   "source": [
    "#%matplotlib inline\n",
    "#matplotlib.use(\"nbAgg\")  # noqa: E402\n",
    "\n",
    "plt.rcParams.update({\n",
    "    \"axes.grid\": True,      # show grid by default\n",
    "    \"font.weight\": \"bold\",  # bold fonts\n",
    "    \"xtick.labelsize\": 15,  # large tick labels\n",
    "    \"ytick.labelsize\": 15,  # large tick labels\n",
    "    \"lines.linewidth\": 1,   # thick lines\n",
    "    \"lines.color\": \"k\",     # black lines\n",
    "    # \"grid.color\": \"0.5\",    # gray gridlines\n",
    "    \"grid.linestyle\": \"-\",  # solid gridlines\n",
    "    \"grid.linewidth\": 0.1,  # thin gridlines\n",
    "    \"savefig.dpi\": 300,     # higher resolution output.\n",
    "})"
   ],
   "metadata": {
    "collapsed": false
   }
  },
  {
   "cell_type": "code",
   "execution_count": 94,
   "outputs": [],
   "source": [
    "DEVICE = \"cpu\"\n",
    "numpyro.set_platform(DEVICE)\n",
    "# numpyro.set_host_device_count(NUM_CHAINS)\n",
    "D_X = 3\n",
    "VI_MAX_ITER = 50\n",
    "BNN_SIZE = [128, 128, 64]\n",
    "# FIG_PREFIX = f\"fig\""
   ],
   "metadata": {
    "collapsed": false
   }
  },
  {
   "cell_type": "markdown",
   "source": [
    "## Data"
   ],
   "metadata": {
    "collapsed": false
   }
  },
  {
   "cell_type": "code",
   "execution_count": 4,
   "outputs": [],
   "source": [
    "class Data(abc.ABC):\n",
    "    @property\n",
    "    @abc.abstractmethod\n",
    "    def train(self) -> tuple[jnp.ndarray, jnp.ndarray]:\n",
    "        raise NotImplementedError()\n",
    "\n",
    "    @property\n",
    "    @abc.abstractmethod\n",
    "    def test(self) -> tuple[jnp.ndarray, jnp.ndarray]:\n",
    "        raise NotImplementedError()\n",
    "\n",
    "    # @abc.abstractmethod\n",
    "    def true_predictive(self, X: jnp.ndarray) -> dist.Distribution:\n",
    "        raise NotImplementedError()"
   ],
   "metadata": {
    "collapsed": false
   }
  },
  {
   "cell_type": "code",
   "execution_count": 5,
   "outputs": [],
   "source": [
    "# Create partial view decorator of data\n",
    "class DataSlice(Data):\n",
    "    def __init__(self, data: Data, train_idx_slice: slice):\n",
    "        self._data = data\n",
    "        self._train_idx_slice: slice = train_idx_slice\n",
    "\n",
    "    @property\n",
    "    def train(self) -> tuple[jnp.ndarray, jnp.ndarray]:\n",
    "        X, Y = self._data.train\n",
    "        return X[self._train_idx_slice], Y[self._train_idx_slice]\n",
    "\n",
    "    @property\n",
    "    def test(self) -> tuple[jnp.ndarray, jnp.ndarray]:\n",
    "        return self._data.test\n",
    "\n",
    "    def true_predictive(self, X: jnp.ndarray) -> dist.Distribution:\n",
    "        return self._data.true_predictive(X)"
   ],
   "metadata": {
    "collapsed": false
   }
  },
  {
   "cell_type": "code",
   "execution_count": 6,
   "outputs": [],
   "source": [
    "# Reverse dataset\n",
    "class ReverseData(Data):\n",
    "    def __init__(self, data: Data):\n",
    "        self._data = data\n",
    "\n",
    "    @property\n",
    "    def train(self) -> tuple[jnp.ndarray, jnp.ndarray]:\n",
    "        X, Y = self._data.train\n",
    "        return X[::-1, ...], Y[::-1, ...]\n",
    "\n",
    "    @property\n",
    "    def test(self) -> tuple[jnp.ndarray, jnp.ndarray]:\n",
    "        return self._data.test\n",
    "\n",
    "    def true_predictive(self, X: jnp.ndarray) -> dist.Distribution:\n",
    "        return self._data.true_predictive(X)"
   ],
   "metadata": {
    "collapsed": false
   }
  },
  {
   "cell_type": "code",
   "execution_count": 7,
   "outputs": [],
   "source": [
    "class PermutedData(Data):\n",
    "    def __init__(self, data: Data, perm: np.array):\n",
    "        self._data = data\n",
    "        assert perm.shape[0] == data.train[0].shape[0], \"wrong len\"\n",
    "        perm_copy = perm.copy()\n",
    "        perm_copy.sort()\n",
    "        assert np.all(perm_copy == np.arange(len(perm))), \"not a permutation\"\n",
    "        self._perm = perm\n",
    "\n",
    "    @property\n",
    "    def train(self) -> tuple[jnp.ndarray, jnp.ndarray]:\n",
    "        X, Y = self._data.train\n",
    "        return X[self._perm], Y[self._perm]\n",
    "\n",
    "    @property\n",
    "    def test(self) -> tuple[jnp.ndarray, jnp.ndarray]:\n",
    "        return self._data.test\n",
    "\n",
    "    def true_predictive(self, X: jnp.ndarray) -> dist.Distribution:\n",
    "        return self._data.true_predictive(X)"
   ],
   "metadata": {
    "collapsed": false
   }
  },
  {
   "cell_type": "code",
   "execution_count": 8,
   "outputs": [],
   "source": [
    "# Define toy regression problem\n",
    "# create artificial regression dataset\n",
    "class ToyData1(Data):\n",
    "    def __init__(self, D_X: int = 3, sigma_obs: float = 0.05, train_size: int = 50, test_size: int = 500):\n",
    "        self.D_X = D_X\n",
    "        self.sigma_obs = sigma_obs\n",
    "        D_Y = 1  # create 1d outputs\n",
    "        np.random.seed(0)\n",
    "        X = jnp.linspace(-1, 1, train_size)\n",
    "        X = jnp.power(X[:, np.newaxis], jnp.arange(D_X))  # XXX ?bias included in model\n",
    "        W = 0.5 * np.random.randn(D_X)\n",
    "        # y = w0 + w1*x + w2*x**2 + 1/2 (1/2+x)**2 * sin(4x)\n",
    "        Y = jnp.dot(X, W) + 0.5 * jnp.power(0.5 + X[:, 1], 2.0) * jnp.sin(4.0 * X[:, 1])\n",
    "        Y += sigma_obs * np.random.randn(train_size)\n",
    "        Y = Y[:, np.newaxis]\n",
    "        Y -= jnp.mean(Y)\n",
    "        Y /= jnp.std(Y)\n",
    "\n",
    "        assert X.shape == (train_size, D_X)\n",
    "        assert Y.shape == (train_size, D_Y)\n",
    "\n",
    "        X_test = jnp.linspace(-1.3, 1.3, test_size)\n",
    "        X_test = jnp.power(X_test[:, np.newaxis], jnp.arange(D_X))\n",
    "\n",
    "        self._X = X\n",
    "        self._Y = Y\n",
    "        self._X_test = X_test\n",
    "        self._Y_test = None\n",
    "\n",
    "    @property\n",
    "    def train(self):\n",
    "        return (self._X, self._Y)\n",
    "\n",
    "    @property\n",
    "    def test(self):\n",
    "        return (self._X_test, self._Y_test)\n",
    "\n",
    "    def true_predictive(self, X: jnp.ndarray) -> dist.Distribution:\n",
    "        raise NotImplementedError()"
   ],
   "metadata": {
    "collapsed": false
   }
  },
  {
   "cell_type": "code",
   "execution_count": 9,
   "outputs": [],
   "source": [
    "data = ToyData1(D_X=D_X, train_size=100)"
   ],
   "metadata": {
    "collapsed": false
   }
  },
  {
   "cell_type": "markdown",
   "source": [
    "## Model"
   ],
   "metadata": {
    "collapsed": false
   }
  },
  {
   "cell_type": "code",
   "execution_count": null,
   "outputs": [],
   "source": [
    "class BayesianNeuralNetwork:\n",
    "    # TODO might be cleaner to make this class immutable: done? maybe weird interactions with deepcopy\n",
    "    def __init__(self,\n",
    "                 nonlin: Callable[[jnp.ndarray], jnp.ndarray],\n",
    "                 D_X: int,\n",
    "                 D_Y: int,\n",
    "                 D_H: Sequence[int],\n",
    "                 biases: bool,\n",
    "                 obs_model: str | float = \"loc_scale\",\n",
    "                 prior_scale: float = 1.0):\n",
    "        \"\"\" :param obs_model: float: precision of Gaussian / \"loc_scale\": predict both / \"inv_gamma\": Gamma\n",
    "            hyper-prior on precision\n",
    "        \"\"\"\n",
    "        self._nonlin = nonlin\n",
    "        self.D_X = D_X\n",
    "        self.D_Y = D_Y\n",
    "        self.D_H = D_H\n",
    "        self._biases = biases\n",
    "        if obs_model == \"loc_scale\":\n",
    "            if self.D_Y > 1:\n",
    "                raise NotImplementedError(\"Should predict a cov matrix... not impl yet\")\n",
    "            self.OBS_MODEL = \"loc_scale\"\n",
    "            self.D_Y += 1\n",
    "            assert self.D_Y == 2\n",
    "        elif obs_model == \"inv_gamma\":\n",
    "            self.OBS_MODEL = \"inv_gamma\"\n",
    "            self._prior_prec_obs = dist.Gamma(3.0, 1.0)\n",
    "        elif isinstance(obs_model, float):\n",
    "            self.OBS_MODEL = \"const_prec\"\n",
    "            # Abstract const parameter into dist; mask according to convention below, see guides\n",
    "            self._prior_prec_obs = dist.Delta(obs_model).mask(False)\n",
    "        # add trainable numpyro.param too?\n",
    "        else:\n",
    "            raise ValueError(obs_model)\n",
    "        # Initialise priors to independent standard normals\n",
    "        self._prior_w = dist.Normal(jnp.zeros(self.get_weight_dim()),\n",
    "                                    jnp.full((self.get_weight_dim(),), prior_scale)).to_event(1)\n",
    "        # self._prior_w = dist.MultivariateNormal(jnp.zeros(self.get_weight_dim()),\n",
    "        #                                         jnp.diag(jnp.full((self.get_weight_dim(),), prior_scale)))\n",
    "\n",
    "    def get_weight_dim(self) -> int:\n",
    "        if self._biases:\n",
    "            dim = 0\n",
    "            prev = self.D_X\n",
    "            for width in self.D_H:\n",
    "                dim += prev * width + width\n",
    "                prev = width\n",
    "            dim += prev * self.D_Y + self.D_Y\n",
    "            return dim\n",
    "        else:\n",
    "            dim = 0\n",
    "            prev = self.D_X\n",
    "            for width in self.D_H:\n",
    "                dim += prev * width\n",
    "                prev = width\n",
    "            dim += prev * self.D_Y\n",
    "            return dim\n",
    "\n",
    "    def _wi_from_flat(self, a: jnp.ndarray, depth: int, bias: bool = False) -> jnp.ndarray:\n",
    "        # set bias to return bias of that layer\n",
    "        assert a.shape[0] == self.get_weight_dim()\n",
    "        assert 0 <= depth <= len(self.D_H)\n",
    "        if bias:\n",
    "            assert self._biases\n",
    "        prev = self.D_X\n",
    "        idx = 0\n",
    "        layer = 0\n",
    "        for width in self.D_H:\n",
    "            if depth == layer:\n",
    "                if not bias:\n",
    "                    return a[idx:(idx + prev * width)].reshape((prev, width))\n",
    "                else:\n",
    "                    idx += prev * width\n",
    "                    return a[idx:(idx+width)]#.reshape((width, 1))\n",
    "            idx += prev * width\n",
    "            if self._biases:\n",
    "                idx += width\n",
    "            layer += 1\n",
    "            prev = width\n",
    "        assert depth == layer == len(self.D_H)\n",
    "        if not bias:\n",
    "            return a[idx:(idx + prev * self.D_Y)].reshape((prev, self.D_Y))\n",
    "        else:\n",
    "            idx += prev * self.D_Y\n",
    "            return a[idx:(idx + self.D_Y)]#.reshape((self.D_Y, 1))\n",
    "\n",
    "    #noinspection PyPep8Naming\n",
    "    def __call__(self, X: jnp.ndarray, Y: Optional[jnp.ndarray] = None):\n",
    "        N, D_X = X.shape\n",
    "        assert D_X == self.D_X\n",
    "\n",
    "        # sample weights from prior\n",
    "        w = numpyro.sample(\"w\", self._prior_w)\n",
    "\n",
    "        pre_activ = jnp.matmul(X, self._wi_from_flat(w, depth=0))\n",
    "        if self._biases:\n",
    "            pre_activ += self._wi_from_flat(w, depth=0, bias=True)\n",
    "        for depth in range(1, 1+len(self.D_H)):\n",
    "            pre_activ = jnp.matmul(self._nonlin(pre_activ), self._wi_from_flat(w, depth))\n",
    "            if self._biases:\n",
    "                pre_activ += self._wi_from_flat(w, depth, bias=True)\n",
    "\n",
    "        if self.OBS_MODEL == \"loc_scale\":\n",
    "            assert pre_activ.shape[-1] == 2\n",
    "            Y_mean = numpyro.deterministic(\"Y_mean\", pre_activ[..., [0]])\n",
    "            if Y is not None:\n",
    "                assert Y_mean.shape == Y.shape\n",
    "            # map scales into R+ using softplus ie log(1+exp(.))\n",
    "            Y_scale = numpyro.deterministic(\"Y_scale\", jax.nn.softplus(pre_activ[..., [1]]))\n",
    "            # observe data\n",
    "            with numpyro.plate(\"data\", Y.shape[0]):\n",
    "                numpyro.sample(\"Y\", dist.Normal(Y_mean, Y_scale), obs=Y)\n",
    "\n",
    "        else:\n",
    "            assert hasattr(self, \"_prior_prec_obs\")\n",
    "            # we put a prior on the observation noise\n",
    "            prec_obs = numpyro.sample(\"prec_obs\", self._prior_prec_obs)\n",
    "            sigma_obs = numpyro.deterministic(\"sigma_obs\", 1.0 / jnp.sqrt(prec_obs))\n",
    "\n",
    "            Y_mean = numpyro.deterministic(\"Y_mean\", pre_activ)\n",
    "            if Y is not None:\n",
    "                assert Y_mean.shape == Y.shape\n",
    "\n",
    "            # observe data\n",
    "            with numpyro.plate(\"data\", Y.shape[0]):\n",
    "                numpyro.sample(\"Y\", dist.Normal(Y_mean, jnp.full((N, self.D_Y), sigma_obs)).to_event(1), obs=Y)\n",
    "\n",
    "    @property\n",
    "    def prior(self) -> tuple[dist.Distribution, Optional[dist.Distribution]]:\n",
    "        \"\"\" :returns prior on w and (prec_obs if exists) \"\"\"\n",
    "        return self._prior_w,  self._prior_prec_obs if hasattr(self, \"_prior_prec_obs\")  else None\n",
    "\n",
    "    def with_prior(self, prior_w: dist.Distribution, prior_prec_obs: Optional[dist.Distribution] = None) -> Self:\n",
    "        cpy = copy.deepcopy(self)\n",
    "        cpy._prior_w = prior_w\n",
    "        cpy._prior_prec_obs = prior_prec_obs\n",
    "        return cpy"
   ],
   "metadata": {
    "collapsed": false
   }
  },
  {
   "cell_type": "code",
   "execution_count": 95,
   "outputs": [],
   "source": [
    "bnn = BayesianNeuralNetwork(\n",
    "    nonlin=jax.nn.silu,\n",
    "    D_X=D_X,\n",
    "    D_Y=1,\n",
    "    D_H=BNN_SIZE,\n",
    "    biases=True\n",
    ")"
   ],
   "metadata": {
    "collapsed": false
   }
  },
  {
   "cell_type": "code",
   "execution_count": 96,
   "outputs": [
    {
     "data": {
      "text/plain": "25410"
     },
     "execution_count": 96,
     "metadata": {},
     "output_type": "execute_result"
    }
   ],
   "source": [
    "bnn.get_weight_dim()"
   ],
   "metadata": {
    "collapsed": false
   }
  },
  {
   "cell_type": "code",
   "execution_count": 97,
   "outputs": [],
   "source": [
    "fresh_bnn = copy.deepcopy(bnn)"
   ],
   "metadata": {
    "collapsed": false
   }
  },
  {
   "cell_type": "markdown",
   "source": [
    "## Experiment"
   ],
   "metadata": {
    "collapsed": false
   }
  },
  {
   "cell_type": "code",
   "execution_count": 14,
   "outputs": [],
   "source": [
    "class Experiment(abc.ABC):\n",
    "    def __init__(self, bnn: BayesianNeuralNetwork, data: Data):\n",
    "        self._bnn: BayesianNeuralNetwork = bnn\n",
    "        self._data: Data = data\n",
    "        # Initialise state\n",
    "        self._predictions: Optional[dict] = None  # numpyro trace on data.test predictive\n",
    "        # self._predictions: Optional[jnp.ndarray] = None  # of shape (num_samples, X_test.shape[0])\n",
    "\n",
    "    @abc.abstractmethod\n",
    "    def train(self, rng_key_train: random.PRNGKey):\n",
    "        pass\n",
    "\n",
    "    @abc.abstractmethod\n",
    "    def make_predictions(self, rng_key_predict: random.PRNGKey):\n",
    "        pass\n",
    "\n",
    "    def make_plots(self, **kwargs) -> plt.Figure:\n",
    "        assert self._predictions is not None\n",
    "        X, Y = self._data.train\n",
    "        X_test, _ = self._data.test\n",
    "        # compute mean prediction and confidence interval around median\n",
    "        Y_mean_pred, Y_pred = self._predictions[\"Y_mean\"][..., 0], self._predictions[\"Y\"][..., 0]\n",
    "        mean_means = jnp.mean(Y_mean_pred, axis=0)\n",
    "        mean_percentiles = np.percentile(Y_mean_pred, [5.0, 95.0], axis=0)\n",
    "        Y_percentiles = np.percentile(Y_pred, [5.0, 95.0], axis=0)\n",
    "        # plotting\n",
    "        fig, ax = plt.subplots(figsize=(6, 4))\n",
    "        # plot training data\n",
    "        ax.plot(X[:, 1], Y[:, 0], \"kx\")\n",
    "        # plot predictions & quantiles\n",
    "        ax.plot(X_test[:, 1], mean_means, color=\"blue\")\n",
    "        ax.fill_between(X_test[:, 1], *mean_percentiles, color=\"orange\", alpha=0.5, label=\"90% CI on mean\")\n",
    "        ax.fill_between(X_test[:, 1], *Y_percentiles, color=\"lightgreen\", alpha=0.5, label=\"90% prediction\")\n",
    "        return fig\n",
    "\n",
    "    def run(self, rng_key: random.PRNGKey):\n",
    "        rng_key_train, rng_key_predict = random.split(rng_key)\n",
    "        self.train(rng_key_train)\n",
    "        self.make_predictions(rng_key_predict)\n",
    "        fig = self.make_plots()\n",
    "        return fig"
   ],
   "metadata": {
    "collapsed": false
   }
  },
  {
   "cell_type": "code",
   "execution_count": 15,
   "outputs": [],
   "source": [
    "class SequentialExperimentBlock(Experiment):\n",
    "    @property\n",
    "    @abc.abstractmethod\n",
    "    def posterior(self) -> tuple[dist.Distribution, dist.Distribution]:\n",
    "        \"\"\" Returns distribution on w and prec_obs \"\"\"\n",
    "        raise NotImplementedError()"
   ],
   "metadata": {
    "collapsed": false
   }
  },
  {
   "cell_type": "markdown",
   "source": [
    "### HMC"
   ],
   "metadata": {
    "collapsed": false
   }
  },
  {
   "cell_type": "code",
   "execution_count": 16,
   "outputs": [],
   "source": [
    "class BasicHMCExperiment(Experiment):\n",
    "    def __init__(self, bnn: BayesianNeuralNetwork, data: Data, num_samples: int = 2_000,\n",
    "                 num_warmup: int = 1_000, num_chains: int = 1):\n",
    "        super().__init__(bnn, data)\n",
    "        self._num_samples = num_samples\n",
    "        self._num_warmup = num_warmup\n",
    "        self._num_chains = num_chains\n",
    "        # Initialise state\n",
    "        self._samples: Optional[dict] = None\n",
    "\n",
    "    def train(self, rng_key_train: random.PRNGKey):\n",
    "        start = time.time()\n",
    "        X, Y = self._data.train\n",
    "        kernel = NUTS(self._bnn)\n",
    "        mcmc = MCMC(\n",
    "            kernel,\n",
    "            num_warmup=self._num_warmup,\n",
    "            num_samples=self._num_samples,\n",
    "            num_chains=self._num_chains,\n",
    "            progress_bar=False if DEVICE == \"gpu\" or \"NUMPYRO_SPHINXBUILD\" in os.environ else True,\n",
    "        )\n",
    "        mcmc.run(rng_key_train, X, Y)\n",
    "        mcmc.print_summary()\n",
    "        print(\"\\nMCMC elapsed time:\", time.time() - start)\n",
    "        self._samples = mcmc.get_samples()\n",
    "\n",
    "    def make_predictions(self, rng_key_predict: random.PRNGKey):\n",
    "        assert self._samples is not None\n",
    "        X_test, _ = self._data.test\n",
    "        self._predictions = Predictive(self._bnn, self._samples)(rng_key_predict, X=X_test, Y=None)#['Y'][..., 0]"
   ],
   "metadata": {
    "collapsed": false
   }
  },
  {
   "cell_type": "code",
   "execution_count": null,
   "outputs": [],
   "source": [
    "experiment = BasicHMCExperiment(\n",
    "    bnn,\n",
    "    data,\n",
    "    num_samples = 200, num_warmup = 100,\n",
    ")\n",
    "experiment.run(random.PRNGKey(0)).savefig(\"figs/simple_hmc_4.png\")"
   ],
   "metadata": {
    "collapsed": false
   }
  },
  {
   "cell_type": "markdown",
   "source": [
    "### VI"
   ],
   "metadata": {
    "collapsed": false
   }
  },
  {
   "cell_type": "code",
   "execution_count": 161,
   "outputs": [],
   "source": [
    "class BasicVIExperiment(SequentialExperimentBlock):\n",
    "    def __init__(self, bnn: BayesianNeuralNetwork, data: Data, num_samples: int = 2_000,\n",
    "                 max_iter: int = 150_000):\n",
    "        super().__init__(bnn, data)\n",
    "        self._num_samples = num_samples\n",
    "        self._max_iter = max_iter\n",
    "        # Initialise state\n",
    "        self._svi: Optional[SVI] = None\n",
    "        self._saved_svi_state: Optional[SVIState] = None\n",
    "        self._losses: jnp.array = jnp.array([])\n",
    "        self._eval_losses: jnp.array = jnp.array([])\n",
    "        self._params: Optional[dict] = None\n",
    "\n",
    "    def train(self, rng_key_train: random.PRNGKey):\n",
    "        start = time.time()\n",
    "        X, Y = self._data.train\n",
    "        guide = self._get_guide()\n",
    "\n",
    "        if self._svi is None:\n",
    "            optimizer = numpyro.optim.Adam(0.002)  # Default taken from ashleve/lightning-hydra-template\n",
    "            train_loss = TraceMeanField_ELBO(num_particles=10)\n",
    "            self._svi = SVI(self._bnn, guide, optimizer, train_loss)\n",
    "        eval_loss = TraceMeanField_ELBO(num_particles=100)\n",
    "        rng_key_train, rng_key_eval, rng_key_init_loss = random.split(rng_key_train, 3)\n",
    "\n",
    "        if self._saved_svi_state is None:\n",
    "            self._saved_svi_state = self._svi.init(rng_key_train, X=X, Y=Y)\n",
    "\n",
    "        def body_fn(svi_state, _):\n",
    "            svi_state, loss = self._svi.stable_update(svi_state, X=X, Y=Y)\n",
    "            return svi_state, loss\n",
    "\n",
    "        print(\"Initial eval loss: {:.4f}\".format(eval_loss.loss(\n",
    "            rng_key_init_loss, self._svi.get_params(self._saved_svi_state), self._bnn, guide, X=X, Y=Y)))\n",
    "\n",
    "        batch = max(self._max_iter // 50, 1)\n",
    "        with tqdm.trange(1, self._max_iter // batch + 1) as t:\n",
    "            for i in t:\n",
    "                self._saved_svi_state, batch_losses = lax.scan(body_fn, self._saved_svi_state, None, length=batch)\n",
    "                self._losses = jnp.concatenate((self._losses, batch_losses))\n",
    "                valid_losses = [x for x in batch_losses if x == x]\n",
    "                num_valid = len(valid_losses)\n",
    "                if num_valid == 0:\n",
    "                    avg_loss = float(\"nan\")\n",
    "                else:\n",
    "                    avg_loss = sum(valid_losses) / num_valid\n",
    "                # Compute full loss\n",
    "                rng_key_eval, rng_key_eval_curr = random.split(rng_key_eval)\n",
    "                self._eval_losses = jnp.concatenate((\n",
    "                    self._eval_losses, jnp.array([\n",
    "                        eval_loss.loss(rng_key_eval_curr, self._svi.get_params(self._saved_svi_state), self._bnn, guide, X=X, Y=Y)\n",
    "                    ])\n",
    "                ))\n",
    "                t.set_postfix_str(\n",
    "                    \"init loss: {:.4f}, avg. train loss / eval. loss [{}-{}]: {:.4f} / {:.4f}\".format(\n",
    "                        self._losses[0], (i-1)*batch, i*batch, avg_loss, self._eval_losses[-1]\n",
    "                    ),\n",
    "                    refresh=False,\n",
    "                )\n",
    "        self._params = self._svi.get_params(self._saved_svi_state)\n",
    "        print(\"\\nSVI elapsed time:\", time.time() - start)\n",
    "\n",
    "    def make_predictions(self, rng_key_predict: random.PRNGKey):\n",
    "        assert self._params is not None\n",
    "        X_test, _ = self._data.test\n",
    "        predictive = Predictive(model=self._bnn, guide=self._get_guide(),\n",
    "                                params=self._params, num_samples=self._num_samples)\n",
    "        self._predictions = predictive(rng_key_predict, X=X_test, Y=None)#['Y'][..., 0]\n",
    "\n",
    "    def show_convergence_plot(self) -> plt.Figure:\n",
    "        return self._conv_plot[0]\n",
    "\n",
    "    @property\n",
    "    @abc.abstractmethod\n",
    "    def posterior(self) -> tuple[dist.Distribution, dist.Distribution]:\n",
    "        \"\"\" :returns distribution of w and (prec_obs if in the model)\n",
    "            Note if prec_obs has a Delta distribution, it should be marked as masked so that\n",
    "            hack with keeping it constant under another Delta approximation doesn't blow up loss\n",
    "        \"\"\"\n",
    "        raise NotImplementedError()\n",
    "\n",
    "    @abc.abstractmethod\n",
    "    def _get_guide(self) -> Callable[[jnp.ndarray, Optional[jnp.ndarray]], Any]:\n",
    "        # This needs to enforce that if self._bnn's prior on prec_obs is masked then\n",
    "        # in the guide, prec_obs is treated as a constant and not as a numpy.param + Delta\n",
    "        # so that gradients exist and loss is not inf\n",
    "        raise NotImplementedError()"
   ],
   "metadata": {
    "collapsed": false
   }
  },
  {
   "cell_type": "markdown",
   "source": [
    "#### Mean-Field"
   ],
   "metadata": {
    "collapsed": false
   }
  },
  {
   "cell_type": "code",
   "execution_count": 162,
   "outputs": [],
   "source": [
    "class BasicMeanFieldGaussianVIExperiment(BasicVIExperiment):\n",
    "    def _get_guide(self) -> Callable[[jnp.ndarray, Optional[jnp.ndarray]], Any]:\n",
    "        bnn_weight_dim = self._bnn.get_weight_dim()\n",
    "        def guide(X, Y=None):\n",
    "            w_loc = numpyro.param(\"w_loc\", lambda rng_key: dist.Normal(scale=0.5).sample(rng_key, (bnn_weight_dim,)))\n",
    "            w_scale = numpyro.param(\"w_scale\", jnp.full((bnn_weight_dim,), 0.01), constraint=constraints.positive)\n",
    "            numpyro.sample(\"w\", dist.Normal(w_loc, w_scale).to_event(1))\n",
    "            _, prec_obs_prior = self._bnn.prior\n",
    "            if prec_obs_prior is not None:\n",
    "                # See comment above for initialising prec_obs to its point mass as it is masked!\n",
    "                # Taking the prior mean returns the delta mass location in the Delta case\n",
    "                prec_obs_loc = numpyro.param(\"prec_obs_loc\", prec_obs_prior.mean, constraint=constraints.positive)\n",
    "                prec_obs_dist = dist.Delta(prec_obs_loc)\n",
    "                if isinstance(prec_obs_prior, dist.MaskedDistribution):\n",
    "                    # Treat prec_obs as constant here, decouple from parameter completely,\n",
    "                    # otherwise it would give MAP on uniform improper prior\n",
    "                    del prec_obs_dist  # Lose dependence on \"prec_obs_loc\" numpyro.param\n",
    "                    prec_obs_dist = dist.Delta(prec_obs_prior.mean)\n",
    "                numpyro.sample(\"prec_obs\", prec_obs_dist)\n",
    "        return guide\n",
    "\n",
    "    @property\n",
    "    def posterior(self) -> tuple[dist.Distribution, Optional[dist.Distribution]]:\n",
    "        assert self._params is not None\n",
    "        w_posterior = dist.Normal(loc=self._params[\"w_loc\"], scale=self._params[\"w_scale\"]).to_event(1)\n",
    "        # Note for further VI it is a problem that support(prec_obs) is a single point,\n",
    "        # therefore we mask this distribution so KL computation is ignored, and make sure to\n",
    "        # initialise the delta guide to this point!\n",
    "        prec_obs_posterior = dist.Delta(self._params[\"prec_obs_loc\"]).mask(False) \\\n",
    "            if \"prec_obs_loc\" in self._params.keys() else None\n",
    "        return w_posterior, prec_obs_posterior"
   ],
   "metadata": {
    "collapsed": false
   }
  },
  {
   "cell_type": "markdown",
   "source": [
    "#### Full-rank"
   ],
   "metadata": {
    "collapsed": false
   }
  },
  {
   "cell_type": "code",
   "execution_count": 163,
   "outputs": [],
   "source": [
    "class BasicFullRankGaussianVIExperiment(BasicVIExperiment):\n",
    "    def _get_guide(self) -> Callable[[jnp.ndarray, Optional[jnp.ndarray]], Any]:\n",
    "        bnn_weight_dim = self._bnn.get_weight_dim()\n",
    "        def guide(X, Y=None):\n",
    "            w_loc = numpyro.param(\"w_loc\", lambda rng_key: dist.Normal().sample(rng_key, (bnn_weight_dim,)))\n",
    "            w_cov = numpyro.param(\"w_cov\", 0.1*jnp.eye(bnn_weight_dim), constraint=constraints.positive_definite)\n",
    "            numpyro.sample(\"w\", dist.MultivariateNormal(w_loc, w_cov))\n",
    "            _, prec_obs_prior = self._bnn.prior\n",
    "            if prec_obs_prior is not None:\n",
    "                # See comment above for initialising prec_obs to its point mass as it is masked!\n",
    "                # Taking the prior mean returns the delta mass location in the Delta case\n",
    "                prec_obs_loc = numpyro.param(\"prec_obs_loc\", prec_obs_prior.mean, constraint=constraints.positive)\n",
    "                prec_obs_dist = dist.Delta(prec_obs_loc)\n",
    "                if isinstance(prec_obs_prior, dist.MaskedDistribution):\n",
    "                    # Treat prec_obs as constant here, decouple from parameter completely,\n",
    "                    # otherwise it would give MAP on uniform improper prior\n",
    "                    del prec_obs_dist  # Lose dependence on \"prec_obs_loc\" numpyro.param\n",
    "                    prec_obs_dist = dist.Delta(prec_obs_prior.mean)\n",
    "                numpyro.sample(\"prec_obs\", prec_obs_dist)\n",
    "        return guide\n",
    "\n",
    "    @property\n",
    "    def posterior(self) -> tuple[dist.Distribution, Optional[dist.Distribution]]:\n",
    "        assert self._params is not None\n",
    "        w_posterior = dist.MultivariateNormal(loc=self._params[\"w_loc\"],\n",
    "                                              covariance_matrix=self._params[\"w_cov\"])\n",
    "        # Note for further VI it is a problem that support(prec_obs) is a single point,\n",
    "        # therefore we mask this distribution so KL computation is ignored, and make sure to\n",
    "        # initialise the delta guide to this point!\n",
    "        prec_obs_posterior = dist.Delta(self._params[\"prec_obs_loc\"]).mask(False) \\\n",
    "            if \"prec_obs_loc\" in self._params.keys() else None\n",
    "        return w_posterior, prec_obs_posterior"
   ],
   "metadata": {
    "collapsed": false
   }
  },
  {
   "cell_type": "code",
   "execution_count": 164,
   "outputs": [],
   "source": [
    "experiment = BasicMeanFieldGaussianVIExperiment(\n",
    "    fresh_bnn,\n",
    "    data,\n",
    "    num_samples=1_000,\n",
    "    max_iter=0,#VI_MAX_ITER,\n",
    ")\n",
    "rk = random.PRNGKey(2000)\n",
    "# experiment.run(random.PRNGKey(1))\n",
    "# experiment.show_convergence_plot()\n",
    "# experiment.run(random.PRNGKey(1)).savefig(\"figs/simple_mfvi_4.png\")\n",
    "# experiment.show_convergence_plot().savefig(\"figs/simple_mfvi_conv_4.png\")"
   ],
   "metadata": {
    "collapsed": false
   }
  },
  {
   "cell_type": "code",
   "execution_count": 165,
   "outputs": [
    {
     "name": "stdout",
     "output_type": "stream",
     "text": [
      "Initial eval loss: 166843992716466926381188016448208896.0000\n"
     ]
    },
    {
     "name": "stderr",
     "output_type": "stream",
     "text": [
      "0it [00:00, ?it/s]"
     ]
    },
    {
     "name": "stdout",
     "output_type": "stream",
     "text": [
      "\n",
      "SVI elapsed time: 0.3444077968597412\n"
     ]
    },
    {
     "name": "stderr",
     "output_type": "stream",
     "text": [
      "\n"
     ]
    }
   ],
   "source": [
    "rk, rkc = random.split(rk)\n",
    "experiment.train(rkc)"
   ],
   "metadata": {
    "collapsed": false
   }
  },
  {
   "cell_type": "code",
   "execution_count": 166,
   "outputs": [
    {
     "name": "stderr",
     "output_type": "stream",
     "text": [
      "/var/folders/9s/mw5v68v91xb_5dgwyvfcd8k40000gn/T/ipykernel_13003/409524382.py:3: UserWarning: Matplotlib is currently using module://matplotlib_inline.backend_inline, which is a non-GUI backend, so cannot show the figure.\n",
      "  experiment.make_plots().show()\n"
     ]
    },
    {
     "data": {
      "text/plain": "<Figure size 600x400 with 1 Axes>",
      "image/png": "[encoded data removed]"
     },
     "metadata": {},
     "output_type": "display_data"
    }
   ],
   "source": [
    "rk, rkc = random.split(rk)\n",
    "experiment.make_predictions(rkc)\n",
    "experiment.make_plots().show()"
   ],
   "metadata": {
    "collapsed": false
   }
  },
  {
   "cell_type": "code",
   "execution_count": 131,
   "outputs": [
    {
     "data": {
      "text/plain": "[<matplotlib.lines.Line2D at 0x7f8a8b1e6230>]"
     },
     "execution_count": 131,
     "metadata": {},
     "output_type": "execute_result"
    },
    {
     "data": {
      "text/plain": "<Figure size 640x480 with 1 Axes>",
      "image/png": "[encoded data removed]"
     },
     "metadata": {},
     "output_type": "display_data"
    }
   ],
   "source": [
    "plt.plot(experiment._losses[::(VI_MAX_ITER//50)])\n",
    "plt.plot(experiment._eval_losses)"
   ],
   "metadata": {
    "collapsed": false
   }
  },
  {
   "cell_type": "code",
   "execution_count": null,
   "outputs": [],
   "source": [
    "# # Custom train loop\n",
    "# X, Y = data.train\n",
    "# guide = experiment._get_guide()\n",
    "# optimizer = numpyro.optim.Adam(0.002)  # Default taken from ashleve/lightning-hydra-template\n",
    "# svi = SVI(fresh_bnn, guide, optimizer, TraceMeanField_ELBO(num_particles=1000))\n",
    "# eval_loss = TraceMeanField_ELBO(num_particles=25000)\n",
    "#\n",
    "# init_state = None\n",
    "# losses = jnp.array([])\n",
    "# eval_losses = list()\n",
    "# rng_key = random.PRNGKey(0)\n",
    "# rng_train, rng_eval = random.split(rng_key)"
   ],
   "metadata": {
    "collapsed": false
   }
  },
  {
   "cell_type": "code",
   "execution_count": null,
   "outputs": [],
   "source": [
    "# # init_state = svi_state"
   ],
   "metadata": {
    "collapsed": false
   }
  },
  {
   "cell_type": "code",
   "execution_count": null,
   "outputs": [],
   "source": [
    "# def body_fn(svi_state, _):\n",
    "#     svi_state, loss = svi.stable_update(svi_state, X=X, Y=Y)\n",
    "#     return svi_state, loss\n",
    "#\n",
    "# if init_state is None:\n",
    "#     svi_state = svi.init(rng_key, X=X, Y=Y)\n",
    "# else:\n",
    "#     svi_state = init_state\n",
    "# batch = max(VI_MAX_ITER // 50, 1)\n",
    "# with tqdm.trange(1, VI_MAX_ITER // batch + 1) as t:\n",
    "#     for i in t:\n",
    "#         svi_state, batch_losses = lax.scan(body_fn, svi_state, None, length=batch)\n",
    "#         # svi_state, loss = jit(body_fn)(svi_state, None)\n",
    "#         losses = jnp.concatenate((losses, batch_losses))\n",
    "#         valid_losses = [x for x in losses[i - batch :] if x == x]\n",
    "#         num_valid = len(valid_losses)\n",
    "#         if num_valid == 0:\n",
    "#             avg_loss = float(\"nan\")\n",
    "#         else:\n",
    "#             avg_loss = sum(valid_losses) / num_valid\n",
    "#         # Compute full loss\n",
    "#         rng_eval, rng_eval_curr = random.split(rng_eval)\n",
    "#         eval_losses.append(eval_loss.loss(rng_eval_curr, svi.get_params(svi_state), fresh_bnn, guide, X=X, Y=Y))\n",
    "#         t.set_postfix_str(\n",
    "#             \"init loss: {:.4f}, avg. train loss / eval. loss [{}-{}]: {:.4f} / {:.4f}\".format(\n",
    "#                 losses[0], (i-1)*batch, i*batch, avg_loss, eval_losses[-1]\n",
    "#             ),\n",
    "#             refresh=False,\n",
    "#         )\n",
    "# eval_losses = jnp.stack(eval_losses)"
   ],
   "metadata": {
    "collapsed": false
   }
  },
  {
   "cell_type": "code",
   "execution_count": null,
   "outputs": [],
   "source": [
    "# plt.plot(losses[::batch])\n",
    "# plt.plot(eval_losses)"
   ],
   "metadata": {
    "collapsed": false
   }
  },
  {
   "cell_type": "code",
   "execution_count": null,
   "outputs": [],
   "source": [
    "# experiment._params = svi.get_params(svi_state)"
   ],
   "metadata": {
    "collapsed": false
   }
  },
  {
   "cell_type": "code",
   "execution_count": null,
   "outputs": [],
   "source": [
    "# experiment.make_predictions(random.PRNGKey(1))\n",
    "# experiment.make_plots()"
   ],
   "metadata": {
    "collapsed": false
   }
  },
  {
   "cell_type": "code",
   "execution_count": null,
   "outputs": [],
   "source": [
    "\n",
    "# # svi_results = svi.run(rng_key_train, self._max_iter, stable_update=True,\n",
    "# #                       progress_bar=(DEVICE != \"gpu\"), X=X, Y=Y)\n",
    "# params = svi.get_params(svi_state)\n",
    "# # print(\"\\nSVI elapsed time:\", time.time() - start)\n",
    "# fig, ax = plt.subplots()\n",
    "# ax.plot(np.arange(VI_MAX_ITER), losses)\n",
    "# ax.set_title(\"ELBO loss during training\")\n",
    "# ax.set_ylim(np.min(losses)*0.9, np.percentile(losses, q=95.0))\n",
    "# # self._conv_plot = fig, ax\n",
    "# fig.show()\n",
    "# # self._params = params"
   ],
   "metadata": {
    "collapsed": false
   }
  },
  {
   "cell_type": "code",
   "execution_count": null,
   "outputs": [],
   "source": [
    "# preds = experiment._predictions[\"Y_mean\"][..., 0]\n",
    "# preds.shape"
   ],
   "metadata": {
    "collapsed": false
   }
  },
  {
   "cell_type": "code",
   "execution_count": null,
   "outputs": [],
   "source": [
    "fig, ax = plt.subplots()\n",
    "for i in range(10):\n",
    "    ax.plot(fresh_data.test[0][:, 1], preds[i])\n",
    "plt.show()"
   ],
   "metadata": {
    "collapsed": false
   }
  },
  {
   "cell_type": "code",
   "execution_count": null,
   "outputs": [],
   "source": [
    "fig.savefig(\"figs/posterior_predictive_1.png\")"
   ],
   "metadata": {
    "collapsed": false
   }
  },
  {
   "cell_type": "markdown",
   "source": [
    "### Sequential experiment"
   ],
   "metadata": {
    "collapsed": false
   }
  },
  {
   "cell_type": "code",
   "execution_count": null,
   "outputs": [],
   "source": [
    "class SequentialExperiment(SequentialExperimentBlock):\n",
    "    def __init__(self, bnn: BayesianNeuralNetwork, data: Data, Block: Type[SequentialExperimentBlock],\n",
    "                 num_inference_steps: int = 2, **block_kwargs):\n",
    "        \"\"\" :param num_inference_steps: split data into this many chunks, and\n",
    "                                        do Bayesian inference sequentially on them\n",
    "        \"\"\"\n",
    "        super().__init__(bnn, data)\n",
    "        self._num_inference_steps = num_inference_steps\n",
    "        self._Block: Type[SequentialExperimentBlock] = Block\n",
    "        self._block_kwargs: dict = block_kwargs\n",
    "        # Initialise state\n",
    "        self._experiment_blocks: list[Block] = list()\n",
    "\n",
    "    @property\n",
    "    def posterior(self) -> tuple[dist.Distribution, Optional[dist.Distribution]]:\n",
    "        assert len(self._experiment_blocks) > 0\n",
    "        return self._experiment_blocks[-1].posterior\n",
    "\n",
    "    def train(self, rng_key_train: random.PRNGKey):\n",
    "        train_len = self._data.train[0].shape[0]\n",
    "        rng_key_array_train: random.PRNGKeyArray = random.split(rng_key_train, num=self._num_inference_steps)\n",
    "        for step_idx, rng_key_train_step in enumerate(rng_key_array_train):\n",
    "            chunk = slice(step_idx*(train_len//self._num_inference_steps),\n",
    "                          min(train_len, (step_idx+1)*(train_len//self._num_inference_steps)))\n",
    "            data_view = DataSlice(self._data, chunk)\n",
    "            experiment_block = self._Block(self._bnn, data_view, **self._block_kwargs)\n",
    "            experiment_block.train(rng_key_train_step)\n",
    "            self._bnn = self._bnn.with_prior(*experiment_block.posterior)\n",
    "            self._experiment_blocks.append(experiment_block)\n",
    "\n",
    "    def make_predictions(self, rng_key_predict: random.PRNGKey, final_only: bool = True):\n",
    "        # Delegate to final experiment block\n",
    "        assert len(self._experiment_blocks) > 0\n",
    "        if final_only:\n",
    "            self._experiment_blocks[-1].make_predictions(rng_key_predict)\n",
    "        else:\n",
    "            rng_key_array: random.PRNGKeyArray = random.split(rng_key_predict, len(self._experiment_blocks))\n",
    "            for experiment_block, rng_key in zip(self._experiment_blocks, rng_key_array):\n",
    "                experiment_block.make_predictions(rng_key)\n",
    "\n",
    "    def make_plots(self, final_only: bool = True, **kwargs) -> plt.Figure:\n",
    "        # fig, ax = plt.subplots(nrows=len(self._experiment_blocks))\n",
    "        assert len(self._experiment_blocks) > 0\n",
    "        if final_only:\n",
    "            return self._experiment_blocks[-1].make_plots()\n",
    "        else:\n",
    "            for experiment_block in self._experiment_blocks:\n",
    "                experiment_block.make_plots()\n",
    "        return None"
   ],
   "metadata": {
    "collapsed": false
   }
  },
  {
   "cell_type": "code",
   "execution_count": null,
   "outputs": [],
   "source": [
    "class ExperimentWithLastBlockReplaced(Experiment):\n",
    "    def __init__(self, sequential_experiment: SequentialExperiment, LastBlock: Type[Experiment], **kwargs):\n",
    "        super().__init__(sequential_experiment._bnn, sequential_experiment._data)\n",
    "        self._LastBlock: Type[Experiment] = LastBlock\n",
    "        self._sequential_experiment: SequentialExperiment = sequential_experiment\n",
    "        self._kwargs = kwargs\n",
    "        self._last_block: Optional[Experiment] = None\n",
    "\n",
    "    def train(self, rng_key_train: random.PRNGKey):\n",
    "        rng_seq, rng_hmc = random.split(rng_key_train)\n",
    "        self._sequential_experiment.train(rng_seq)\n",
    "        last_seq_block = self._sequential_experiment._experiment_blocks[-1]\n",
    "        last_block = self._LastBlock(bnn=last_seq_block._bnn, data=last_seq_block._data, **self._kwargs)\n",
    "        last_block.train(rng_hmc)\n",
    "        self._last_block = last_block\n",
    "        # self._sequential_experiment._experiment_blocks[-1] = last_block\n",
    "\n",
    "    def make_predictions(self, rng_key_predict: random.PRNGKey, **kwargs):\n",
    "        rng_seq, rng_hmc = random.split(rng_key_predict)\n",
    "        self._sequential_experiment.make_predictions(rng_seq, **kwargs)\n",
    "        self._last_block.make_predictions(rng_hmc)\n",
    "\n",
    "    def make_plots(self, final_only: bool = True, **kwargs) -> plt.Figure:\n",
    "        self._sequential_experiment.make_plots(final_only)\n",
    "        self._last_block.make_plots(**kwargs)"
   ],
   "metadata": {
    "collapsed": false
   }
  },
  {
   "cell_type": "markdown",
   "source": [
    "## Space for running experiments"
   ],
   "metadata": {
    "collapsed": false
   }
  },
  {
   "cell_type": "code",
   "execution_count": null,
   "outputs": [],
   "source": [
    "# fresh_bnn = copy.deepcopy(bnn)\n",
    "fresh_data = copy.deepcopy(data)\n",
    "first_half_data = DataSlice(fresh_data, slice(50))\n",
    "second_half_data = DataSlice(fresh_data, slice(50,100))"
   ],
   "metadata": {
    "collapsed": false
   }
  },
  {
   "cell_type": "code",
   "execution_count": null,
   "outputs": [],
   "source": [
    "first_half_experiment = BasicMeanFieldGaussianVIExperiment(fresh_bnn, first_half_data, num_samples=1000, max_iter=VI_MAX_ITER)\n",
    "first_half_experiment.run(random.PRNGKey(0)).savefig(\"figs/manual_first_half_VI_4.png\")\n",
    "first_half_experiment.show_convergence_plot().savefig(\"figs/manual_first_half_VI_conv_4.png\")"
   ],
   "metadata": {
    "collapsed": false
   }
  },
  {
   "cell_type": "code",
   "execution_count": null,
   "outputs": [],
   "source": [
    "second_half_HMC_experiment = BasicHMCExperiment(fresh_bnn.with_prior(*first_half_experiment.posterior), second_half_data, num_samples=200, num_warmup=100)\n",
    "second_half_HMC_experiment.run(random.PRNGKey(0)).savefig(\"figs/manual_second_half_HMC_4.png\")"
   ],
   "metadata": {
    "collapsed": false
   }
  },
  {
   "cell_type": "code",
   "execution_count": null,
   "outputs": [],
   "source": [
    "second_half_VI_experiment = BasicMeanFieldGaussianVIExperiment(fresh_bnn.with_prior(*first_half_experiment.posterior), second_half_data, num_samples=1000, max_iter=VI_MAX_ITER)\n",
    "second_half_VI_experiment.run(random.PRNGKey(0)).savefig(\"figs/manual_second_half_VI_4.png\")"
   ],
   "metadata": {
    "collapsed": false
   }
  },
  {
   "cell_type": "code",
   "execution_count": null,
   "outputs": [],
   "source": [
    "fresh_data = copy.deepcopy(data)"
   ],
   "metadata": {
    "collapsed": false
   }
  },
  {
   "cell_type": "code",
   "execution_count": null,
   "outputs": [],
   "source": [
    "sequential_experiment = SequentialExperiment(fresh_bnn, fresh_data, BasicMeanFieldGaussianVIExperiment, num_inference_steps=2, max_iter = VI_MAX_ITER)"
   ],
   "metadata": {
    "collapsed": false
   }
  },
  {
   "cell_type": "code",
   "execution_count": null,
   "outputs": [],
   "source": [
    "sequential_experiment = ExperimentWithLastBlockReplaced(sequential_experiment, BasicHMCExperiment, num_samples=200, num_warmup=100)"
   ],
   "metadata": {
    "collapsed": false
   }
  },
  {
   "cell_type": "code",
   "execution_count": null,
   "outputs": [],
   "source": [
    "# sequential_experiment.train(random.PRNGKey(0))"
   ],
   "metadata": {
    "collapsed": false
   }
  },
  {
   "cell_type": "code",
   "execution_count": null,
   "outputs": [],
   "source": [
    "# sequential_experiment.make_predictions(random.PRNGKey(2), final_only=False)"
   ],
   "metadata": {
    "collapsed": false
   }
  },
  {
   "cell_type": "code",
   "execution_count": null,
   "outputs": [],
   "source": [
    "# sequential_experiment.make_plots(final_only=False)"
   ],
   "metadata": {
    "collapsed": false
   }
  },
  {
   "cell_type": "code",
   "execution_count": null,
   "outputs": [],
   "source": [
    "# # Custom plotting for sequential experiment\n",
    "# fig, axs = plt.subplots(figsize=(8, 4), ncols=2)\n",
    "# for i, ax in enumerate(axs.ravel()):\n",
    "#     experiment_block = sequential_experiment._sequential_experiment._experiment_blocks[i]\n",
    "#     predictions = experiment_block._predictions[\"Y\"][..., 0]\n",
    "#     mean_predictions = experiment_block._predictions[\"Y_mean\"][..., 0]\n",
    "#     data = experiment_block._data\n",
    "#     X, Y = data.train\n",
    "#     X_test, _ = data.test\n",
    "#     # compute mean prediction and confidence interval around median\n",
    "#     mean_means = jnp.mean(mean_predictions, axis=0)\n",
    "#     mean_percentiles = np.percentile(predictions, [5.0, 95.0], axis=0)\n",
    "#     # plot training data\n",
    "#     ax.plot(X[:, 1], Y[:, 0], \"kx\")\n",
    "#     # plot predictions & quantiles\n",
    "#     ax.plot(X_test[:, 1], mean_means, color=\"blue\")\n",
    "#     ax.fill_between(X_test[:, 1], *mean_percentiles, color=\"lightblue\")\n",
    "#     ax.set_title(str(data._train_idx_slice))\n",
    "# fig.tight_layout()\n",
    "# fig.savefig(\"figs/sequential-VI-simple3.png\")"
   ],
   "metadata": {
    "collapsed": false
   }
  },
  {
   "cell_type": "markdown",
   "source": [
    "#### Draw samples from prior predictive"
   ],
   "metadata": {
    "collapsed": false
   }
  },
  {
   "cell_type": "code",
   "execution_count": null,
   "outputs": [],
   "source": [
    "fresh_bnn = copy.deepcopy(bnn)"
   ],
   "metadata": {
    "collapsed": false
   }
  },
  {
   "cell_type": "code",
   "execution_count": null,
   "outputs": [],
   "source": [
    "fig, ax =  plt.subplots()\n",
    "with handlers.seed(rng_seed=random.PRNGKey(0)):\n",
    "    t = data.test[0]\n",
    "    for _ in range(25):\n",
    "        prior_fn = handlers.trace(fresh_bnn).get_trace(X=t, Y=None)[\"Y_mean\"][\"value\"]\n",
    "        ax.plot(t[:,1], prior_fn)\n",
    "plt.savefig(\"figs/prior_pred_4.png\")"
   ],
   "metadata": {
    "collapsed": false
   }
  },
  {
   "cell_type": "markdown",
   "source": [
    "#### Reverse dataset for two halves sequential experiment"
   ],
   "metadata": {
    "collapsed": false
   }
  },
  {
   "cell_type": "code",
   "execution_count": null,
   "outputs": [],
   "source": [
    "fresh_bnn = copy.deepcopy(bnn)"
   ],
   "metadata": {
    "collapsed": false
   }
  },
  {
   "cell_type": "code",
   "execution_count": null,
   "outputs": [],
   "source": [
    "reversed_data = ReverseData(data)"
   ],
   "metadata": {
    "collapsed": false
   }
  },
  {
   "cell_type": "code",
   "execution_count": null,
   "outputs": [],
   "source": [
    "reversed_sequential_experiment = SequentialExperiment(fresh_bnn, reversed_data, BasicFullRankGaussianVIExperiment)"
   ],
   "metadata": {
    "collapsed": false
   }
  },
  {
   "cell_type": "code",
   "execution_count": null,
   "outputs": [],
   "source": [
    "# reversed_sequential_experiment.train(random.PRNGKey(0))"
   ],
   "metadata": {
    "collapsed": false
   }
  },
  {
   "cell_type": "code",
   "execution_count": null,
   "outputs": [],
   "source": [
    "# reversed_sequential_experiment.make_predictions(random.PRNGKey(1), final_only=False)"
   ],
   "metadata": {
    "collapsed": false
   }
  },
  {
   "cell_type": "code",
   "execution_count": null,
   "outputs": [],
   "source": [
    "# # Custom plotting for reversed sequential experiment\n",
    "# fig, axs = plt.subplots(figsize=(8, 4), ncols=2)\n",
    "# for i, ax in enumerate(axs.ravel()):\n",
    "#     experiment_block = reversed_sequential_experiment._experiment_blocks[i]\n",
    "#     predictions = experiment_block._predictions[\"Y\"][..., 0]\n",
    "#     data = experiment_block._data\n",
    "#     X, Y = data.train\n",
    "#     X_test, _ = data.test\n",
    "#     # compute mean prediction and confidence interval around median\n",
    "#     mean_predictions = jnp.mean(predictions, axis=0)\n",
    "#     percentiles = np.percentile(predictions, [5.0, 95.0], axis=0)\n",
    "#     # plot training data\n",
    "#     ax.plot(X[:, 1], Y[:, 0], \"kx\")\n",
    "#     # plot predictions & quantiles\n",
    "#     ax.plot(X_test[:, 1], mean_predictions, color=\"blue\")\n",
    "#     ax.fill_between(X_test[:, 1], *percentiles, color=\"lightblue\")\n",
    "#     ax.set_title(str(data._train_idx_slice))\n",
    "# fig.tight_layout()\n",
    "# # fig.savefig(\"figs/sequential-full-rank-VI-reversed1.png\")"
   ],
   "metadata": {
    "collapsed": false
   }
  },
  {
   "cell_type": "markdown",
   "source": [
    "#### Randomized dataset experiment"
   ],
   "metadata": {
    "collapsed": false
   }
  },
  {
   "cell_type": "code",
   "execution_count": null,
   "outputs": [],
   "source": [
    "train_len = data.train[0].shape[0]\n",
    "random_perm = np.random.choice(np.arange(train_len), size=train_len, replace=False)\n",
    "permuted_data = PermutedData(data, random_perm)"
   ],
   "metadata": {
    "collapsed": false
   }
  },
  {
   "cell_type": "code",
   "execution_count": null,
   "outputs": [],
   "source": [
    "# plt.close('all')"
   ],
   "metadata": {
    "collapsed": false
   }
  }
 ],
 "metadata": {
  "kernelspec": {
   "display_name": "Python 3",
   "language": "python",
   "name": "python3"
  },
  "language_info": {
   "codemirror_mode": {
    "name": "ipython",
    "version": 2
   },
   "file_extension": ".py",
   "mimetype": "text/x-python",
   "name": "python",
   "nbconvert_exporter": "python",
   "pygments_lexer": "ipython2",
   "version": "2.7.6"
  }
 },
 "nbformat": 4,
 "nbformat_minor": 0
}
