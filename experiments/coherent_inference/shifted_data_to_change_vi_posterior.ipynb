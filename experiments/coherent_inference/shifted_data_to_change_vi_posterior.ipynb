{
 "cells": [
  {
   "cell_type": "code",
   "execution_count": null,
   "outputs": [],
   "source": [
    "import copy\n",
    "import pickle\n",
    "\n",
    "import jax.nn\n",
    "import jax.numpy as jnp\n",
    "import jax.random as random\n",
    "import matplotlib.pyplot as plt\n",
    "import numpyro\n",
    "import optax\n",
    "import tqdm.notebook as tqdm\n",
    "from numpyro import handlers"
   ],
   "metadata": {
    "collapsed": false
   }
  },
  {
   "cell_type": "code",
   "execution_count": null,
   "outputs": [],
   "source": [
    "%load_ext autoreload\n",
    "%autoreload 2\n",
    "\n",
    "from experiments.src.experiment import *\n",
    "from experiments.src.data import *\n",
    "from experiments.src.model import BNNRegressor"
   ],
   "metadata": {
    "collapsed": false
   }
  },
  {
   "cell_type": "code",
   "execution_count": null,
   "outputs": [],
   "source": [
    "# %matplotlib inline\n",
    "# import matplotlib\n",
    "# matplotlib.use(\"nbAgg\")  # noqa: E402\n",
    "\n",
    "plt.rcParams.update({\n",
    "    \"axes.grid\": True,      # show grid by default\n",
    "    \"font.weight\": \"bold\",  # bold fonts\n",
    "    \"xtick.labelsize\": 15,  # large tick labels\n",
    "    \"ytick.labelsize\": 15,  # large tick labels\n",
    "    \"lines.linewidth\": 1,   # thick lines\n",
    "    \"lines.color\": \"k\",     # black lines\n",
    "    # \"grid.color\": \"0.5\",    # gray gridlines\n",
    "    \"grid.linestyle\": \"-\",  # solid gridlines\n",
    "    \"grid.linewidth\": 0.1,  # thin gridlines\n",
    "    \"savefig.dpi\": 300,     # higher resolution output.\n",
    "})"
   ],
   "metadata": {
    "collapsed": false
   }
  },
  {
   "cell_type": "code",
   "execution_count": null,
   "outputs": [],
   "source": [
    "DEVICE = \"gpu\"\n",
    "numpyro.set_platform(DEVICE)\n",
    "# numpyro.set_host_device_count(NUM_CHAINS)\n",
    "D_X = 1\n",
    "VI_MAX_ITER = 250_000\n",
    "VI_NUM_SAMPLES = 500\n",
    "HMC_NUM_WARMUP = 100\n",
    "HMC_NUM_SAMPLES = 200\n",
    "HMC_NUM_CHAINS = 2\n",
    "BNN_SIZE = [68, 128, 128, 128, 64]\n",
    "BETA = 0.1"
   ],
   "metadata": {
    "collapsed": false
   }
  },
  {
   "cell_type": "code",
   "execution_count": null,
   "outputs": [],
   "source": [
    "VI_LR_SCHEDULE = optax.piecewise_interpolate_schedule(\n",
    "    interpolate_type='cosine',\n",
    "    init_value=-0.1,\n",
    "    boundaries_and_scales={1000: 0.2, 5000: 0.5, 10_000: 0.2, 100_000: 0.5, 150_000: 0.5, 200_000: 0.5}\n",
    ")"
   ],
   "metadata": {
    "collapsed": false
   }
  },
  {
   "cell_type": "markdown",
   "source": [
    "## Data"
   ],
   "metadata": {
    "collapsed": false
   }
  },
  {
   "cell_type": "code",
   "execution_count": null,
   "outputs": [],
   "source": [
    "pretrain_data = LinearData(intercept=0.5, beta=0.0)"
   ],
   "metadata": {
    "collapsed": false
   }
  },
  {
   "cell_type": "code",
   "execution_count": null,
   "outputs": [],
   "source": [
    "np.random.seed(0)\n",
    "random_perm = np.random.choice(np.arange(50), size=50, replace=False)\n",
    "shifted_data = PermutedData(LinearData(intercept=-0.5, beta=0.0), random_perm)"
   ],
   "metadata": {
    "collapsed": false
   }
  },
  {
   "cell_type": "markdown",
   "source": [
    "Take prefixes of shifted data to see effect of data size"
   ],
   "metadata": {
    "collapsed": false
   }
  },
  {
   "cell_type": "code",
   "execution_count": null,
   "outputs": [],
   "source": [
    "retrain_sizes = [1, 2, 5, 10, 25, 50, 75]\n",
    "retrain_datasets = [DataSlice(shifted_data, slice(size)) for size in retrain_sizes]"
   ],
   "metadata": {
    "collapsed": false
   }
  },
  {
   "cell_type": "markdown",
   "source": [
    "## Model"
   ],
   "metadata": {
    "collapsed": false
   }
  },
  {
   "cell_type": "code",
   "execution_count": null,
   "outputs": [],
   "source": [
    "bnn = BNNRegressor(\n",
    "    nonlin=jax.nn.silu,\n",
    "    D_X=D_X,\n",
    "    D_Y=1,\n",
    "    D_H=BNN_SIZE,\n",
    "    biases=True,\n",
    "    prior_scale=10,\n",
    "    prior_type='xavier',\n",
    "    # obs_model=\"classification\",\n",
    "    obs_model='loc_scale',\n",
    "    # obs_model=1 / (0.05 / 0.26480442)**2,\n",
    "    beta=BETA,\n",
    ")\n"
   ],
   "metadata": {
    "collapsed": false
   }
  },
  {
   "cell_type": "code",
   "execution_count": null,
   "outputs": [],
   "source": [
    "bnn.get_weight_dim()"
   ],
   "metadata": {
    "collapsed": false
   }
  },
  {
   "cell_type": "markdown",
   "source": [
    "## Experiment"
   ],
   "metadata": {
    "collapsed": false
   }
  },
  {
   "cell_type": "markdown",
   "source": [
    "Pretrain on first data set"
   ],
   "metadata": {
    "collapsed": false
   }
  },
  {
   "cell_type": "code",
   "execution_count": null,
   "outputs": [],
   "source": [
    "# HMC baseline\n",
    "pretrain_hmc_baseline = BasicHMCExperiment(bnn, pretrain_data, HMC_NUM_SAMPLES, HMC_NUM_WARMUP, HMC_NUM_CHAINS)\n",
    "pretrain_hmc_baseline.train(random.PRNGKey(0))"
   ],
   "metadata": {
    "collapsed": false
   }
  },
  {
   "cell_type": "code",
   "execution_count": null,
   "outputs": [],
   "source": [
    "pretrain_hmc_baseline.make_predictions(random.PRNGKey(1))"
   ],
   "metadata": {
    "collapsed": false
   }
  },
  {
   "cell_type": "code",
   "execution_count": null,
   "outputs": [],
   "source": [
    "fig, ax = plt.subplots()\n",
    "pretrain_hmc_baseline.make_plots(fig=fig, ax=ax)\n",
    "ax.set_ylim(-2, 2)\n",
    "ax.set_title(\"HMC baseline for pretraining stage\")\n",
    "fig.tight_layout()\n",
    "fig.savefig(\"pretrain-hmc-baseline.png\")"
   ],
   "metadata": {
    "collapsed": false
   }
  },
  {
   "cell_type": "code",
   "execution_count": null,
   "outputs": [],
   "source": [
    "del pretrain_hmc_baseline"
   ],
   "metadata": {
    "collapsed": false
   }
  },
  {
   "cell_type": "code",
   "execution_count": null,
   "outputs": [],
   "source": [
    "# VI pretraining\n",
    "pretrain_experiment = BasicMeanFieldGaussianVIExperiment(\n",
    "    bnn, pretrain_data, num_samples=VI_NUM_SAMPLES, max_iter=VI_MAX_ITER, lr_schedule=VI_LR_SCHEDULE)"
   ],
   "metadata": {
    "collapsed": false
   }
  },
  {
   "cell_type": "code",
   "execution_count": null,
   "outputs": [],
   "source": [
    "pretrain_experiment.train(random.PRNGKey(0))"
   ],
   "metadata": {
    "collapsed": false
   }
  },
  {
   "cell_type": "code",
   "execution_count": null,
   "outputs": [],
   "source": [
    "pretrain_experiment.make_predictions(random.PRNGKey(1))\n",
    "fig, ax = plt.subplots()\n",
    "pretrain_experiment.make_plots(fig=fig, ax=ax)\n",
    "ax.set_ylim(-2.0, 2.0)\n",
    "fig.savefig(\"figs/vi-pretrained-predictive.png\")"
   ],
   "metadata": {
    "collapsed": false
   }
  },
  {
   "cell_type": "code",
   "execution_count": null,
   "outputs": [],
   "source": [
    "pretrained_prior = pretrain_experiment.posterior\n",
    "del pretrain_experiment\n",
    "pretrained_bnn = bnn.with_prior(*pretrained_prior)\n",
    "del bnn"
   ],
   "metadata": {
    "collapsed": false
   }
  },
  {
   "cell_type": "code",
   "execution_count": null,
   "outputs": [],
   "source": [
    "for retrain_data in retrain_datasets:\n",
    "    retrain_data_size = retrain_data.train[1].shape[0]\n",
    "    # train VI on pretrained prior\n",
    "    vi_experiment_on_pretrained = BasicMeanFieldGaussianVIExperiment(\n",
    "        pretrained_bnn, retrain_data, num_samples=VI_NUM_SAMPLES, max_iter=VI_MAX_ITER, lr_schedule=VI_LR_SCHEDULE)\n",
    "    vi_experiment_on_pretrained.train(random.PRNGKey(0))\n",
    "    vi_experiment_on_pretrained.make_predictions(random.PRNGKey(1))\n",
    "    # Make plot\n",
    "    fig, ax = plt.subplots()\n",
    "    vi_experiment_on_pretrained.make_plots(fig=fig, ax=ax)\n",
    "    ax.set_title(f\"VI retrained on {retrain_data_size} points\")\n",
    "    ax.set_ylim(-2.0, 2.0)\n",
    "    fig.tight_layout()\n",
    "    fig.savefig(f\"figs/vi-retrained-on-{retrain_data_size}.png\")\n",
    "    del vi_experiment_on_pretrained\n",
    "\n",
    "    # train HMC on pretrained prior\n",
    "    hmc_experiment_on_pretrained = BasicHMCExperiment(\n",
    "        pretrained_bnn, retrain_data, HMC_NUM_SAMPLES, HMC_NUM_WARMUP, HMC_NUM_CHAINS)\n",
    "    hmc_experiment_on_pretrained.train(random.PRNGKey(0))\n",
    "    hmc_experiment_on_pretrained.make_predictions(random.PRNGKey(1))\n",
    "    # Make plot\n",
    "    fig, ax = plt.subplots()\n",
    "    hmc_experiment_on_pretrained.make_plots(fig=fig, ax=ax)\n",
    "    ax.set_title(f\"HMC retrained on {retrain_data.train[1].shape[0]} points\")\n",
    "    ax.set_ylim(-2.0, 2.0)\n",
    "    fig.tight_layout()\n",
    "    fig.savefig(f\"figs/hmc-retrained-on-{retrain_data_size}.png\")\n",
    "    del hmc_experiment_on_pretrained"
   ],
   "metadata": {
    "collapsed": false
   }
  }
 ],
 "metadata": {
  "kernelspec": {
   "display_name": "Python 3",
   "language": "python",
   "name": "python3"
  },
  "language_info": {
   "codemirror_mode": {
    "name": "ipython",
    "version": 2
   },
   "file_extension": ".py",
   "mimetype": "text/x-python",
   "name": "python",
   "nbconvert_exporter": "python",
   "pygments_lexer": "ipython2",
   "version": "2.7.6"
  }
 },
 "nbformat": 4,
 "nbformat_minor": 0
}
