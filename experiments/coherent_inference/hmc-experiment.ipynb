{
 "cells": [
  {
   "cell_type": "code",
   "execution_count": 1,
   "outputs": [],
   "source": [
    "import pickle\n",
    "\n",
    "import jax.nn\n",
    "import jax.random as random\n",
    "import matplotlib.pyplot as plt\n",
    "import numpy as np\n",
    "import numpyro\n",
    "import time\n",
    "import tqdm.notebook as tqdm"
   ],
   "metadata": {
    "collapsed": false
   }
  },
  {
   "cell_type": "code",
   "execution_count": 2,
   "outputs": [],
   "source": [
    "%load_ext autoreload\n",
    "%autoreload 2\n",
    "\n",
    "from experiments.src.experiment import *\n",
    "from experiments.src.data import ToyData1\n",
    "from experiments.src.model import BNNRegressor"
   ],
   "metadata": {
    "collapsed": false
   }
  },
  {
   "cell_type": "code",
   "execution_count": 3,
   "outputs": [],
   "source": [
    "# %matplotlib inline\n",
    "# matplotlib.use(\"nbAgg\")  # noqa: E402\n",
    "\n",
    "plt.rcParams.update({\n",
    "    \"axes.grid\": True,      # show grid by default\n",
    "    \"font.weight\": \"bold\",  # bold fonts\n",
    "    \"xtick.labelsize\": 15,  # large tick labels\n",
    "    \"ytick.labelsize\": 15,  # large tick labels\n",
    "    \"lines.linewidth\": 1,   # thick lines\n",
    "    \"lines.color\": \"k\",     # black lines\n",
    "    # \"grid.color\": \"0.5\",    # gray gridlines\n",
    "    \"grid.linestyle\": \"-\",  # solid gridlines\n",
    "    \"grid.linewidth\": 0.1,  # thin gridlines\n",
    "    \"savefig.dpi\": 300,     # higher resolution output.\n",
    "})"
   ],
   "metadata": {
    "collapsed": false
   }
  },
  {
   "cell_type": "code",
   "execution_count": 106,
   "outputs": [],
   "source": [
    "DEVICE = \"gpu\"\n",
    "numpyro.set_platform(DEVICE)\n",
    "# numpyro.set_host_device_count(NUM_CHAINS)\n",
    "D_X = 2\n",
    "BNN_SIZE = [64, 128, 128, 64]"
   ],
   "metadata": {
    "collapsed": false
   }
  },
  {
   "cell_type": "code",
   "execution_count": 7,
   "outputs": [],
   "source": [
    "data = ToyData1(D_X=D_X, train_size=100)"
   ],
   "metadata": {
    "collapsed": false
   }
  },
  {
   "cell_type": "code",
   "execution_count": 107,
   "outputs": [],
   "source": [
    "bnn = BNNRegressor(\n",
    "    nonlin=jax.nn.silu,\n",
    "    D_X=D_X,\n",
    "    D_Y=1,\n",
    "    D_H=BNN_SIZE,\n",
    "    biases=True,\n",
    "    prior_scale=10,\n",
    "    prior_type='xavier',\n",
    ")"
   ],
   "metadata": {
    "collapsed": false
   }
  },
  {
   "cell_type": "code",
   "execution_count": 108,
   "outputs": [
    {
     "data": {
      "text/plain": "33410"
     },
     "execution_count": 108,
     "metadata": {},
     "output_type": "execute_result"
    }
   ],
   "source": [
    "bnn.get_weight_dim()"
   ],
   "metadata": {
    "collapsed": false
   }
  },
  {
   "cell_type": "markdown",
   "source": [
    "## Experiment"
   ],
   "metadata": {
    "collapsed": false
   }
  },
  {
   "cell_type": "code",
   "execution_count": 65,
   "outputs": [],
   "source": [
    "HOURS = 60 * 60\n",
    "MAX_TIME = 5 * HOURS"
   ],
   "metadata": {
    "collapsed": false
   }
  },
  {
   "cell_type": "code",
   "execution_count": 99,
   "outputs": [],
   "source": [
    "experiment = BasicHMCExperiment(\n",
    "    bnn,\n",
    "    data,\n",
    "    num_samples = 100, num_warmup = 100,\n",
    "    num_chains = 4, group_by_chain=True\n",
    ")"
   ],
   "metadata": {
    "collapsed": false
   }
  },
  {
   "cell_type": "code",
   "execution_count": 70,
   "outputs": [
    {
     "name": "stderr",
     "output_type": "stream",
     "text": [
      "\n",
      "\n",
      "\n",
      "0it [02:05, ?it/s]\u001B[A\u001B[A\u001B[A\n",
      "0it [01:19, ?it/s]\n"
     ]
    },
    {
     "ename": "KeyboardInterrupt",
     "evalue": "",
     "output_type": "error",
     "traceback": [
      "\u001B[0;31m---------------------------------------------------------------------------\u001B[0m",
      "\u001B[0;31mKeyboardInterrupt\u001B[0m                         Traceback (most recent call last)",
      "Cell \u001B[0;32mIn[70], line 4\u001B[0m\n\u001B[1;32m      2\u001B[0m start \u001B[38;5;241m=\u001B[39m time\u001B[38;5;241m.\u001B[39mtime()\n\u001B[1;32m      3\u001B[0m \u001B[38;5;28;01mwhile\u001B[39;00m time\u001B[38;5;241m.\u001B[39mtime() \u001B[38;5;241m-\u001B[39m start \u001B[38;5;241m<\u001B[39m\u001B[38;5;241m=\u001B[39m MAX_TIME:\n\u001B[0;32m----> 4\u001B[0m     \u001B[43mexperiment\u001B[49m\u001B[38;5;241;43m.\u001B[39;49m\u001B[43mtrain\u001B[49m\u001B[43m(\u001B[49m\u001B[43mrandom\u001B[49m\u001B[38;5;241;43m.\u001B[39;49m\u001B[43mPRNGKey\u001B[49m\u001B[43m(\u001B[49m\u001B[38;5;241;43m1\u001B[39;49m\u001B[43m)\u001B[49m\u001B[43m,\u001B[49m\u001B[43m \u001B[49m\u001B[43mprogress_bar\u001B[49m\u001B[38;5;241;43m=\u001B[39;49m\u001B[38;5;28;43;01mFalse\u001B[39;49;00m\u001B[43m)\u001B[49m\n\u001B[1;32m      5\u001B[0m     info \u001B[38;5;241m=\u001B[39m \u001B[38;5;124mf\u001B[39m\u001B[38;5;124m\"\u001B[39m\u001B[38;5;132;01m{\u001B[39;00mtime\u001B[38;5;241m.\u001B[39mtime() \u001B[38;5;241m-\u001B[39m start\u001B[38;5;132;01m:\u001B[39;00m\u001B[38;5;124m.2f\u001B[39m\u001B[38;5;132;01m}\u001B[39;00m\u001B[38;5;124m / \u001B[39m\u001B[38;5;132;01m{\u001B[39;00mMAX_TIME\u001B[38;5;132;01m:\u001B[39;00m\u001B[38;5;124m.2f\u001B[39m\u001B[38;5;132;01m}\u001B[39;00m\u001B[38;5;124m\"\u001B[39m\n\u001B[1;32m      6\u001B[0m     tqdm_obj\u001B[38;5;241m.\u001B[39mclear()\n",
      "File \u001B[0;32m~/DataspellProjects/bnn/experiments/src/experiment.py:131\u001B[0m, in \u001B[0;36mBasicHMCExperiment.train\u001B[0;34m(self, rng_key_train, progress_bar)\u001B[0m\n\u001B[1;32m    128\u001B[0m     rng_key_train = self._mcmc.post_warmup_state.rng_key\n\u001B[1;32m    129\u001B[0m self._mcmc.run(rng_key_train, X, Y)\n\u001B[1;32m    130\u001B[0m if progress_bar:\n\u001B[0;32m--> 131\u001B[0m     # mcmc.print_summary()\n\u001B[1;32m    132\u001B[0m     print(\"\\nMCMC elapsed time:\", time.time() - start)\n\u001B[1;32m    133\u001B[0m self._samples['w'] = jnp.concatenate(\n\u001B[1;32m    134\u001B[0m     (self._samples['w'], self._mcmc.get_samples(group_by_chain=self._group_by_chain)['w']),\n\u001B[1;32m    135\u001B[0m     axis=0\n\u001B[1;32m    136\u001B[0m )\n",
      "File \u001B[0;32m~/miniconda3/envs/bnn/lib/python3.10/site-packages/numpyro/infer/mcmc.py:637\u001B[0m, in \u001B[0;36mMCMC.run\u001B[0;34m(self, rng_key, extra_fields, init_params, *args, **kwargs)\u001B[0m\n\u001B[1;32m    635\u001B[0m \u001B[38;5;28;01melse\u001B[39;00m:\n\u001B[1;32m    636\u001B[0m     \u001B[38;5;28;01massert\u001B[39;00m \u001B[38;5;28mself\u001B[39m\u001B[38;5;241m.\u001B[39mchain_method \u001B[38;5;241m==\u001B[39m \u001B[38;5;124m\"\u001B[39m\u001B[38;5;124mvectorized\u001B[39m\u001B[38;5;124m\"\u001B[39m\n\u001B[0;32m--> 637\u001B[0m     states, last_state \u001B[38;5;241m=\u001B[39m \u001B[43mpartial_map_fn\u001B[49m\u001B[43m(\u001B[49m\u001B[43mmap_args\u001B[49m\u001B[43m)\u001B[49m\n\u001B[1;32m    638\u001B[0m     \u001B[38;5;66;03m# swap num_samples x num_chains to num_chains x num_samples\u001B[39;00m\n\u001B[1;32m    639\u001B[0m     states \u001B[38;5;241m=\u001B[39m tree_map(\u001B[38;5;28;01mlambda\u001B[39;00m x: jnp\u001B[38;5;241m.\u001B[39mswapaxes(x, \u001B[38;5;241m0\u001B[39m, \u001B[38;5;241m1\u001B[39m), states)\n",
      "File \u001B[0;32m~/miniconda3/envs/bnn/lib/python3.10/site-packages/numpyro/infer/mcmc.py:434\u001B[0m, in \u001B[0;36mMCMC._single_chain_mcmc\u001B[0;34m(self, init, args, kwargs, collect_fields)\u001B[0m\n\u001B[1;32m    428\u001B[0m collection_size \u001B[38;5;241m=\u001B[39m \u001B[38;5;28mself\u001B[39m\u001B[38;5;241m.\u001B[39m_collection_params[\u001B[38;5;124m\"\u001B[39m\u001B[38;5;124mcollection_size\u001B[39m\u001B[38;5;124m\"\u001B[39m]\n\u001B[1;32m    429\u001B[0m collection_size \u001B[38;5;241m=\u001B[39m (\n\u001B[1;32m    430\u001B[0m     collection_size\n\u001B[1;32m    431\u001B[0m     \u001B[38;5;28;01mif\u001B[39;00m collection_size \u001B[38;5;129;01mis\u001B[39;00m \u001B[38;5;28;01mNone\u001B[39;00m\n\u001B[1;32m    432\u001B[0m     \u001B[38;5;28;01melse\u001B[39;00m collection_size \u001B[38;5;241m/\u001B[39m\u001B[38;5;241m/\u001B[39m \u001B[38;5;28mself\u001B[39m\u001B[38;5;241m.\u001B[39mthinning\n\u001B[1;32m    433\u001B[0m )\n\u001B[0;32m--> 434\u001B[0m collect_vals \u001B[38;5;241m=\u001B[39m \u001B[43mfori_collect\u001B[49m\u001B[43m(\u001B[49m\n\u001B[1;32m    435\u001B[0m \u001B[43m    \u001B[49m\u001B[43mlower_idx\u001B[49m\u001B[43m,\u001B[49m\n\u001B[1;32m    436\u001B[0m \u001B[43m    \u001B[49m\u001B[43mupper_idx\u001B[49m\u001B[43m,\u001B[49m\n\u001B[1;32m    437\u001B[0m \u001B[43m    \u001B[49m\u001B[43msample_fn\u001B[49m\u001B[43m,\u001B[49m\n\u001B[1;32m    438\u001B[0m \u001B[43m    \u001B[49m\u001B[43minit_val\u001B[49m\u001B[43m,\u001B[49m\n\u001B[1;32m    439\u001B[0m \u001B[43m    \u001B[49m\u001B[43mtransform\u001B[49m\u001B[38;5;241;43m=\u001B[39;49m\u001B[43m_collect_fn\u001B[49m\u001B[43m(\u001B[49m\u001B[43mcollect_fields\u001B[49m\u001B[43m)\u001B[49m\u001B[43m,\u001B[49m\n\u001B[1;32m    440\u001B[0m \u001B[43m    \u001B[49m\u001B[43mprogbar\u001B[49m\u001B[38;5;241;43m=\u001B[39;49m\u001B[38;5;28;43mself\u001B[39;49m\u001B[38;5;241;43m.\u001B[39;49m\u001B[43mprogress_bar\u001B[49m\u001B[43m,\u001B[49m\n\u001B[1;32m    441\u001B[0m \u001B[43m    \u001B[49m\u001B[43mreturn_last_val\u001B[49m\u001B[38;5;241;43m=\u001B[39;49m\u001B[38;5;28;43;01mTrue\u001B[39;49;00m\u001B[43m,\u001B[49m\n\u001B[1;32m    442\u001B[0m \u001B[43m    \u001B[49m\u001B[43mthinning\u001B[49m\u001B[38;5;241;43m=\u001B[39;49m\u001B[38;5;28;43mself\u001B[39;49m\u001B[38;5;241;43m.\u001B[39;49m\u001B[43mthinning\u001B[49m\u001B[43m,\u001B[49m\n\u001B[1;32m    443\u001B[0m \u001B[43m    \u001B[49m\u001B[43mcollection_size\u001B[49m\u001B[38;5;241;43m=\u001B[39;49m\u001B[43mcollection_size\u001B[49m\u001B[43m,\u001B[49m\n\u001B[1;32m    444\u001B[0m \u001B[43m    \u001B[49m\u001B[43mprogbar_desc\u001B[49m\u001B[38;5;241;43m=\u001B[39;49m\u001B[43mpartial\u001B[49m\u001B[43m(\u001B[49m\u001B[43m_get_progbar_desc_str\u001B[49m\u001B[43m,\u001B[49m\u001B[43m \u001B[49m\u001B[43mlower_idx\u001B[49m\u001B[43m,\u001B[49m\u001B[43m \u001B[49m\u001B[43mphase\u001B[49m\u001B[43m)\u001B[49m\u001B[43m,\u001B[49m\n\u001B[1;32m    445\u001B[0m \u001B[43m    \u001B[49m\u001B[43mdiagnostics_fn\u001B[49m\u001B[38;5;241;43m=\u001B[39;49m\u001B[43mdiagnostics\u001B[49m\u001B[43m,\u001B[49m\n\u001B[1;32m    446\u001B[0m \u001B[43m    \u001B[49m\u001B[43mnum_chains\u001B[49m\u001B[38;5;241;43m=\u001B[39;49m\u001B[38;5;28;43mself\u001B[39;49m\u001B[38;5;241;43m.\u001B[39;49m\u001B[43mnum_chains\u001B[49m\u001B[43m \u001B[49m\u001B[38;5;28;43;01mif\u001B[39;49;00m\u001B[43m \u001B[49m\u001B[38;5;28;43mself\u001B[39;49m\u001B[38;5;241;43m.\u001B[39;49m\u001B[43mchain_method\u001B[49m\u001B[43m \u001B[49m\u001B[38;5;241;43m==\u001B[39;49m\u001B[43m \u001B[49m\u001B[38;5;124;43m\"\u001B[39;49m\u001B[38;5;124;43mparallel\u001B[39;49m\u001B[38;5;124;43m\"\u001B[39;49m\u001B[43m \u001B[49m\u001B[38;5;28;43;01melse\u001B[39;49;00m\u001B[43m \u001B[49m\u001B[38;5;241;43m1\u001B[39;49m\u001B[43m,\u001B[49m\n\u001B[1;32m    447\u001B[0m \u001B[43m\u001B[49m\u001B[43m)\u001B[49m\n\u001B[1;32m    448\u001B[0m states, last_val \u001B[38;5;241m=\u001B[39m collect_vals\n\u001B[1;32m    449\u001B[0m \u001B[38;5;66;03m# Get first argument of type `HMCState`\u001B[39;00m\n",
      "File \u001B[0;32m~/miniconda3/envs/bnn/lib/python3.10/site-packages/numpyro/util.py:338\u001B[0m, in \u001B[0;36mfori_collect\u001B[0;34m(lower, upper, body_fun, init_val, transform, progbar, return_last_val, collection_size, thinning, **progbar_opts)\u001B[0m\n\u001B[1;32m    334\u001B[0m collection \u001B[38;5;241m=\u001B[39m jnp\u001B[38;5;241m.\u001B[39mzeros(\n\u001B[1;32m    335\u001B[0m     (collection_size,) \u001B[38;5;241m+\u001B[39m init_val_flat\u001B[38;5;241m.\u001B[39mshape, dtype\u001B[38;5;241m=\u001B[39minit_val_flat\u001B[38;5;241m.\u001B[39mdtype\n\u001B[1;32m    336\u001B[0m )\n\u001B[1;32m    337\u001B[0m \u001B[38;5;28;01mif\u001B[39;00m \u001B[38;5;129;01mnot\u001B[39;00m progbar:\n\u001B[0;32m--> 338\u001B[0m     last_val, collection, _, _ \u001B[38;5;241m=\u001B[39m \u001B[43mfori_loop\u001B[49m\u001B[43m(\u001B[49m\n\u001B[1;32m    339\u001B[0m \u001B[43m        \u001B[49m\u001B[38;5;241;43m0\u001B[39;49m\u001B[43m,\u001B[49m\u001B[43m \u001B[49m\u001B[43mupper\u001B[49m\u001B[43m,\u001B[49m\u001B[43m \u001B[49m\u001B[43m_body_fn\u001B[49m\u001B[43m,\u001B[49m\u001B[43m \u001B[49m\u001B[43m(\u001B[49m\u001B[43minit_val\u001B[49m\u001B[43m,\u001B[49m\u001B[43m \u001B[49m\u001B[43mcollection\u001B[49m\u001B[43m,\u001B[49m\u001B[43m \u001B[49m\u001B[43mstart_idx\u001B[49m\u001B[43m,\u001B[49m\u001B[43m \u001B[49m\u001B[43mthinning\u001B[49m\u001B[43m)\u001B[49m\n\u001B[1;32m    340\u001B[0m \u001B[43m    \u001B[49m\u001B[43m)\u001B[49m\n\u001B[1;32m    341\u001B[0m \u001B[38;5;28;01melif\u001B[39;00m num_chains \u001B[38;5;241m>\u001B[39m \u001B[38;5;241m1\u001B[39m:\n\u001B[1;32m    342\u001B[0m     progress_bar_fori_loop \u001B[38;5;241m=\u001B[39m progress_bar_factory(upper, num_chains)\n",
      "File \u001B[0;32m~/miniconda3/envs/bnn/lib/python3.10/site-packages/numpyro/util.py:141\u001B[0m, in \u001B[0;36mfori_loop\u001B[0;34m(lower, upper, body_fun, init_val)\u001B[0m\n\u001B[1;32m    139\u001B[0m     \u001B[38;5;28;01mreturn\u001B[39;00m val\n\u001B[1;32m    140\u001B[0m \u001B[38;5;28;01melse\u001B[39;00m:\n\u001B[0;32m--> 141\u001B[0m     \u001B[38;5;28;01mreturn\u001B[39;00m \u001B[43mlax\u001B[49m\u001B[38;5;241;43m.\u001B[39;49m\u001B[43mfori_loop\u001B[49m\u001B[43m(\u001B[49m\u001B[43mlower\u001B[49m\u001B[43m,\u001B[49m\u001B[43m \u001B[49m\u001B[43mupper\u001B[49m\u001B[43m,\u001B[49m\u001B[43m \u001B[49m\u001B[43mbody_fun\u001B[49m\u001B[43m,\u001B[49m\u001B[43m \u001B[49m\u001B[43minit_val\u001B[49m\u001B[43m)\u001B[49m\n",
      "    \u001B[0;31m[... skipping hidden 1 frame]\u001B[0m\n",
      "File \u001B[0;32m~/miniconda3/envs/bnn/lib/python3.10/site-packages/jax/_src/lax/control_flow/loops.py:1692\u001B[0m, in \u001B[0;36mfori_loop\u001B[0;34m(lower, upper, body_fun, init_val)\u001B[0m\n\u001B[1;32m   1688\u001B[0m   \u001B[38;5;28;01mif\u001B[39;00m config\u001B[38;5;241m.\u001B[39mjax_disable_jit \u001B[38;5;129;01mand\u001B[39;00m upper_ \u001B[38;5;241m==\u001B[39m lower_:\n\u001B[1;32m   1689\u001B[0m     \u001B[38;5;66;03m# non-jit implementation of scan does not support length=0\u001B[39;00m\n\u001B[1;32m   1690\u001B[0m     \u001B[38;5;28;01mreturn\u001B[39;00m init_val\n\u001B[0;32m-> 1692\u001B[0m   (_, result), _ \u001B[38;5;241m=\u001B[39m \u001B[43mscan\u001B[49m\u001B[43m(\u001B[49m\u001B[43m_fori_scan_body_fun\u001B[49m\u001B[43m(\u001B[49m\u001B[43mbody_fun\u001B[49m\u001B[43m)\u001B[49m\u001B[43m,\u001B[49m\u001B[43m \u001B[49m\u001B[43m(\u001B[49m\u001B[43mlower_\u001B[49m\u001B[43m,\u001B[49m\u001B[43m \u001B[49m\u001B[43minit_val\u001B[49m\u001B[43m)\u001B[49m\u001B[43m,\u001B[49m\n\u001B[1;32m   1693\u001B[0m \u001B[43m                        \u001B[49m\u001B[38;5;28;43;01mNone\u001B[39;49;00m\u001B[43m,\u001B[49m\u001B[43m \u001B[49m\u001B[43mlength\u001B[49m\u001B[38;5;241;43m=\u001B[39;49m\u001B[43mupper_\u001B[49m\u001B[43m \u001B[49m\u001B[38;5;241;43m-\u001B[39;49m\u001B[43m \u001B[49m\u001B[43mlower_\u001B[49m\u001B[43m)\u001B[49m\n\u001B[1;32m   1694\u001B[0m \u001B[38;5;28;01melse\u001B[39;00m:\n\u001B[1;32m   1695\u001B[0m   _, _, result \u001B[38;5;241m=\u001B[39m while_loop(_fori_cond_fun, _fori_body_fun(body_fun),\n\u001B[1;32m   1696\u001B[0m                             (lower, upper, init_val))\n",
      "    \u001B[0;31m[... skipping hidden 1 frame]\u001B[0m\n",
      "File \u001B[0;32m~/miniconda3/envs/bnn/lib/python3.10/site-packages/jax/_src/lax/control_flow/loops.py:275\u001B[0m, in \u001B[0;36mscan\u001B[0;34m(f, init, xs, length, reverse, unroll)\u001B[0m\n\u001B[1;32m    271\u001B[0m \u001B[38;5;28;01mif\u001B[39;00m disallowed_effects:\n\u001B[1;32m    272\u001B[0m   \u001B[38;5;28;01mraise\u001B[39;00m \u001B[38;5;167;01mNotImplementedError\u001B[39;00m(\n\u001B[1;32m    273\u001B[0m       \u001B[38;5;124mf\u001B[39m\u001B[38;5;124m'\u001B[39m\u001B[38;5;124mEffects not supported in `scan`: \u001B[39m\u001B[38;5;132;01m{\u001B[39;00mdisallowed_effects\u001B[38;5;132;01m}\u001B[39;00m\u001B[38;5;124m'\u001B[39m)\n\u001B[0;32m--> 275\u001B[0m out \u001B[38;5;241m=\u001B[39m \u001B[43mscan_p\u001B[49m\u001B[38;5;241;43m.\u001B[39;49m\u001B[43mbind\u001B[49m\u001B[43m(\u001B[49m\u001B[38;5;241;43m*\u001B[39;49m\u001B[43mconsts\u001B[49m\u001B[43m,\u001B[49m\u001B[43m \u001B[49m\u001B[38;5;241;43m*\u001B[39;49m\u001B[43min_flat\u001B[49m\u001B[43m,\u001B[49m\n\u001B[1;32m    276\u001B[0m \u001B[43m                  \u001B[49m\u001B[43mreverse\u001B[49m\u001B[38;5;241;43m=\u001B[39;49m\u001B[43mreverse\u001B[49m\u001B[43m,\u001B[49m\u001B[43m \u001B[49m\u001B[43mlength\u001B[49m\u001B[38;5;241;43m=\u001B[39;49m\u001B[43mlength\u001B[49m\u001B[43m,\u001B[49m\u001B[43m \u001B[49m\u001B[43mjaxpr\u001B[49m\u001B[38;5;241;43m=\u001B[39;49m\u001B[43mjaxpr\u001B[49m\u001B[43m,\u001B[49m\n\u001B[1;32m    277\u001B[0m \u001B[43m                  \u001B[49m\u001B[43mnum_consts\u001B[49m\u001B[38;5;241;43m=\u001B[39;49m\u001B[38;5;28;43mlen\u001B[39;49m\u001B[43m(\u001B[49m\u001B[43mconsts\u001B[49m\u001B[43m)\u001B[49m\u001B[43m,\u001B[49m\u001B[43m \u001B[49m\u001B[43mnum_carry\u001B[49m\u001B[38;5;241;43m=\u001B[39;49m\u001B[38;5;28;43mlen\u001B[39;49m\u001B[43m(\u001B[49m\u001B[43minit_flat\u001B[49m\u001B[43m)\u001B[49m\u001B[43m,\u001B[49m\n\u001B[1;32m    278\u001B[0m \u001B[43m                  \u001B[49m\u001B[43mlinear\u001B[49m\u001B[38;5;241;43m=\u001B[39;49m\u001B[43m(\u001B[49m\u001B[38;5;28;43;01mFalse\u001B[39;49;00m\u001B[43m,\u001B[49m\u001B[43m)\u001B[49m\u001B[43m \u001B[49m\u001B[38;5;241;43m*\u001B[39;49m\u001B[43m \u001B[49m\u001B[43m(\u001B[49m\u001B[38;5;28;43mlen\u001B[39;49m\u001B[43m(\u001B[49m\u001B[43mconsts\u001B[49m\u001B[43m)\u001B[49m\u001B[43m \u001B[49m\u001B[38;5;241;43m+\u001B[39;49m\u001B[43m \u001B[49m\u001B[38;5;28;43mlen\u001B[39;49m\u001B[43m(\u001B[49m\u001B[43min_flat\u001B[49m\u001B[43m)\u001B[49m\u001B[43m)\u001B[49m\u001B[43m,\u001B[49m\n\u001B[1;32m    279\u001B[0m \u001B[43m                  \u001B[49m\u001B[43munroll\u001B[49m\u001B[38;5;241;43m=\u001B[39;49m\u001B[43munroll\u001B[49m\u001B[43m)\u001B[49m\n\u001B[1;32m    280\u001B[0m \u001B[38;5;28;01mreturn\u001B[39;00m tree_unflatten(out_tree, out)\n",
      "File \u001B[0;32m~/miniconda3/envs/bnn/lib/python3.10/site-packages/jax/_src/lax/control_flow/loops.py:1000\u001B[0m, in \u001B[0;36mscan_bind\u001B[0;34m(*args, **params)\u001B[0m\n\u001B[1;32m    998\u001B[0m   _scan_typecheck(\u001B[38;5;28;01mTrue\u001B[39;00m, \u001B[38;5;241m*\u001B[39min_atoms, \u001B[38;5;241m*\u001B[39m\u001B[38;5;241m*\u001B[39mparams)\n\u001B[1;32m    999\u001B[0m   core\u001B[38;5;241m.\u001B[39mcheck_jaxpr(params[\u001B[38;5;124m'\u001B[39m\u001B[38;5;124mjaxpr\u001B[39m\u001B[38;5;124m'\u001B[39m]\u001B[38;5;241m.\u001B[39mjaxpr)\n\u001B[0;32m-> 1000\u001B[0m \u001B[38;5;28;01mreturn\u001B[39;00m \u001B[43mcore\u001B[49m\u001B[38;5;241;43m.\u001B[39;49m\u001B[43mAxisPrimitive\u001B[49m\u001B[38;5;241;43m.\u001B[39;49m\u001B[43mbind\u001B[49m\u001B[43m(\u001B[49m\u001B[43mscan_p\u001B[49m\u001B[43m,\u001B[49m\u001B[43m \u001B[49m\u001B[38;5;241;43m*\u001B[39;49m\u001B[43margs\u001B[49m\u001B[43m,\u001B[49m\u001B[43m \u001B[49m\u001B[38;5;241;43m*\u001B[39;49m\u001B[38;5;241;43m*\u001B[39;49m\u001B[43mparams\u001B[49m\u001B[43m)\u001B[49m\n",
      "File \u001B[0;32m~/miniconda3/envs/bnn/lib/python3.10/site-packages/jax/core.py:2444\u001B[0m, in \u001B[0;36mAxisPrimitive.bind\u001B[0;34m(self, *args, **params)\u001B[0m\n\u001B[1;32m   2440\u001B[0m axis_main \u001B[38;5;241m=\u001B[39m \u001B[38;5;28mmax\u001B[39m((axis_frame(a)\u001B[38;5;241m.\u001B[39mmain_trace \u001B[38;5;28;01mfor\u001B[39;00m a \u001B[38;5;129;01min\u001B[39;00m used_axis_names(\u001B[38;5;28mself\u001B[39m, params)),\n\u001B[1;32m   2441\u001B[0m                 default\u001B[38;5;241m=\u001B[39m\u001B[38;5;28;01mNone\u001B[39;00m, key\u001B[38;5;241m=\u001B[39m\u001B[38;5;28;01mlambda\u001B[39;00m t: \u001B[38;5;28mgetattr\u001B[39m(t, \u001B[38;5;124m'\u001B[39m\u001B[38;5;124mlevel\u001B[39m\u001B[38;5;124m'\u001B[39m, \u001B[38;5;241m-\u001B[39m\u001B[38;5;241m1\u001B[39m))\n\u001B[1;32m   2442\u001B[0m top_trace \u001B[38;5;241m=\u001B[39m (top_trace \u001B[38;5;28;01mif\u001B[39;00m \u001B[38;5;129;01mnot\u001B[39;00m axis_main \u001B[38;5;129;01mor\u001B[39;00m axis_main\u001B[38;5;241m.\u001B[39mlevel \u001B[38;5;241m<\u001B[39m top_trace\u001B[38;5;241m.\u001B[39mlevel\n\u001B[1;32m   2443\u001B[0m              \u001B[38;5;28;01melse\u001B[39;00m axis_main\u001B[38;5;241m.\u001B[39mwith_cur_sublevel())\n\u001B[0;32m-> 2444\u001B[0m \u001B[38;5;28;01mreturn\u001B[39;00m \u001B[38;5;28;43mself\u001B[39;49m\u001B[38;5;241;43m.\u001B[39;49m\u001B[43mbind_with_trace\u001B[49m\u001B[43m(\u001B[49m\u001B[43mtop_trace\u001B[49m\u001B[43m,\u001B[49m\u001B[43m \u001B[49m\u001B[43margs\u001B[49m\u001B[43m,\u001B[49m\u001B[43m \u001B[49m\u001B[43mparams\u001B[49m\u001B[43m)\u001B[49m\n",
      "File \u001B[0;32m~/miniconda3/envs/bnn/lib/python3.10/site-packages/jax/core.py:332\u001B[0m, in \u001B[0;36mPrimitive.bind_with_trace\u001B[0;34m(self, trace, args, params)\u001B[0m\n\u001B[1;32m    331\u001B[0m \u001B[38;5;28;01mdef\u001B[39;00m \u001B[38;5;21mbind_with_trace\u001B[39m(\u001B[38;5;28mself\u001B[39m, trace, args, params):\n\u001B[0;32m--> 332\u001B[0m   out \u001B[38;5;241m=\u001B[39m \u001B[43mtrace\u001B[49m\u001B[38;5;241;43m.\u001B[39;49m\u001B[43mprocess_primitive\u001B[49m\u001B[43m(\u001B[49m\u001B[38;5;28;43mself\u001B[39;49m\u001B[43m,\u001B[49m\u001B[43m \u001B[49m\u001B[38;5;28;43mmap\u001B[39;49m\u001B[43m(\u001B[49m\u001B[43mtrace\u001B[49m\u001B[38;5;241;43m.\u001B[39;49m\u001B[43mfull_raise\u001B[49m\u001B[43m,\u001B[49m\u001B[43m \u001B[49m\u001B[43margs\u001B[49m\u001B[43m)\u001B[49m\u001B[43m,\u001B[49m\u001B[43m \u001B[49m\u001B[43mparams\u001B[49m\u001B[43m)\u001B[49m\n\u001B[1;32m    333\u001B[0m   \u001B[38;5;28;01mreturn\u001B[39;00m \u001B[38;5;28mmap\u001B[39m(full_lower, out) \u001B[38;5;28;01mif\u001B[39;00m \u001B[38;5;28mself\u001B[39m\u001B[38;5;241m.\u001B[39mmultiple_results \u001B[38;5;28;01melse\u001B[39;00m full_lower(out)\n",
      "File \u001B[0;32m~/miniconda3/envs/bnn/lib/python3.10/site-packages/jax/core.py:712\u001B[0m, in \u001B[0;36mEvalTrace.process_primitive\u001B[0;34m(self, primitive, tracers, params)\u001B[0m\n\u001B[1;32m    711\u001B[0m \u001B[38;5;28;01mdef\u001B[39;00m \u001B[38;5;21mprocess_primitive\u001B[39m(\u001B[38;5;28mself\u001B[39m, primitive, tracers, params):\n\u001B[0;32m--> 712\u001B[0m   \u001B[38;5;28;01mreturn\u001B[39;00m \u001B[43mprimitive\u001B[49m\u001B[38;5;241;43m.\u001B[39;49m\u001B[43mimpl\u001B[49m\u001B[43m(\u001B[49m\u001B[38;5;241;43m*\u001B[39;49m\u001B[43mtracers\u001B[49m\u001B[43m,\u001B[49m\u001B[43m \u001B[49m\u001B[38;5;241;43m*\u001B[39;49m\u001B[38;5;241;43m*\u001B[39;49m\u001B[43mparams\u001B[49m\u001B[43m)\u001B[49m\n",
      "File \u001B[0;32m~/miniconda3/envs/bnn/lib/python3.10/site-packages/jax/_src/dispatch.py:115\u001B[0m, in \u001B[0;36mapply_primitive\u001B[0;34m(prim, *args, **params)\u001B[0m\n\u001B[1;32m    112\u001B[0m \u001B[38;5;124;03m\"\"\"Impl rule that compiles and runs a single primitive 'prim' using XLA.\"\"\"\u001B[39;00m\n\u001B[1;32m    113\u001B[0m compiled_fun \u001B[38;5;241m=\u001B[39m xla_primitive_callable(prim, \u001B[38;5;241m*\u001B[39munsafe_map(arg_spec, args),\n\u001B[1;32m    114\u001B[0m                                       \u001B[38;5;241m*\u001B[39m\u001B[38;5;241m*\u001B[39mparams)\n\u001B[0;32m--> 115\u001B[0m \u001B[38;5;28;01mreturn\u001B[39;00m \u001B[43mcompiled_fun\u001B[49m\u001B[43m(\u001B[49m\u001B[38;5;241;43m*\u001B[39;49m\u001B[43margs\u001B[49m\u001B[43m)\u001B[49m\n",
      "File \u001B[0;32m~/miniconda3/envs/bnn/lib/python3.10/site-packages/jax/_src/dispatch.py:895\u001B[0m, in \u001B[0;36m_execute_compiled\u001B[0;34m(name, compiled, input_handler, output_buffer_counts, result_handler, has_unordered_effects, ordered_effects, kept_var_idx, has_host_callbacks, *args)\u001B[0m\n\u001B[1;32m    893\u001B[0m     runtime_token \u001B[38;5;241m=\u001B[39m \u001B[38;5;28;01mNone\u001B[39;00m\n\u001B[1;32m    894\u001B[0m \u001B[38;5;28;01melse\u001B[39;00m:\n\u001B[0;32m--> 895\u001B[0m   out_flat \u001B[38;5;241m=\u001B[39m \u001B[43mcompiled\u001B[49m\u001B[38;5;241;43m.\u001B[39;49m\u001B[43mexecute\u001B[49m\u001B[43m(\u001B[49m\u001B[43min_flat\u001B[49m\u001B[43m)\u001B[49m\n\u001B[1;32m    896\u001B[0m check_special(name, out_flat)\n\u001B[1;32m    897\u001B[0m out_bufs \u001B[38;5;241m=\u001B[39m unflatten(out_flat, output_buffer_counts)\n",
      "\u001B[0;31mKeyboardInterrupt\u001B[0m: "
     ]
    }
   ],
   "source": [
    "tqdm_obj = tqdm.tqdm()\n",
    "start = time.time()\n",
    "while time.time() - start <= MAX_TIME:\n",
    "    experiment.train(random.PRNGKey(1), progress_bar=True)\n",
    "    info = f\"{time.time() - start:.2f} / {MAX_TIME:.2f}\"\n",
    "    tqdm_obj.clear()\n",
    "    tqdm_obj.display(info)"
   ],
   "metadata": {
    "collapsed": false
   }
  },
  {
   "cell_type": "code",
   "execution_count": null,
   "outputs": [],
   "source": [
    "with open(\"hmc-samples-first-half.pkl\", \"wb\") as f:\n",
    "    pickle.dump(experiment._samples, f)"
   ],
   "metadata": {
    "collapsed": false
   }
  },
  {
   "cell_type": "code",
   "execution_count": null,
   "outputs": [],
   "source": [
    "experiment.make_predictions(random.PRNGKey(1))"
   ],
   "metadata": {
    "collapsed": false
   }
  },
  {
   "cell_type": "code",
   "execution_count": null,
   "outputs": [],
   "source": [
    "with open(\"hmc-preds-first-half.pkl\", \"wb\") as f:\n",
    "    pickle.dump(experiment._predictions, f)"
   ],
   "metadata": {
    "collapsed": false
   }
  },
  {
   "cell_type": "code",
   "execution_count": null,
   "outputs": [],
   "source": [
    "fig, axs = plt.subplots(nrows=2, ncols=2, figsize=(12, 10), sharex='all', sharey='all')\n",
    "for i, ax in enumerate(axs.ravel()):\n",
    "    ax.plot(data.test[0][:, 1], experiment._predictions[\"Y_mean\"][..., 0][i].mean(axis=0))\n",
    "    ax.fill_between(data.test[0][:, 1],\n",
    "                    *np.percentile(experiment._predictions[\"Y_mean\"][..., 0][i], (5.0, 95.0), axis=0), alpha=0.5,\n",
    "                    color=\"orange\")\n",
    "    ax.fill_between(data.test[0][:, 1], *np.percentile(experiment._predictions[\"Y\"][..., 0][i], (5.0, 95.0), axis=0),\n",
    "                    alpha=0.5, color=\"lightgreen\")\n",
    "    ax.plot(data.train[0][:, 1], data.train[1], \"kx\")\n",
    "    ax.set_ylim(-6, +6)\n",
    "fig.tight_layout()\n",
    "fig.savefig(\"figs/hmc-by-chain.png\")"
   ],
   "metadata": {
    "collapsed": false
   }
  }
 ],
 "metadata": {
  "kernelspec": {
   "display_name": "Python 3",
   "language": "python",
   "name": "python3"
  },
  "language_info": {
   "codemirror_mode": {
    "name": "ipython",
    "version": 2
   },
   "file_extension": ".py",
   "mimetype": "text/x-python",
   "name": "python",
   "nbconvert_exporter": "python",
   "pygments_lexer": "ipython2",
   "version": "2.7.6"
  }
 },
 "nbformat": 4,
 "nbformat_minor": 0
}
