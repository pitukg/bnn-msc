{
 "cells": [
  {
   "cell_type": "code",
   "execution_count": 1,
   "outputs": [],
   "source": [
    "import pickle\n",
    "\n",
    "import jax.nn\n",
    "import jax.random as random\n",
    "import matplotlib.pyplot as plt\n",
    "import numpy as np\n",
    "import numpyro"
   ],
   "metadata": {
    "collapsed": false
   }
  },
  {
   "cell_type": "code",
   "execution_count": 3,
   "outputs": [
    {
     "name": "stdout",
     "output_type": "stream",
     "text": [
      "The autoreload extension is already loaded. To reload it, use:\n",
      "  %reload_ext autoreload\n"
     ]
    }
   ],
   "source": [
    "%load_ext autoreload\n",
    "%autoreload 2\n",
    "\n",
    "from experiments.src.experiment import *\n",
    "from experiments.src.data import ToyData1\n",
    "from experiments.src.model import BNNRegressor"
   ],
   "metadata": {
    "collapsed": false
   }
  },
  {
   "cell_type": "code",
   "execution_count": null,
   "outputs": [],
   "source": [
    "# %matplotlib inline\n",
    "# matplotlib.use(\"nbAgg\")  # noqa: E402\n",
    "\n",
    "plt.rcParams.update({\n",
    "    \"axes.grid\": True,      # show grid by default\n",
    "    \"font.weight\": \"bold\",  # bold fonts\n",
    "    \"xtick.labelsize\": 15,  # large tick labels\n",
    "    \"ytick.labelsize\": 15,  # large tick labels\n",
    "    \"lines.linewidth\": 1,   # thick lines\n",
    "    \"lines.color\": \"k\",     # black lines\n",
    "    # \"grid.color\": \"0.5\",    # gray gridlines\n",
    "    \"grid.linestyle\": \"-\",  # solid gridlines\n",
    "    \"grid.linewidth\": 0.1,  # thin gridlines\n",
    "    \"savefig.dpi\": 300,     # higher resolution output.\n",
    "})"
   ],
   "metadata": {
    "collapsed": false
   }
  },
  {
   "cell_type": "code",
   "execution_count": null,
   "outputs": [],
   "source": [
    "DEVICE = \"gpu\"\n",
    "numpyro.set_platform(DEVICE)\n",
    "# numpyro.set_host_device_count(NUM_CHAINS)\n",
    "D_X = 3\n",
    "VI_MAX_ITER = 100_000\n",
    "BNN_SIZE = [32, 32, 16]\n",
    "# FIG_PREFIX = f\"fig\""
   ],
   "metadata": {
    "collapsed": false
   }
  },
  {
   "cell_type": "code",
   "execution_count": null,
   "outputs": [],
   "source": [
    "data = ToyData1(D_X=D_X, train_size=100)"
   ],
   "metadata": {
    "collapsed": false
   }
  },
  {
   "cell_type": "code",
   "execution_count": null,
   "outputs": [],
   "source": [
    "bnn = BNNRegressor(\n",
    "    nonlin=jax.nn.silu,\n",
    "    D_X=D_X,\n",
    "    D_Y=1,\n",
    "    D_H=BNN_SIZE,\n",
    "    biases=True,\n",
    "    prior_scale=1,\n",
    ")"
   ],
   "metadata": {
    "collapsed": false
   }
  },
  {
   "cell_type": "code",
   "execution_count": null,
   "outputs": [],
   "source": [
    "bnn.get_weight_dim()"
   ],
   "metadata": {
    "collapsed": false
   }
  },
  {
   "cell_type": "markdown",
   "source": [
    "## Experiment"
   ],
   "metadata": {
    "collapsed": false
   }
  },
  {
   "cell_type": "code",
   "execution_count": null,
   "outputs": [],
   "source": [
    "experiment = BasicHMCExperiment(\n",
    "    bnn,\n",
    "    data,\n",
    "    num_samples = 1000, num_warmup = 500,\n",
    "    num_chains = 4, group_by_chain=True\n",
    ")"
   ],
   "metadata": {
    "collapsed": false
   }
  },
  {
   "cell_type": "code",
   "execution_count": null,
   "outputs": [],
   "source": [
    "experiment.train(random.PRNGKey(0))"
   ],
   "metadata": {
    "collapsed": false
   }
  },
  {
   "cell_type": "code",
   "execution_count": null,
   "outputs": [],
   "source": [
    "with open(\"hmc-samples-first-half.pkl\", \"wb\") as f:\n",
    "    pickle.dump(experiment._samples, f)"
   ],
   "metadata": {
    "collapsed": false
   }
  },
  {
   "cell_type": "code",
   "execution_count": null,
   "outputs": [],
   "source": [
    "experiment.make_predictions(random.PRNGKey(1))"
   ],
   "metadata": {
    "collapsed": false
   }
  },
  {
   "cell_type": "code",
   "execution_count": null,
   "outputs": [],
   "source": [
    "with open(\"hmc-preds-first-half.pkl\", \"wb\") as f:\n",
    "    pickle.dump(experiment._predictions, f)"
   ],
   "metadata": {
    "collapsed": false
   }
  },
  {
   "cell_type": "code",
   "execution_count": null,
   "outputs": [],
   "source": [
    "fig, axs = plt.subplots(nrows=2, ncols=2, figsize=(12, 10), sharex='all', sharey='all')\n",
    "for i, ax in enumerate(axs.ravel()):\n",
    "    ax.plot(data.test[0][:, 1], experiment._predictions[\"Y_mean\"][..., 0][i].mean(axis=0))\n",
    "    ax.fill_between(data.test[0][:, 1],\n",
    "                    *np.percentile(experiment._predictions[\"Y_mean\"][..., 0][i], (5.0, 95.0), axis=0), alpha=0.5,\n",
    "                    color=\"orange\")\n",
    "    ax.fill_between(data.test[0][:, 1], *np.percentile(experiment._predictions[\"Y\"][..., 0][i], (5.0, 95.0), axis=0),\n",
    "                    alpha=0.5, color=\"lightgreen\")\n",
    "    ax.plot(data.train[0][:, 1], data.train[1], \"kx\")\n",
    "    ax.set_ylim(-6, +6)\n",
    "fig.tight_layout()\n",
    "fig.savefig(\"figs/hmc-by-chain.png\")"
   ],
   "metadata": {
    "collapsed": false
   }
  }
 ],
 "metadata": {
  "kernelspec": {
   "display_name": "Python 3",
   "language": "python",
   "name": "python3"
  },
  "language_info": {
   "codemirror_mode": {
    "name": "ipython",
    "version": 2
   },
   "file_extension": ".py",
   "mimetype": "text/x-python",
   "name": "python",
   "nbconvert_exporter": "python",
   "pygments_lexer": "ipython2",
   "version": "2.7.6"
  }
 },
 "nbformat": 4,
 "nbformat_minor": 0
}
