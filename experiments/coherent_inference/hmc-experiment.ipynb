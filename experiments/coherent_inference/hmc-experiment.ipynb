{
 "cells": [
  {
   "cell_type": "code",
   "execution_count": 113,
   "outputs": [],
   "source": [
    "import pickle\n",
    "\n",
    "import jax.nn\n",
    "import jax.numpy as jnp\n",
    "import jax.random as random\n",
    "import matplotlib.pyplot as plt\n",
    "import numpy as np\n",
    "import numpyro\n",
    "import time\n",
    "import tqdm.notebook as tqdm"
   ],
   "metadata": {
    "collapsed": false
   }
  },
  {
   "cell_type": "code",
   "execution_count": 114,
   "outputs": [
    {
     "name": "stdout",
     "output_type": "stream",
     "text": [
      "The autoreload extension is already loaded. To reload it, use:\n",
      "  %reload_ext autoreload\n"
     ]
    }
   ],
   "source": [
    "%load_ext autoreload\n",
    "%autoreload 2\n",
    "\n",
    "from experiments.src.experiment import *\n",
    "from experiments.src.data import ToyData1\n",
    "from experiments.src.model import BNNRegressor"
   ],
   "metadata": {
    "collapsed": false
   }
  },
  {
   "cell_type": "code",
   "execution_count": 112,
   "outputs": [],
   "source": [
    "# %matplotlib inline\n",
    "# matplotlib.use(\"nbAgg\")  # noqa: E402\n",
    "\n",
    "plt.rcParams.update({\n",
    "    \"axes.grid\": True,      # show grid by default\n",
    "    \"font.weight\": \"bold\",  # bold fonts\n",
    "    \"xtick.labelsize\": 15,  # large tick labels\n",
    "    \"ytick.labelsize\": 15,  # large tick labels\n",
    "    \"lines.linewidth\": 1,   # thick lines\n",
    "    \"lines.color\": \"k\",     # black lines\n",
    "    # \"grid.color\": \"0.5\",    # gray gridlines\n",
    "    \"grid.linestyle\": \"-\",  # solid gridlines\n",
    "    \"grid.linewidth\": 0.1,  # thin gridlines\n",
    "    \"savefig.dpi\": 300,     # higher resolution output.\n",
    "})"
   ],
   "metadata": {
    "collapsed": false
   }
  },
  {
   "cell_type": "code",
   "execution_count": 129,
   "outputs": [],
   "source": [
    "DEVICE = \"gpu\"\n",
    "numpyro.set_platform(DEVICE)\n",
    "# numpyro.set_host_device_count(NUM_CHAINS)\n",
    "D_X = 2\n",
    "BNN_SIZE = [64, 128, 128, 128, 64]"
   ],
   "metadata": {
    "collapsed": false
   }
  },
  {
   "cell_type": "code",
   "execution_count": 116,
   "outputs": [],
   "source": [
    "data = ToyData1(D_X=D_X, train_size=100)"
   ],
   "metadata": {
    "collapsed": false
   }
  },
  {
   "cell_type": "code",
   "execution_count": 130,
   "outputs": [],
   "source": [
    "bnn = BNNRegressor(\n",
    "    nonlin=jax.nn.silu,\n",
    "    D_X=D_X,\n",
    "    D_Y=1,\n",
    "    D_H=BNN_SIZE,\n",
    "    biases=True,\n",
    "    prior_scale=10,\n",
    "    prior_type='xavier',\n",
    ")"
   ],
   "metadata": {
    "collapsed": false
   }
  },
  {
   "cell_type": "code",
   "execution_count": 131,
   "outputs": [
    {
     "data": {
      "text/plain": "49922"
     },
     "execution_count": 131,
     "metadata": {},
     "output_type": "execute_result"
    }
   ],
   "source": [
    "bnn.get_weight_dim()"
   ],
   "metadata": {
    "collapsed": false
   }
  },
  {
   "cell_type": "markdown",
   "source": [
    "## Experiment"
   ],
   "metadata": {
    "collapsed": false
   }
  },
  {
   "cell_type": "code",
   "execution_count": 119,
   "outputs": [],
   "source": [
    "HOURS = 60 * 60\n",
    "MAX_TIME = 16 * HOURS"
   ],
   "metadata": {
    "collapsed": false
   }
  },
  {
   "cell_type": "code",
   "execution_count": 124,
   "outputs": [],
   "source": [
    "experiment = BasicHMCExperiment(\n",
    "    bnn,\n",
    "    data,\n",
    "    num_samples = 50, num_warmup = 50,\n",
    "    num_chains = 4, group_by_chain=True\n",
    ")"
   ],
   "metadata": {
    "collapsed": false
   }
  },
  {
   "cell_type": "code",
   "execution_count": 126,
   "outputs": [
    {
     "data": {
      "text/plain": "0it [00:00, ?it/s]",
      "application/vnd.jupyter.widget-view+json": {
       "version_major": 2,
       "version_minor": 0,
       "model_id": "697e0c4c955046e095bc3db8784a187d"
      }
     },
     "metadata": {},
     "output_type": "display_data"
    },
    {
     "name": "stderr",
     "output_type": "stream",
     "text": [
      "\n",
      "  0%|          | 0/10 [00:00<?, ?it/s]\u001B[A\n",
      "sample:  10%|█         | 1/10 [00:00<00:01,  8.58it/s]\u001B[A\n",
      "sample:  30%|███       | 3/10 [00:00<00:00,  8.79it/s]\u001B[A\n",
      "sample:  40%|████      | 4/10 [00:00<00:00,  8.45it/s]\u001B[A\n",
      "sample:  60%|██████    | 6/10 [00:00<00:00,  9.56it/s]\u001B[A\n",
      "sample:  70%|███████   | 7/10 [00:00<00:00,  8.51it/s]\u001B[A\n",
      "sample:  80%|████████  | 8/10 [00:00<00:00,  8.84it/s]\u001B[A\n",
      "sample: 100%|██████████| 10/10 [00:01<00:00,  8.58it/s]\u001B[A\n"
     ]
    },
    {
     "name": "stdout",
     "output_type": "stream",
     "text": [
      "\n",
      "MCMC elapsed time: 1.3155150413513184\n"
     ]
    },
    {
     "name": "stderr",
     "output_type": "stream",
     "text": [
      "\n",
      "  0%|          | 0/10 [00:00<?, ?it/s]\u001B[A\n",
      "sample:  10%|█         | 1/10 [00:00<00:00,  9.17it/s]\u001B[A\n",
      "sample:  20%|██        | 2/10 [00:00<00:01,  7.65it/s]\u001B[A\n",
      "sample:  40%|████      | 4/10 [00:00<00:00, 10.20it/s]\u001B[A\n",
      "sample:  60%|██████    | 6/10 [00:00<00:00, 10.21it/s]\u001B[A\n",
      "sample:  80%|████████  | 8/10 [00:00<00:00,  9.30it/s]\u001B[A\n",
      "sample: 100%|██████████| 10/10 [00:01<00:00,  9.88it/s]\u001B[A\n"
     ]
    },
    {
     "name": "stdout",
     "output_type": "stream",
     "text": [
      "\n",
      "MCMC elapsed time: 1.1089098453521729\n"
     ]
    },
    {
     "name": "stderr",
     "output_type": "stream",
     "text": [
      "\n",
      "  0%|          | 0/10 [00:00<?, ?it/s]\u001B[A\n",
      "sample:  10%|█         | 1/10 [00:00<00:01,  5.76it/s]\u001B[A\n",
      "sample:  20%|██        | 2/10 [00:00<00:01,  5.26it/s]\u001B[A\n",
      "sample:  30%|███       | 3/10 [00:00<00:01,  4.72it/s]\u001B[A\n",
      "sample:  40%|████      | 4/10 [00:00<00:01,  5.91it/s]\u001B[A\n",
      "sample:  50%|█████     | 5/10 [00:01<00:02,  2.27it/s]\u001B[A\n",
      "sample:  60%|██████    | 6/10 [00:01<00:01,  2.88it/s]\u001B[A\n",
      "sample:  70%|███████   | 7/10 [00:01<00:00,  3.49it/s]\u001B[A\n",
      "sample: 100%|██████████| 10/10 [00:02<00:00,  4.50it/s][A\n"
     ]
    },
    {
     "name": "stdout",
     "output_type": "stream",
     "text": [
      "\n",
      "MCMC elapsed time: 2.3191730976104736\n"
     ]
    },
    {
     "name": "stderr",
     "output_type": "stream",
     "text": [
      "\n",
      "  0%|          | 0/10 [00:00<?, ?it/s]\u001B[A\n",
      "sample:  10%|█         | 1/10 [00:00<00:01,  7.86it/s]\u001B[A\n",
      "sample:  20%|██        | 2/10 [00:00<00:02,  3.42it/s]\u001B[A\n",
      "sample:  40%|████      | 4/10 [00:00<00:00,  6.50it/s]\u001B[A\n",
      "sample:  50%|█████     | 5/10 [00:00<00:00,  7.13it/s]\u001B[A\n",
      "sample:  70%|███████   | 7/10 [00:01<00:00,  7.12it/s]\u001B[A\n",
      "sample: 100%|██████████| 10/10 [00:01<00:00,  7.49it/s][A\n"
     ]
    },
    {
     "name": "stdout",
     "output_type": "stream",
     "text": [
      "\n",
      "MCMC elapsed time: 1.4198660850524902\n"
     ]
    }
   ],
   "source": [
    "tqdm_obj = tqdm.tqdm()\n",
    "start = time.time()\n",
    "cnt = 0\n",
    "while time.time() - start <= MAX_TIME:\n",
    "    experiment.train(random.PRNGKey(1), progress_bar=True)\n",
    "    with open(f\"samples{cnt}.pkl\", \"wb\") as f:\n",
    "        pickle.dump(experiment._samples, f)\n",
    "    experiment.make_predictions(random.PRNGKey(1))\n",
    "    with open(f\"preds{cnt}.pkl\", \"wb\") as f:\n",
    "        pickle.dump(experiment._predictions, f)\n",
    "    experiment._samples[\"w\"] = jnp.empty((4, 0, bnn.get_weight_dim(),))\n",
    "    experiment._predictions = None\n",
    "    info = f\"{time.time() - start:.2f} / {MAX_TIME:.2f}\"\n",
    "    tqdm_obj.clear()\n",
    "    tqdm_obj.display(info)\n",
    "    cnt += 1"
   ],
   "metadata": {
    "collapsed": false
   }
  },
  {
   "cell_type": "code",
   "execution_count": null,
   "outputs": [],
   "source": [
    "# with open(\"hmc-samples-first-half.pkl\", \"wb\") as f:\n",
    "#     pickle.dump(experiment._samples, f)"
   ],
   "metadata": {
    "collapsed": false
   }
  },
  {
   "cell_type": "code",
   "execution_count": null,
   "outputs": [],
   "source": [
    "# experiment.make_predictions(random.PRNGKey(1))"
   ],
   "metadata": {
    "collapsed": false
   }
  },
  {
   "cell_type": "code",
   "execution_count": null,
   "outputs": [],
   "source": [
    "# with open(\"hmc-preds-first-half.pkl\", \"wb\") as f:\n",
    "#     pickle.dump(experiment._predictions, f)"
   ],
   "metadata": {
    "collapsed": false
   }
  },
  {
   "cell_type": "code",
   "execution_count": null,
   "outputs": [],
   "source": [
    "# fig, axs = plt.subplots(nrows=2, ncols=2, figsize=(12, 10), sharex='all', sharey='all')\n",
    "# for i, ax in enumerate(axs.ravel()):\n",
    "#     ax.plot(data.test[0][:, 1], experiment._predictions[\"Y_mean\"][..., 0][i].mean(axis=0))\n",
    "#     ax.fill_between(data.test[0][:, 1],\n",
    "#                     *np.percentile(experiment._predictions[\"Y_mean\"][..., 0][i], (5.0, 95.0), axis=0), alpha=0.5,\n",
    "#                     color=\"orange\")\n",
    "#     ax.fill_between(data.test[0][:, 1], *np.percentile(experiment._predictions[\"Y\"][..., 0][i], (5.0, 95.0), axis=0),\n",
    "#                     alpha=0.5, color=\"lightgreen\")\n",
    "#     ax.plot(data.train[0][:, 1], data.train[1], \"kx\")\n",
    "#     ax.set_ylim(-6, +6)\n",
    "# fig.tight_layout()\n",
    "# fig.savefig(\"figs/hmc-by-chain.png\")"
   ],
   "metadata": {
    "collapsed": false
   }
  }
 ],
 "metadata": {
  "kernelspec": {
   "display_name": "Python 3",
   "language": "python",
   "name": "python3"
  },
  "language_info": {
   "codemirror_mode": {
    "name": "ipython",
    "version": 2
   },
   "file_extension": ".py",
   "mimetype": "text/x-python",
   "name": "python",
   "nbconvert_exporter": "python",
   "pygments_lexer": "ipython2",
   "version": "2.7.6"
  }
 },
 "nbformat": 4,
 "nbformat_minor": 0
}
