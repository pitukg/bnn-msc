{
 "cells": [
  {
   "cell_type": "code",
   "execution_count": null,
   "metadata": {},
   "outputs": [],
   "source": [
    "from experiments.src.data import GPData\n",
    "# Example usage\n",
    "gp_data = GPData(\n",
    "    length_scale=1.0,\n",
    "    sigma_obs=0.15,\n",
    "    train_size=100,\n",
    "    test_size=500,\n",
    "    rff_full_features=20,\n",
    "    rff_features=20\n",
    ")"
   ]
  },
  {
   "cell_type": "code",
   "execution_count": null,
   "metadata": {},
   "outputs": [],
   "source": [
    "from experiments.src.factory import tractable"
   ]
  },
  {
   "cell_type": "code",
   "execution_count": null,
   "metadata": {},
   "outputs": [],
   "source": [
    "blr = tractable.bnn()"
   ]
  },
  {
   "cell_type": "code",
   "execution_count": null,
   "metadata": {},
   "outputs": [],
   "source": [
    "from experiments.src.experiment import *\n",
    "import jax.random as random\n",
    "prior_experiment = PriorExperiment(blr, gp_data)\n",
    "prior_experiment.make_predictions(\n",
    "    random.PRNGKey(1)\n",
    ")\n",
    "_ =prior_experiment.make_plots()"
   ]
  },
  {
   "cell_type": "code",
   "execution_count": null,
   "metadata": {},
   "outputs": [],
   "source": [
    "for module in [\n",
    "    'true',\n",
    "    'map_then_hmc', 'map_then_sgld',\n",
    "    'fullrank_vi', 'mfvi',\n",
    "    'map_then_fullrank_laplace', 'map_then_diag_laplace',\n",
    "]:\n",
    "    experiment = getattr(tractable, module)(blr, gp_data)\n",
    "    experiment.run(random.PRNGKey(1)).show()\n",
    "    del experiment"
   ]
  }
 ],
 "metadata": {
  "kernelspec": {
   "display_name": "synthreg",
   "language": "python",
   "name": "python3"
  },
  "language_info": {
   "codemirror_mode": {
    "name": "ipython",
    "version": 3
   },
   "file_extension": ".py",
   "mimetype": "text/x-python",
   "name": "python",
   "nbconvert_exporter": "python",
   "pygments_lexer": "ipython3",
   "version": "3.13.1"
  }
 },
 "nbformat": 4,
 "nbformat_minor": 2
}
