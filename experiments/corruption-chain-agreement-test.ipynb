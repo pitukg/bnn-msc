{
 "cells": [
  {
   "cell_type": "code",
   "execution_count": 189,
   "metadata": {
    "collapsed": true
   },
   "outputs": [],
   "source": [
    "import numpy as np\n",
    "import pandas as pd\n",
    "import matplotlib.pyplot as plt"
   ]
  },
  {
   "cell_type": "code",
   "execution_count": 244,
   "outputs": [],
   "source": [
    "def draw_beta(noise_level):\n",
    "    return noise_level, np.random.multivariate_normal(mean=[0, 0, 0], cov=np.eye(3)).squeeze()"
   ],
   "metadata": {
    "collapsed": false
   }
  },
  {
   "cell_type": "code",
   "execution_count": 245,
   "outputs": [],
   "source": [
    "def model(X: np.array, beta: np.array) -> np.array:\n",
    "    noise_level, beta = beta\n",
    "    w = np.array([[5, 3, -8],\n",
    "                  [-3, 1, 2],\n",
    "                  [-5, -2, 7]])\n",
    "    theta = np.array([[1, 0, -0.5],\n",
    "                     [0, 1, -1],\n",
    "                     [-2, 1, 1]]) + np.matmul(beta, w.T)\n",
    "    logits = np.matmul(X, theta)\n",
    "    # Change so that larger noise level gives harder problem\n",
    "    # beta = np.random.multivariate_normal(mean=[-0.5, 0.5, 0], cov=0.8*np.eye(3))\n",
    "    # logits = z * beta\n",
    "    # rescale so exps don't explode\n",
    "    logits -= logits.max(axis=1)[:, np.newaxis]\n",
    "    logits /= noise_level\n",
    "    probs = np.exp(logits)\n",
    "    probs /= probs.sum(axis=1)[:, np.newaxis]\n",
    "    if np.isnan(probs).any():\n",
    "        print(probs)\n",
    "    gen = np.array([np.random.choice(3, p=p) for p in probs])\n",
    "    return probs, gen"
   ],
   "metadata": {
    "collapsed": false
   }
  },
  {
   "cell_type": "code",
   "execution_count": 290,
   "outputs": [
    {
     "data": {
      "text/plain": "(array([458.,   0.,   0.,   0.,   0., 106.,   0.,   0.,   0., 436.]),\n array([0. , 0.2, 0.4, 0.6, 0.8, 1. , 1.2, 1.4, 1.6, 1.8, 2. ]),\n <BarContainer object of 10 artists>)"
     },
     "execution_count": 290,
     "metadata": {},
     "output_type": "execute_result"
    },
    {
     "data": {
      "text/plain": "<Figure size 640x480 with 1 Axes>",
      "image/png": "[encoded data removed]"
     },
     "metadata": {},
     "output_type": "display_data"
    }
   ],
   "source": [
    "plt.hist(ys[:,1])"
   ],
   "metadata": {
    "collapsed": false
   }
  },
  {
   "cell_type": "code",
   "execution_count": 289,
   "outputs": [
    {
     "data": {
      "text/plain": "<Figure size 600x400 with 1 Axes>",
      "image/png": "[encoded data removed]"
     },
     "metadata": {},
     "output_type": "display_data"
    }
   ],
   "source": [
    "B = 1_000\n",
    "ys = np.vstack([model(np.array([[-1, 0, 1], [1, 0, 1]]), draw_beta(0.8000))[1] for _ in range(B)])\n",
    "fig, ax = plt.subplots(figsize=(6,4))\n",
    "# ax.hist(p0[:, 1], bins=30)\n",
    "plt.show()"
   ],
   "metadata": {
    "collapsed": false
   }
  },
  {
   "cell_type": "code",
   "execution_count": 35,
   "outputs": [
    {
     "data": {
      "text/plain": "array([[-50.        , -39.20649304,   1.        ],\n       [-49.        ,  -1.59924115,   1.        ],\n       [-48.        ,  14.11319321,   1.        ],\n       [-47.        , -15.08631168,   1.        ],\n       [-46.        ,  18.79796799,   1.        ]])"
     },
     "execution_count": 35,
     "metadata": {},
     "output_type": "execute_result"
    }
   ],
   "source": [
    "X = np.vstack((np.arange(-50, 50), np.random.normal(size=100, scale=20), np.ones(100))).T\n",
    "X[:5, ...]"
   ],
   "metadata": {
    "collapsed": false
   }
  },
  {
   "cell_type": "code",
   "execution_count": 179,
   "outputs": [],
   "source": [
    "def agree(chains):\n",
    "    preds = []\n",
    "    for chain in chains:\n",
    "        probs = []\n",
    "        for beta in chain:\n",
    "            prob, _ = model(X, beta)\n",
    "            probs.append(prob)\n",
    "        probs = np.array(probs)\n",
    "        avg_probs = np.mean(probs, axis=0)\n",
    "        preds.append(avg_probs.argmax(axis=1))\n",
    "    preds = np.vstack(preds)\n",
    "    return np.mean((preds[0] == preds[1]) & (preds[1] == preds[2]))"
   ],
   "metadata": {
    "collapsed": false
   }
  },
  {
   "cell_type": "code",
   "execution_count": 300,
   "outputs": [],
   "source": [
    "B = 1_000"
   ],
   "metadata": {
    "collapsed": false
   }
  },
  {
   "cell_type": "code",
   "execution_count": 301,
   "outputs": [],
   "source": [
    "noise_levels = [0.2, 0.8, 1.9, 10, 100, 1000, 10_000]"
   ],
   "metadata": {
    "collapsed": false
   }
  },
  {
   "cell_type": "code",
   "execution_count": 302,
   "outputs": [],
   "source": [
    "import tqdm"
   ],
   "metadata": {
    "collapsed": false
   }
  },
  {
   "cell_type": "code",
   "execution_count": 303,
   "outputs": [
    {
     "name": "stderr",
     "output_type": "stream",
     "text": [
      "100%|██████████| 7/7 [02:32<00:00, 21.77s/it]\n"
     ]
    }
   ],
   "source": [
    "ag = []\n",
    "bag = []\n",
    "for noise_level in tqdm.tqdm(noise_levels):\n",
    "    chain1 = np.array([draw_beta(noise_level) for _ in range(B)], dtype=object)\n",
    "    chain2 = np.array([draw_beta(noise_level) for _ in range(B)], dtype=object)\n",
    "    chain3 = np.array([draw_beta(noise_level) for _ in range(B)], dtype=object)\n",
    "    ag.append(agree((chain1, chain2, chain3)))\n",
    "    chainb1 = chain1[np.random.choice(B, size=B, replace=True)]\n",
    "    chainb2 = chain1[np.random.choice(B, size=B, replace=True)]\n",
    "    chainb3 = chain1[np.random.choice(B, size=B, replace=True)]\n",
    "    bag.append(agree((chainb1, chainb2, chainb3)))"
   ],
   "metadata": {
    "collapsed": false
   }
  },
  {
   "cell_type": "code",
   "execution_count": 304,
   "outputs": [
    {
     "data": {
      "text/plain": "           ag   bag\n0.2      0.07  1.00\n0.8      0.99  0.74\n1.9      1.00  0.97\n10.0     0.96  0.54\n100.0    0.76  1.00\n1000.0   0.96  0.99\n10000.0  0.92  0.57",
      "text/html": "<div>\n<style scoped>\n    .dataframe tbody tr th:only-of-type {\n        vertical-align: middle;\n    }\n\n    .dataframe tbody tr th {\n        vertical-align: top;\n    }\n\n    .dataframe thead th {\n        text-align: right;\n    }\n</style>\n<table border=\"1\" class=\"dataframe\">\n  <thead>\n    <tr style=\"text-align: right;\">\n      <th></th>\n      <th>ag</th>\n      <th>bag</th>\n    </tr>\n  </thead>\n  <tbody>\n    <tr>\n      <th>0.2</th>\n      <td>0.07</td>\n      <td>1.00</td>\n    </tr>\n    <tr>\n      <th>0.8</th>\n      <td>0.99</td>\n      <td>0.74</td>\n    </tr>\n    <tr>\n      <th>1.9</th>\n      <td>1.00</td>\n      <td>0.97</td>\n    </tr>\n    <tr>\n      <th>10.0</th>\n      <td>0.96</td>\n      <td>0.54</td>\n    </tr>\n    <tr>\n      <th>100.0</th>\n      <td>0.76</td>\n      <td>1.00</td>\n    </tr>\n    <tr>\n      <th>1000.0</th>\n      <td>0.96</td>\n      <td>0.99</td>\n    </tr>\n    <tr>\n      <th>10000.0</th>\n      <td>0.92</td>\n      <td>0.57</td>\n    </tr>\n  </tbody>\n</table>\n</div>"
     },
     "execution_count": 304,
     "metadata": {},
     "output_type": "execute_result"
    }
   ],
   "source": [
    "df = pd.DataFrame({'ag': ag, 'bag': bag}, index=noise_levels)\n",
    "df"
   ],
   "metadata": {
    "collapsed": false
   }
  },
  {
   "cell_type": "code",
   "execution_count": 305,
   "outputs": [
    {
     "data": {
      "text/plain": "<Axes: >"
     },
     "execution_count": 305,
     "metadata": {},
     "output_type": "execute_result"
    },
    {
     "data": {
      "text/plain": "<Figure size 640x480 with 1 Axes>",
      "image/png": "[encoded data removed]"
     },
     "metadata": {},
     "output_type": "display_data"
    }
   ],
   "source": [
    "df.plot(kind='bar')"
   ],
   "metadata": {
    "collapsed": false
   }
  }
 ],
 "metadata": {
  "kernelspec": {
   "display_name": "Python 3",
   "language": "python",
   "name": "python3"
  },
  "language_info": {
   "codemirror_mode": {
    "name": "ipython",
    "version": 2
   },
   "file_extension": ".py",
   "mimetype": "text/x-python",
   "name": "python",
   "nbconvert_exporter": "python",
   "pygments_lexer": "ipython2",
   "version": "2.7.6"
  }
 },
 "nbformat": 4,
 "nbformat_minor": 0
}
