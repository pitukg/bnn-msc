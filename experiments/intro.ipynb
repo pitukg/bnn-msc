{
 "cells": [
  {
   "cell_type": "code",
   "execution_count": 42,
   "metadata": {
    "collapsed": true
   },
   "outputs": [],
   "source": [
    "import numpyro\n",
    "import jax.numpy as jnp"
   ]
  },
  {
   "cell_type": "code",
   "execution_count": 43,
   "outputs": [],
   "source": [
    "import numpy as np"
   ],
   "metadata": {
    "collapsed": false
   }
  },
  {
   "cell_type": "code",
   "execution_count": 44,
   "outputs": [],
   "source": [
    "J = 8\n",
    "\n",
    "y = np.array([28.0, 8.0, -3.0, 7.0, -1.0, 1.0, 18.0, 12.0])\n",
    "\n",
    "sigma = np.array([15.0, 10.0, 16.0, 11.0, 9.0, 11.0, 10.0, 18.0])"
   ],
   "metadata": {
    "collapsed": false
   }
  },
  {
   "cell_type": "code",
   "execution_count": 45,
   "outputs": [],
   "source": [
    "import numpyro.distributions as dist"
   ],
   "metadata": {
    "collapsed": false
   }
  },
  {
   "cell_type": "code",
   "execution_count": 46,
   "outputs": [],
   "source": [
    "# Eight Schools example\n",
    "\n",
    "def eight_schools(J, sigma, y=None):\n",
    "   mu = numpyro.sample('mu', dist.Normal(0, 5))\n",
    "   tau = numpyro.sample('tau', dist.HalfCauchy(5))\n",
    "   with numpyro.plate('J', J):\n",
    "       theta = numpyro.sample('theta', dist.Normal(mu, tau))\n",
    "       numpyro.sample('obs', dist.Normal(theta, sigma), obs=y)"
   ],
   "metadata": {
    "collapsed": false
   }
  },
  {
   "cell_type": "code",
   "execution_count": 47,
   "outputs": [
    {
     "name": "stderr",
     "output_type": "stream",
     "text": [
      "sample: 100%|██████████| 1500/1500 [00:06<00:00, 238.02it/s, 31 steps of size 4.85e-02. acc. prob=0.99] \n"
     ]
    }
   ],
   "source": [
    "from jax import random\n",
    "from numpyro.infer import MCMC, NUTS\n",
    "\n",
    "nuts_kernel = NUTS(eight_schools)\n",
    "mcmc = MCMC(nuts_kernel, num_warmup=500, num_samples=1000)\n",
    "rng_key = random.PRNGKey(0)\n",
    "mcmc.run(rng_key, J, sigma, y=y, extra_fields=('potential_energy',))"
   ],
   "metadata": {
    "collapsed": false
   }
  },
  {
   "cell_type": "code",
   "execution_count": 48,
   "outputs": [
    {
     "name": "stdout",
     "output_type": "stream",
     "text": [
      "\n",
      "                mean       std    median      5.0%     95.0%     n_eff     r_hat\n",
      "        mu      4.30      3.44      4.23     -1.68      8.96    158.83      1.01\n",
      "       tau      4.05      3.45      2.97      0.29      8.29     70.21      1.02\n",
      "  theta[0]      6.41      5.66      5.74     -2.99     14.52    213.16      1.01\n",
      "  theta[1]      5.16      4.92      4.98     -2.10     13.42    250.40      1.01\n",
      "  theta[2]      3.70      5.47      3.73     -5.71     11.76    324.69      1.00\n",
      "  theta[3]      4.83      5.32      4.52     -2.80     13.70    331.97      1.00\n",
      "  theta[4]      3.49      4.95      3.68     -4.69     11.44    211.57      1.00\n",
      "  theta[5]      3.96      5.10      4.24     -3.66     12.65    298.62      1.01\n",
      "  theta[6]      6.75      5.52      6.05     -1.46     15.60    155.36      1.01\n",
      "  theta[7]      5.07      5.31      4.80     -3.16     13.83    232.52      1.02\n",
      "\n",
      "Number of divergences: 1\n"
     ]
    }
   ],
   "source": [
    "mcmc.print_summary(exclude_deterministic=False)"
   ],
   "metadata": {
    "collapsed": false
   }
  },
  {
   "cell_type": "code",
   "execution_count": 49,
   "outputs": [],
   "source": [
    "def new_school():\n",
    "    mu = numpyro.sample('mu', dist.Normal(10_000, 5))\n",
    "    tau = numpyro.sample('tau', dist.HalfCauchy(5))\n",
    "    return numpyro.sample('obs', dist.Normal(mu, tau))"
   ],
   "metadata": {
    "collapsed": false
   }
  },
  {
   "cell_type": "code",
   "execution_count": 50,
   "outputs": [
    {
     "data": {
      "text/plain": "DeviceArray(4.1635695, dtype=float32)"
     },
     "execution_count": 50,
     "metadata": {},
     "output_type": "execute_result"
    }
   ],
   "source": [
    "from numpyro.infer import Predictive\n",
    "predictive = Predictive(new_school, posterior_samples=mcmc.get_samples())\n",
    "samples_predictive = predictive(rng_key=random.PRNGKey(0))\n",
    "samples_predictive['obs'].mean()"
   ],
   "metadata": {
    "collapsed": false
   }
  },
  {
   "cell_type": "code",
   "execution_count": 51,
   "outputs": [],
   "source": [
    "from numpyro.distributions import constraints"
   ],
   "metadata": {
    "collapsed": false
   }
  },
  {
   "cell_type": "code",
   "execution_count": 56,
   "outputs": [],
   "source": [
    "# Now try VI\n",
    "def school_guide(J, sigma, y=None):\n",
    "    mu_loc = numpyro.param(\"mu_loc\", 2.0)\n",
    "    mu_scale = numpyro.param(\"mu_scale\", 1.0, constraint=constraints.positive)\n",
    "\n",
    "    log_tau_loc = numpyro.param(\"log_tau_loc\", 0.0)\n",
    "    log_tau_scale = numpyro.param(\"log_tau_scale\", 1.0, constraint=constraints.positive)\n",
    "\n",
    "    mu = numpyro.sample(\"mu\", dist.Normal(mu_loc, mu_scale))\n",
    "    # log_tau = numpyro.sample(\"log_tau\", dist.Normal(log_tau_loc, log_tau_scale))\n",
    "    tau = numpyro.sample(\"tau\", dist.LogNormal(log_tau_loc, log_tau_scale))\n",
    "    # tau = numpyro.deterministic(\"tau\", jnp.exp(log_tau))\n",
    "\n",
    "    with numpyro.plate(\"J\", J):\n",
    "        numpyro.sample(\"theta\", dist.Normal(mu, tau))"
   ],
   "metadata": {
    "collapsed": false
   }
  },
  {
   "cell_type": "code",
   "execution_count": 57,
   "outputs": [
    {
     "name": "stderr",
     "output_type": "stream",
     "text": [
      "100%|██████████| 5000/5000 [00:09<00:00, 548.42it/s, init loss: 33.9446, avg. loss [4751-5000]: 31.7353] \n"
     ]
    },
    {
     "data": {
      "text/plain": "{'log_tau_loc': DeviceArray(0.25769845, dtype=float32),\n 'log_tau_scale': DeviceArray(0.88301367, dtype=float32),\n 'mu_loc': DeviceArray(4.082992, dtype=float32),\n 'mu_scale': DeviceArray(3.126091, dtype=float32)}"
     },
     "execution_count": 57,
     "metadata": {},
     "output_type": "execute_result"
    }
   ],
   "source": [
    "from numpyro.infer import SVI, Trace_ELBO\n",
    "\n",
    "optimizer = numpyro.optim.Adam(0.001)\n",
    "svi = SVI(eight_schools, school_guide, optimizer, Trace_ELBO())\n",
    "svi_results = svi.run(random.PRNGKey(2), 5000, J=J, sigma=sigma, y=y)\n",
    "svi_results.params"
   ],
   "metadata": {
    "collapsed": false
   }
  },
  {
   "cell_type": "code",
   "execution_count": null,
   "outputs": [],
   "source": [],
   "metadata": {
    "collapsed": false
   }
  },
  {
   "cell_type": "code",
   "execution_count": 3,
   "outputs": [],
   "source": [
    "import jax.numpy as jnp\n",
    "from jax import random, vmap\n",
    "from jax.scipy.special import logsumexp\n",
    "import numpyro\n",
    "import numpyro.distributions as dist\n",
    "from numpyro import handlers\n",
    "from numpyro.infer import MCMC, NUTS"
   ],
   "metadata": {
    "collapsed": false
   }
  },
  {
   "cell_type": "code",
   "execution_count": 4,
   "outputs": [],
   "source": [
    "N, D = 3000, 3\n",
    "def logistic_regression(data, labels):\n",
    "    coefs = numpyro.sample('coefs', dist.Normal(jnp.zeros(D), jnp.ones(D)))\n",
    "    intercept = numpyro.sample('intercept', dist.Normal(0., 10.))\n",
    "    logits = jnp.sum(coefs * data + intercept, axis=-1)\n",
    "    return numpyro.sample('obs', dist.Bernoulli(logits=logits), obs=labels)\n",
    "\n",
    "data = random.normal(random.PRNGKey(0), (N, D))\n",
    "true_coefs = jnp.arange(1., D + 1.)\n",
    "logits = jnp.sum(true_coefs * data, axis=-1)\n",
    "labels = dist.Bernoulli(logits=logits).sample(random.PRNGKey(1))"
   ],
   "metadata": {
    "collapsed": false
   }
  },
  {
   "cell_type": "code",
   "execution_count": 13,
   "outputs": [
    {
     "name": "stderr",
     "output_type": "stream",
     "text": [
      "sample: 100%|██████████| 2000/2000 [00:11<00:00, 176.32it/s, 3 steps of size 5.88e-01. acc. prob=0.91] \n"
     ]
    },
    {
     "name": "stdout",
     "output_type": "stream",
     "text": [
      "\n",
      "                 mean       std    median      5.0%     95.0%     n_eff     r_hat\n",
      "   coefs[0]      0.97      0.07      0.97      0.85      1.09    774.42      1.00\n",
      "   coefs[1]      2.05      0.09      2.06      1.90      2.21    685.42      1.00\n",
      "   coefs[2]      3.19      0.13      3.19      2.98      3.40    641.99      1.00\n",
      "  intercept     -0.03      0.02     -0.03     -0.06      0.00    946.92      1.00\n",
      "\n",
      "Number of divergences: 0\n"
     ]
    }
   ],
   "source": [
    "num_warmup, num_samples = 1000, 1000\n",
    "mcmc = MCMC(NUTS(model=logistic_regression), num_warmup=num_warmup, num_samples=num_samples)\n",
    "mcmc.run(random.PRNGKey(2), data, labels)\n",
    "mcmc.print_summary()"
   ],
   "metadata": {
    "collapsed": false
   }
  },
  {
   "cell_type": "code",
   "execution_count": 16,
   "outputs": [
    {
     "ename": "AttributeError",
     "evalue": "'DeviceArray' object has no attribute 'get'",
     "output_type": "error",
     "traceback": [
      "\u001B[0;31m---------------------------------------------------------------------------\u001B[0m",
      "\u001B[0;31mAttributeError\u001B[0m                            Traceback (most recent call last)",
      "Cell \u001B[0;32mIn[16], line 2\u001B[0m\n\u001B[1;32m      1\u001B[0m model \u001B[38;5;241m=\u001B[39m handlers\u001B[38;5;241m.\u001B[39msubstitute(handlers\u001B[38;5;241m.\u001B[39mseed(logistic_regression, random\u001B[38;5;241m.\u001B[39mPRNGKey(\u001B[38;5;241m2\u001B[39m)), \u001B[38;5;28mlist\u001B[39m(mcmc\u001B[38;5;241m.\u001B[39mget_samples()\u001B[38;5;241m.\u001B[39mvalues())[\u001B[38;5;241m0\u001B[39m])\n\u001B[0;32m----> 2\u001B[0m model_trace \u001B[38;5;241m=\u001B[39m \u001B[43mhandlers\u001B[49m\u001B[38;5;241;43m.\u001B[39;49m\u001B[43mtrace\u001B[49m\u001B[43m(\u001B[49m\u001B[43mmodel\u001B[49m\u001B[43m)\u001B[49m\u001B[38;5;241;43m.\u001B[39;49m\u001B[43mget_trace\u001B[49m\u001B[43m(\u001B[49m\u001B[43mdata\u001B[49m\u001B[43m,\u001B[49m\u001B[43m \u001B[49m\u001B[43mlabels\u001B[49m\u001B[43m)\u001B[49m\n\u001B[1;32m      3\u001B[0m model_trace\n",
      "File \u001B[0;32m~/miniconda3/envs/bnn/lib/python3.10/site-packages/numpyro/handlers.py:171\u001B[0m, in \u001B[0;36mtrace.get_trace\u001B[0;34m(self, *args, **kwargs)\u001B[0m\n\u001B[1;32m    163\u001B[0m \u001B[38;5;28;01mdef\u001B[39;00m \u001B[38;5;21mget_trace\u001B[39m(\u001B[38;5;28mself\u001B[39m, \u001B[38;5;241m*\u001B[39margs, \u001B[38;5;241m*\u001B[39m\u001B[38;5;241m*\u001B[39mkwargs):\n\u001B[1;32m    164\u001B[0m     \u001B[38;5;124;03m\"\"\"\u001B[39;00m\n\u001B[1;32m    165\u001B[0m \u001B[38;5;124;03m    Run the wrapped callable and return the recorded trace.\u001B[39;00m\n\u001B[1;32m    166\u001B[0m \n\u001B[0;32m   (...)\u001B[0m\n\u001B[1;32m    169\u001B[0m \u001B[38;5;124;03m    :return: `OrderedDict` containing the execution trace.\u001B[39;00m\n\u001B[1;32m    170\u001B[0m \u001B[38;5;124;03m    \"\"\"\u001B[39;00m\n\u001B[0;32m--> 171\u001B[0m     \u001B[38;5;28;43mself\u001B[39;49m\u001B[43m(\u001B[49m\u001B[38;5;241;43m*\u001B[39;49m\u001B[43margs\u001B[49m\u001B[43m,\u001B[49m\u001B[43m \u001B[49m\u001B[38;5;241;43m*\u001B[39;49m\u001B[38;5;241;43m*\u001B[39;49m\u001B[43mkwargs\u001B[49m\u001B[43m)\u001B[49m\n\u001B[1;32m    172\u001B[0m     \u001B[38;5;28;01mreturn\u001B[39;00m \u001B[38;5;28mself\u001B[39m\u001B[38;5;241m.\u001B[39mtrace\n",
      "File \u001B[0;32m~/miniconda3/envs/bnn/lib/python3.10/site-packages/numpyro/primitives.py:105\u001B[0m, in \u001B[0;36mMessenger.__call__\u001B[0;34m(self, *args, **kwargs)\u001B[0m\n\u001B[1;32m    103\u001B[0m     \u001B[38;5;28;01mreturn\u001B[39;00m \u001B[38;5;28mself\u001B[39m\n\u001B[1;32m    104\u001B[0m \u001B[38;5;28;01mwith\u001B[39;00m \u001B[38;5;28mself\u001B[39m:\n\u001B[0;32m--> 105\u001B[0m     \u001B[38;5;28;01mreturn\u001B[39;00m \u001B[38;5;28;43mself\u001B[39;49m\u001B[38;5;241;43m.\u001B[39;49m\u001B[43mfn\u001B[49m\u001B[43m(\u001B[49m\u001B[38;5;241;43m*\u001B[39;49m\u001B[43margs\u001B[49m\u001B[43m,\u001B[49m\u001B[43m \u001B[49m\u001B[38;5;241;43m*\u001B[39;49m\u001B[38;5;241;43m*\u001B[39;49m\u001B[43mkwargs\u001B[49m\u001B[43m)\u001B[49m\n",
      "File \u001B[0;32m~/miniconda3/envs/bnn/lib/python3.10/site-packages/numpyro/primitives.py:105\u001B[0m, in \u001B[0;36mMessenger.__call__\u001B[0;34m(self, *args, **kwargs)\u001B[0m\n\u001B[1;32m    103\u001B[0m     \u001B[38;5;28;01mreturn\u001B[39;00m \u001B[38;5;28mself\u001B[39m\n\u001B[1;32m    104\u001B[0m \u001B[38;5;28;01mwith\u001B[39;00m \u001B[38;5;28mself\u001B[39m:\n\u001B[0;32m--> 105\u001B[0m     \u001B[38;5;28;01mreturn\u001B[39;00m \u001B[38;5;28;43mself\u001B[39;49m\u001B[38;5;241;43m.\u001B[39;49m\u001B[43mfn\u001B[49m\u001B[43m(\u001B[49m\u001B[38;5;241;43m*\u001B[39;49m\u001B[43margs\u001B[49m\u001B[43m,\u001B[49m\u001B[43m \u001B[49m\u001B[38;5;241;43m*\u001B[39;49m\u001B[38;5;241;43m*\u001B[39;49m\u001B[43mkwargs\u001B[49m\u001B[43m)\u001B[49m\n",
      "File \u001B[0;32m~/miniconda3/envs/bnn/lib/python3.10/site-packages/numpyro/primitives.py:105\u001B[0m, in \u001B[0;36mMessenger.__call__\u001B[0;34m(self, *args, **kwargs)\u001B[0m\n\u001B[1;32m    103\u001B[0m     \u001B[38;5;28;01mreturn\u001B[39;00m \u001B[38;5;28mself\u001B[39m\n\u001B[1;32m    104\u001B[0m \u001B[38;5;28;01mwith\u001B[39;00m \u001B[38;5;28mself\u001B[39m:\n\u001B[0;32m--> 105\u001B[0m     \u001B[38;5;28;01mreturn\u001B[39;00m \u001B[38;5;28;43mself\u001B[39;49m\u001B[38;5;241;43m.\u001B[39;49m\u001B[43mfn\u001B[49m\u001B[43m(\u001B[49m\u001B[38;5;241;43m*\u001B[39;49m\u001B[43margs\u001B[49m\u001B[43m,\u001B[49m\u001B[43m \u001B[49m\u001B[38;5;241;43m*\u001B[39;49m\u001B[38;5;241;43m*\u001B[39;49m\u001B[43mkwargs\u001B[49m\u001B[43m)\u001B[49m\n",
      "Cell \u001B[0;32mIn[4], line 3\u001B[0m, in \u001B[0;36mlogistic_regression\u001B[0;34m(data, labels)\u001B[0m\n\u001B[1;32m      2\u001B[0m \u001B[38;5;28;01mdef\u001B[39;00m \u001B[38;5;21mlogistic_regression\u001B[39m(data, labels):\n\u001B[0;32m----> 3\u001B[0m     coefs \u001B[38;5;241m=\u001B[39m \u001B[43mnumpyro\u001B[49m\u001B[38;5;241;43m.\u001B[39;49m\u001B[43msample\u001B[49m\u001B[43m(\u001B[49m\u001B[38;5;124;43m'\u001B[39;49m\u001B[38;5;124;43mcoefs\u001B[39;49m\u001B[38;5;124;43m'\u001B[39;49m\u001B[43m,\u001B[49m\u001B[43m \u001B[49m\u001B[43mdist\u001B[49m\u001B[38;5;241;43m.\u001B[39;49m\u001B[43mNormal\u001B[49m\u001B[43m(\u001B[49m\u001B[43mjnp\u001B[49m\u001B[38;5;241;43m.\u001B[39;49m\u001B[43mzeros\u001B[49m\u001B[43m(\u001B[49m\u001B[43mD\u001B[49m\u001B[43m)\u001B[49m\u001B[43m,\u001B[49m\u001B[43m \u001B[49m\u001B[43mjnp\u001B[49m\u001B[38;5;241;43m.\u001B[39;49m\u001B[43mones\u001B[49m\u001B[43m(\u001B[49m\u001B[43mD\u001B[49m\u001B[43m)\u001B[49m\u001B[43m)\u001B[49m\u001B[43m)\u001B[49m\n\u001B[1;32m      4\u001B[0m     intercept \u001B[38;5;241m=\u001B[39m numpyro\u001B[38;5;241m.\u001B[39msample(\u001B[38;5;124m'\u001B[39m\u001B[38;5;124mintercept\u001B[39m\u001B[38;5;124m'\u001B[39m, dist\u001B[38;5;241m.\u001B[39mNormal(\u001B[38;5;241m0.\u001B[39m, \u001B[38;5;241m10.\u001B[39m))\n\u001B[1;32m      5\u001B[0m     logits \u001B[38;5;241m=\u001B[39m jnp\u001B[38;5;241m.\u001B[39msum(coefs \u001B[38;5;241m*\u001B[39m data \u001B[38;5;241m+\u001B[39m intercept, axis\u001B[38;5;241m=\u001B[39m\u001B[38;5;241m-\u001B[39m\u001B[38;5;241m1\u001B[39m)\n",
      "File \u001B[0;32m~/miniconda3/envs/bnn/lib/python3.10/site-packages/numpyro/primitives.py:222\u001B[0m, in \u001B[0;36msample\u001B[0;34m(name, fn, obs, rng_key, sample_shape, infer, obs_mask)\u001B[0m\n\u001B[1;32m    207\u001B[0m initial_msg \u001B[38;5;241m=\u001B[39m {\n\u001B[1;32m    208\u001B[0m     \u001B[38;5;124m\"\u001B[39m\u001B[38;5;124mtype\u001B[39m\u001B[38;5;124m\"\u001B[39m: \u001B[38;5;124m\"\u001B[39m\u001B[38;5;124msample\u001B[39m\u001B[38;5;124m\"\u001B[39m,\n\u001B[1;32m    209\u001B[0m     \u001B[38;5;124m\"\u001B[39m\u001B[38;5;124mname\u001B[39m\u001B[38;5;124m\"\u001B[39m: name,\n\u001B[0;32m   (...)\u001B[0m\n\u001B[1;32m    218\u001B[0m     \u001B[38;5;124m\"\u001B[39m\u001B[38;5;124minfer\u001B[39m\u001B[38;5;124m\"\u001B[39m: {} \u001B[38;5;28;01mif\u001B[39;00m infer \u001B[38;5;129;01mis\u001B[39;00m \u001B[38;5;28;01mNone\u001B[39;00m \u001B[38;5;28;01melse\u001B[39;00m infer,\n\u001B[1;32m    219\u001B[0m }\n\u001B[1;32m    221\u001B[0m \u001B[38;5;66;03m# ...and use apply_stack to send it to the Messengers\u001B[39;00m\n\u001B[0;32m--> 222\u001B[0m msg \u001B[38;5;241m=\u001B[39m \u001B[43mapply_stack\u001B[49m\u001B[43m(\u001B[49m\u001B[43minitial_msg\u001B[49m\u001B[43m)\u001B[49m\n\u001B[1;32m    223\u001B[0m \u001B[38;5;28;01mreturn\u001B[39;00m msg[\u001B[38;5;124m\"\u001B[39m\u001B[38;5;124mvalue\u001B[39m\u001B[38;5;124m\"\u001B[39m]\n",
      "File \u001B[0;32m~/miniconda3/envs/bnn/lib/python3.10/site-packages/numpyro/primitives.py:47\u001B[0m, in \u001B[0;36mapply_stack\u001B[0;34m(msg)\u001B[0m\n\u001B[1;32m     45\u001B[0m pointer \u001B[38;5;241m=\u001B[39m \u001B[38;5;241m0\u001B[39m\n\u001B[1;32m     46\u001B[0m \u001B[38;5;28;01mfor\u001B[39;00m pointer, handler \u001B[38;5;129;01min\u001B[39;00m \u001B[38;5;28menumerate\u001B[39m(\u001B[38;5;28mreversed\u001B[39m(_PYRO_STACK)):\n\u001B[0;32m---> 47\u001B[0m     \u001B[43mhandler\u001B[49m\u001B[38;5;241;43m.\u001B[39;49m\u001B[43mprocess_message\u001B[49m\u001B[43m(\u001B[49m\u001B[43mmsg\u001B[49m\u001B[43m)\u001B[49m\n\u001B[1;32m     48\u001B[0m     \u001B[38;5;66;03m# When a Messenger sets the \"stop\" field of a message,\u001B[39;00m\n\u001B[1;32m     49\u001B[0m     \u001B[38;5;66;03m# it prevents any Messengers above it on the stack from being applied.\u001B[39;00m\n\u001B[1;32m     50\u001B[0m     \u001B[38;5;28;01mif\u001B[39;00m msg\u001B[38;5;241m.\u001B[39mget(\u001B[38;5;124m\"\u001B[39m\u001B[38;5;124mstop\u001B[39m\u001B[38;5;124m\"\u001B[39m):\n",
      "File \u001B[0;32m~/miniconda3/envs/bnn/lib/python3.10/site-packages/numpyro/handlers.py:796\u001B[0m, in \u001B[0;36msubstitute.process_message\u001B[0;34m(self, msg)\u001B[0m\n\u001B[1;32m    793\u001B[0m     \u001B[38;5;28;01mreturn\u001B[39;00m\n\u001B[1;32m    795\u001B[0m \u001B[38;5;28;01mif\u001B[39;00m \u001B[38;5;28mself\u001B[39m\u001B[38;5;241m.\u001B[39mdata \u001B[38;5;129;01mis\u001B[39;00m \u001B[38;5;129;01mnot\u001B[39;00m \u001B[38;5;28;01mNone\u001B[39;00m:\n\u001B[0;32m--> 796\u001B[0m     value \u001B[38;5;241m=\u001B[39m \u001B[38;5;28;43mself\u001B[39;49m\u001B[38;5;241;43m.\u001B[39;49m\u001B[43mdata\u001B[49m\u001B[38;5;241;43m.\u001B[39;49m\u001B[43mget\u001B[49m(msg[\u001B[38;5;124m\"\u001B[39m\u001B[38;5;124mname\u001B[39m\u001B[38;5;124m\"\u001B[39m])\n\u001B[1;32m    797\u001B[0m \u001B[38;5;28;01melse\u001B[39;00m:\n\u001B[1;32m    798\u001B[0m     value \u001B[38;5;241m=\u001B[39m \u001B[38;5;28mself\u001B[39m\u001B[38;5;241m.\u001B[39msubstitute_fn(msg)\n",
      "\u001B[0;31mAttributeError\u001B[0m: 'DeviceArray' object has no attribute 'get'"
     ]
    }
   ],
   "source": [
    "model = handlers.substitute(handlers.seed(logistic_regression, random.PRNGKey(2)), list(mcmc.get_samples().values())[0])\n",
    "model_trace = handlers.trace(model).get_trace(data, labels)\n",
    "model_trace"
   ],
   "metadata": {
    "collapsed": false
   }
  },
  {
   "cell_type": "code",
   "execution_count": 31,
   "outputs": [],
   "source": [
    "def log_likelihood(rng_key, params, model, *args, **kwargs):\n",
    "    model = handlers.substitute(\n",
    "        # handlers.seed(\n",
    "            model,\n",
    "            # rng_key),\n",
    "        params)\n",
    "    model_trace = handlers.trace(model).get_trace(*args, **kwargs)\n",
    "    obs_node = model_trace['obs']\n",
    "    # print(obs_node)\n",
    "    # print(obs_node['fn'])\n",
    "    # raise ValueError(\"stop\")\n",
    "    return obs_node['fn'].log_prob(obs_node['value'])"
   ],
   "metadata": {
    "collapsed": false
   }
  },
  {
   "cell_type": "code",
   "execution_count": 34,
   "outputs": [],
   "source": [
    "def log_predictive_density(rng_key, params, model, *args, **kwargs):\n",
    "    n = list(params.values())[0].shape[0]\n",
    "    log_lk_fn = vmap(lambda rng_key, params: log_likelihood(rng_key, params, model, *args, **kwargs))\n",
    "    log_lk_vals = log_lk_fn(random.split(rng_key, n), params)\n",
    "    print(log_lk_vals[0], log_lk_vals.shape, n)\n",
    "    return jnp.sum(logsumexp(log_lk_vals, 0) - jnp.log(n))"
   ],
   "metadata": {
    "collapsed": false
   }
  },
  {
   "cell_type": "code",
   "execution_count": 35,
   "outputs": [
    {
     "name": "stdout",
     "output_type": "stream",
     "text": [
      "[-0.11249876 -0.08116782 -0.17313612 ... -0.4367317  -0.31474683\n",
      " -0.26940894] (1000, 3000) 1000\n",
      "-874.9193\n"
     ]
    }
   ],
   "source": [
    "print(log_predictive_density(random.PRNGKey(2), mcmc.get_samples(), logistic_regression, data, labels))"
   ],
   "metadata": {
    "collapsed": false
   }
  }
 ],
 "metadata": {
  "kernelspec": {
   "display_name": "Python 3",
   "language": "python",
   "name": "python3"
  },
  "language_info": {
   "codemirror_mode": {
    "name": "ipython",
    "version": 2
   },
   "file_extension": ".py",
   "mimetype": "text/x-python",
   "name": "python",
   "nbconvert_exporter": "python",
   "pygments_lexer": "ipython2",
   "version": "2.7.6"
  }
 },
 "nbformat": 4,
 "nbformat_minor": 0
}
