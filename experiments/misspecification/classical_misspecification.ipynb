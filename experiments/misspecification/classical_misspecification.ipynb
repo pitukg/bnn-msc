{
 "cells": [
  {
   "cell_type": "code",
   "execution_count": 133,
   "metadata": {
    "collapsed": true
   },
   "outputs": [],
   "source": [
    "import jax.numpy as jnp\n",
    "import jax.scipy\n",
    "import numpy as np\n",
    "import numpyro\n",
    "import numpyro.distributions as dist\n",
    "\n",
    "from jax import random, vmap\n",
    "from numpyro import handlers\n",
    "\n",
    "import matplotlib.pyplot as plt"
   ]
  },
  {
   "cell_type": "code",
   "execution_count": 218,
   "outputs": [],
   "source": [
    "%matplotlib inline\n",
    "\n",
    "plt.rcParams.update({\n",
    "    \"axes.grid\": True,  # show grid by default\n",
    "    \"font.weight\": \"bold\",  # bold fonts\n",
    "    \"xtick.labelsize\": 15,  # large tick labels\n",
    "    \"ytick.labelsize\": 15,  # large tick labels\n",
    "    \"lines.linewidth\": 1,  # thick lines\n",
    "    \"lines.color\": \"k\",  # black lines\n",
    "    # \"grid.color\": \"0.5\",    # gray gridlines\n",
    "    \"grid.linestyle\": \"-\",  # solid gridlines\n",
    "    \"grid.linewidth\": 0.1,  # thin gridlines\n",
    "    \"savefig.dpi\": 300,  # higher resolution output.\n",
    "})"
   ],
   "metadata": {
    "collapsed": false
   }
  },
  {
   "cell_type": "code",
   "execution_count": 188,
   "outputs": [],
   "source": [
    "SEEDS = [random.PRNGKey(i) for i in range(5)]"
   ],
   "metadata": {
    "collapsed": false
   }
  },
  {
   "cell_type": "code",
   "execution_count": 189,
   "outputs": [],
   "source": [
    "SIZES = [0, 2, 4, 6, 8, 10, 12, 14, 18]"
   ],
   "metadata": {
    "collapsed": false
   }
  },
  {
   "cell_type": "code",
   "execution_count": 190,
   "outputs": [],
   "source": [
    "def true_model(size):\n",
    "    if size == 0:\n",
    "        numpyro.deterministic(\"obs\", jnp.array([]))\n",
    "        return\n",
    "    with numpyro.plate(\"data\", size):\n",
    "        # choice = numpyro.sample(\"choice\", dist.DiscreteUniform())\n",
    "        # Scale to +-1\n",
    "        # numpyro.deterministic(\"obs\", 2*choice - 1)\n",
    "        numpyro.deterministic(\"obs\", jnp.array([1, -1] * (size // 2) + ([] if size % 2 == 0 else [1])))"
   ],
   "metadata": {
    "collapsed": false
   }
  },
  {
   "cell_type": "code",
   "execution_count": 192,
   "outputs": [],
   "source": [
    "datas = [\n",
    "    (seed, handlers.trace(handlers.seed(true_model, seed)).get_trace(size=size)['obs']['value'])\n",
    "    for size in SIZES\n",
    "    for seed in SEEDS\n",
    "]"
   ],
   "metadata": {
    "collapsed": false
   }
  },
  {
   "cell_type": "code",
   "execution_count": 193,
   "outputs": [],
   "source": [
    "def model(obs, sigma_obs=0.5):\n",
    "    size = jnp.shape(obs)[0] if obs is not None else 1\n",
    "    mu = numpyro.sample(\"mu\", dist.Normal(scale=1/3))\n",
    "    with numpyro.plate(\"data\", size):\n",
    "        numpyro.sample(\"obs\", dist.Normal(mu, sigma_obs), obs=obs)"
   ],
   "metadata": {
    "collapsed": false
   }
  },
  {
   "cell_type": "code",
   "execution_count": 194,
   "outputs": [],
   "source": [
    "# Prior KL from true distr\n",
    "def get_prior_kl(seed):\n",
    "    def sample_prior(rng_key):\n",
    "        return handlers.trace(handlers.seed(model, rng_key)).get_trace(obs=None)['obs']['value']\n",
    "    prior_samples = dict(mu=vmap(sample_prior)(random.split(seed, 400)).squeeze())\n",
    "    logp_plus_one = numpyro.infer.log_likelihood(model, prior_samples, obs=np.array([1.]))\n",
    "    logp_plus_one = jax.scipy.special.logsumexp(logp_plus_one['obs']) - jnp.log(prior_samples['mu'].shape[0])\n",
    "    logp_neg_one = numpyro.infer.log_likelihood(model, prior_samples, obs=np.array([-1.]))\n",
    "    logp_neg_one = jax.scipy.special.logsumexp(logp_neg_one['obs']) - jnp.log(prior_samples['mu'].shape[0])\n",
    "    prior_kl = np.log(0.5) - 0.5 * (logp_plus_one + logp_neg_one)\n",
    "    return prior_kl"
   ],
   "metadata": {
    "collapsed": false
   }
  },
  {
   "cell_type": "code",
   "execution_count": 195,
   "outputs": [
    {
     "data": {
      "text/plain": "DeviceArray(1.5326443, dtype=float32)"
     },
     "execution_count": 195,
     "metadata": {},
     "output_type": "execute_result"
    }
   ],
   "source": [
    "# Asymptotic posterior KL with collapsed mu=0\n",
    "asymptotic_posterior_samples = dict(mu=jnp.array([0.]))\n",
    "logp_plus_one = numpyro.infer.log_likelihood(model, asymptotic_posterior_samples, obs=np.array([1.]))\n",
    "logp_plus_one = jax.scipy.special.logsumexp(logp_plus_one['obs']) - jnp.log(asymptotic_posterior_samples['mu'].shape[0])\n",
    "logp_neg_one = numpyro.infer.log_likelihood(model, asymptotic_posterior_samples, obs=np.array([-1.]))\n",
    "logp_neg_one = jax.scipy.special.logsumexp(logp_neg_one['obs']) - jnp.log(asymptotic_posterior_samples['mu'].shape[0])\n",
    "asymptotic_posterior_kl = np.log(0.5) - 0.5 * (logp_plus_one + logp_neg_one)\n",
    "asymptotic_posterior_kl"
   ],
   "metadata": {
    "collapsed": false
   }
  },
  {
   "cell_type": "code",
   "execution_count": 200,
   "outputs": [],
   "source": [
    "import collections\n",
    "kls = collections.defaultdict(lambda: [])"
   ],
   "metadata": {
    "collapsed": false
   }
  },
  {
   "cell_type": "code",
   "execution_count": 201,
   "outputs": [
    {
     "name": "stdout",
     "output_type": "stream",
     "text": [
      "size: 0\n",
      "kl = 0.8239\n",
      "size: 0\n",
      "kl = 0.7579\n",
      "size: 0\n",
      "kl = 0.7934\n",
      "size: 0\n",
      "kl = 0.7869\n",
      "size: 0\n",
      "kl = 0.8142\n",
      "size: 2\n"
     ]
    },
    {
     "name": "stderr",
     "output_type": "stream",
     "text": [
      "sample: 100%|██████████| 1000/1000 [00:10<00:00, 99.70it/s, 1 steps of size 1.06e+00. acc. prob=0.93]\n"
     ]
    },
    {
     "name": "stdout",
     "output_type": "stream",
     "text": [
      "\n",
      "                mean       std    median      5.0%     95.0%     n_eff     r_hat\n",
      "        mu      0.03      0.23      0.02     -0.30      0.44    218.55      1.00\n",
      "\n",
      "Number of divergences: 0\n",
      "kl = 1.2872\n",
      "size: 2\n"
     ]
    },
    {
     "name": "stderr",
     "output_type": "stream",
     "text": [
      "sample: 100%|██████████| 1000/1000 [00:14<00:00, 69.00it/s, 1 steps of size 9.52e-01. acc. prob=0.94]\n"
     ]
    },
    {
     "name": "stdout",
     "output_type": "stream",
     "text": [
      "\n",
      "                mean       std    median      5.0%     95.0%     n_eff     r_hat\n",
      "        mu     -0.03      0.23     -0.03     -0.43      0.31    237.40      1.00\n",
      "\n",
      "Number of divergences: 0\n",
      "kl = 1.2725\n",
      "size: 2\n"
     ]
    },
    {
     "name": "stderr",
     "output_type": "stream",
     "text": [
      "sample: 100%|██████████| 1000/1000 [00:14<00:00, 68.34it/s, 3 steps of size 1.25e+00. acc. prob=0.90] \n"
     ]
    },
    {
     "name": "stdout",
     "output_type": "stream",
     "text": [
      "\n",
      "                mean       std    median      5.0%     95.0%     n_eff     r_hat\n",
      "        mu      0.00      0.25     -0.01     -0.38      0.41    163.57      1.00\n",
      "\n",
      "Number of divergences: 0\n",
      "kl = 1.2470\n",
      "size: 2\n"
     ]
    },
    {
     "name": "stderr",
     "output_type": "stream",
     "text": [
      "sample: 100%|██████████| 1000/1000 [00:07<00:00, 142.31it/s, 3 steps of size 9.39e-01. acc. prob=0.94]\n"
     ]
    },
    {
     "name": "stdout",
     "output_type": "stream",
     "text": [
      "\n",
      "                mean       std    median      5.0%     95.0%     n_eff     r_hat\n",
      "        mu     -0.02      0.23     -0.03     -0.41      0.36    247.34      1.00\n",
      "\n",
      "Number of divergences: 0\n",
      "kl = 1.2701\n",
      "size: 2\n"
     ]
    },
    {
     "name": "stderr",
     "output_type": "stream",
     "text": [
      "sample: 100%|██████████| 1000/1000 [00:05<00:00, 179.25it/s, 3 steps of size 1.04e+00. acc. prob=0.93]\n"
     ]
    },
    {
     "name": "stdout",
     "output_type": "stream",
     "text": [
      "\n",
      "                mean       std    median      5.0%     95.0%     n_eff     r_hat\n",
      "        mu     -0.01      0.21     -0.01     -0.36      0.30    254.34      1.00\n",
      "\n",
      "Number of divergences: 0\n",
      "kl = 1.3080\n",
      "size: 4\n"
     ]
    },
    {
     "name": "stderr",
     "output_type": "stream",
     "text": [
      "sample: 100%|██████████| 1000/1000 [00:07<00:00, 128.81it/s, 1 steps of size 1.30e+00. acc. prob=0.89]\n"
     ]
    },
    {
     "name": "stdout",
     "output_type": "stream",
     "text": [
      "\n",
      "                mean       std    median      5.0%     95.0%     n_eff     r_hat\n",
      "        mu      0.01      0.19      0.02     -0.28      0.34    212.93      1.00\n",
      "\n",
      "Number of divergences: 0\n",
      "kl = 1.3411\n",
      "size: 4\n"
     ]
    },
    {
     "name": "stderr",
     "output_type": "stream",
     "text": [
      "sample: 100%|██████████| 1000/1000 [00:06<00:00, 147.44it/s, 3 steps of size 8.48e-01. acc. prob=0.94]\n"
     ]
    },
    {
     "name": "stdout",
     "output_type": "stream",
     "text": [
      "\n",
      "                mean       std    median      5.0%     95.0%     n_eff     r_hat\n",
      "        mu     -0.03      0.20     -0.03     -0.35      0.28    252.39      1.00\n",
      "\n",
      "Number of divergences: 0\n",
      "kl = 1.3359\n",
      "size: 4\n"
     ]
    },
    {
     "name": "stderr",
     "output_type": "stream",
     "text": [
      "sample: 100%|██████████| 1000/1000 [00:05<00:00, 199.24it/s, 3 steps of size 1.26e+00. acc. prob=0.90]\n"
     ]
    },
    {
     "name": "stdout",
     "output_type": "stream",
     "text": [
      "\n",
      "                mean       std    median      5.0%     95.0%     n_eff     r_hat\n",
      "        mu     -0.00      0.20     -0.01     -0.30      0.34    132.22      1.00\n",
      "\n",
      "Number of divergences: 0\n",
      "kl = 1.3266\n",
      "size: 4\n"
     ]
    },
    {
     "name": "stderr",
     "output_type": "stream",
     "text": [
      "sample: 100%|██████████| 1000/1000 [00:05<00:00, 193.29it/s, 3 steps of size 9.83e-01. acc. prob=0.92]\n"
     ]
    },
    {
     "name": "stdout",
     "output_type": "stream",
     "text": [
      "\n",
      "                mean       std    median      5.0%     95.0%     n_eff     r_hat\n",
      "        mu     -0.01      0.19     -0.02     -0.30      0.31    215.93      1.00\n",
      "\n",
      "Number of divergences: 0\n",
      "kl = 1.3478\n",
      "size: 4\n"
     ]
    },
    {
     "name": "stderr",
     "output_type": "stream",
     "text": [
      "sample: 100%|██████████| 1000/1000 [00:04<00:00, 219.33it/s, 1 steps of size 1.14e+00. acc. prob=0.91]\n"
     ]
    },
    {
     "name": "stdout",
     "output_type": "stream",
     "text": [
      "\n",
      "                mean       std    median      5.0%     95.0%     n_eff     r_hat\n",
      "        mu     -0.01      0.18     -0.00     -0.30      0.25    226.91      1.00\n",
      "\n",
      "Number of divergences: 0\n",
      "kl = 1.3674\n",
      "size: 6\n"
     ]
    },
    {
     "name": "stderr",
     "output_type": "stream",
     "text": [
      "sample: 100%|██████████| 1000/1000 [00:04<00:00, 237.34it/s, 1 steps of size 1.06e+00. acc. prob=0.94]\n"
     ]
    },
    {
     "name": "stdout",
     "output_type": "stream",
     "text": [
      "\n",
      "                mean       std    median      5.0%     95.0%     n_eff     r_hat\n",
      "        mu      0.01      0.16      0.01     -0.27      0.28    285.01      1.00\n",
      "\n",
      "Number of divergences: 0\n",
      "kl = 1.3957\n",
      "size: 6\n"
     ]
    },
    {
     "name": "stderr",
     "output_type": "stream",
     "text": [
      "sample: 100%|██████████| 1000/1000 [00:04<00:00, 218.69it/s, 1 steps of size 9.77e-01. acc. prob=0.94]\n"
     ]
    },
    {
     "name": "stdout",
     "output_type": "stream",
     "text": [
      "\n",
      "                mean       std    median      5.0%     95.0%     n_eff     r_hat\n",
      "        mu     -0.02      0.17     -0.02     -0.30      0.22    240.15      1.00\n",
      "\n",
      "Number of divergences: 0\n",
      "kl = 1.3830\n",
      "size: 6\n"
     ]
    },
    {
     "name": "stderr",
     "output_type": "stream",
     "text": [
      "sample: 100%|██████████| 1000/1000 [00:04<00:00, 246.14it/s, 1 steps of size 1.29e+00. acc. prob=0.87]\n"
     ]
    },
    {
     "name": "stdout",
     "output_type": "stream",
     "text": [
      "\n",
      "                mean       std    median      5.0%     95.0%     n_eff     r_hat\n",
      "        mu     -0.00      0.17     -0.02     -0.25      0.30    198.22      1.00\n",
      "\n",
      "Number of divergences: 0\n",
      "kl = 1.3771\n",
      "size: 6\n"
     ]
    },
    {
     "name": "stderr",
     "output_type": "stream",
     "text": [
      "sample: 100%|██████████| 1000/1000 [00:03<00:00, 255.36it/s, 3 steps of size 8.93e-01. acc. prob=0.95]\n"
     ]
    },
    {
     "name": "stdout",
     "output_type": "stream",
     "text": [
      "\n",
      "                mean       std    median      5.0%     95.0%     n_eff     r_hat\n",
      "        mu     -0.01      0.18     -0.01     -0.30      0.28    235.73      1.00\n",
      "\n",
      "Number of divergences: 0\n",
      "kl = 1.3714\n",
      "size: 6\n"
     ]
    },
    {
     "name": "stderr",
     "output_type": "stream",
     "text": [
      "sample: 100%|██████████| 1000/1000 [00:05<00:00, 187.19it/s, 3 steps of size 1.01e+00. acc. prob=0.94]\n"
     ]
    },
    {
     "name": "stdout",
     "output_type": "stream",
     "text": [
      "\n",
      "                mean       std    median      5.0%     95.0%     n_eff     r_hat\n",
      "        mu     -0.00      0.16     -0.01     -0.25      0.24    249.87      1.00\n",
      "\n",
      "Number of divergences: 0\n",
      "kl = 1.4000\n",
      "size: 8\n"
     ]
    },
    {
     "name": "stderr",
     "output_type": "stream",
     "text": [
      "sample: 100%|██████████| 1000/1000 [00:05<00:00, 194.61it/s, 1 steps of size 1.10e+00. acc. prob=0.94]\n"
     ]
    },
    {
     "name": "stdout",
     "output_type": "stream",
     "text": [
      "\n",
      "                mean       std    median      5.0%     95.0%     n_eff     r_hat\n",
      "        mu      0.01      0.14      0.01     -0.22      0.27    276.14      1.00\n",
      "\n",
      "Number of divergences: 0\n",
      "kl = 1.4188\n",
      "size: 8\n"
     ]
    },
    {
     "name": "stderr",
     "output_type": "stream",
     "text": [
      "sample: 100%|██████████| 1000/1000 [00:16<00:00, 60.02it/s, 3 steps of size 8.21e-01. acc. prob=0.94]\n"
     ]
    },
    {
     "name": "stdout",
     "output_type": "stream",
     "text": [
      "\n",
      "                mean       std    median      5.0%     95.0%     n_eff     r_hat\n",
      "        mu     -0.02      0.15     -0.02     -0.27      0.22    244.01      1.00\n",
      "\n",
      "Number of divergences: 0\n",
      "kl = 1.4052\n",
      "size: 8\n"
     ]
    },
    {
     "name": "stderr",
     "output_type": "stream",
     "text": [
      "sample: 100%|██████████| 1000/1000 [00:05<00:00, 199.32it/s, 3 steps of size 1.29e+00. acc. prob=0.91]\n"
     ]
    },
    {
     "name": "stdout",
     "output_type": "stream",
     "text": [
      "\n",
      "                mean       std    median      5.0%     95.0%     n_eff     r_hat\n",
      "        mu      0.00      0.16     -0.01     -0.25      0.26    149.98      1.00\n",
      "\n",
      "Number of divergences: 0\n",
      "kl = 1.3990\n",
      "size: 8\n"
     ]
    },
    {
     "name": "stderr",
     "output_type": "stream",
     "text": [
      "sample: 100%|██████████| 1000/1000 [00:04<00:00, 228.28it/s, 3 steps of size 7.98e-01. acc. prob=0.95]\n"
     ]
    },
    {
     "name": "stdout",
     "output_type": "stream",
     "text": [
      "\n",
      "                mean       std    median      5.0%     95.0%     n_eff     r_hat\n",
      "        mu     -0.01      0.15     -0.01     -0.25      0.25    235.34      1.00\n",
      "\n",
      "Number of divergences: 0\n",
      "kl = 1.4046\n",
      "size: 8\n"
     ]
    },
    {
     "name": "stderr",
     "output_type": "stream",
     "text": [
      "sample: 100%|██████████| 1000/1000 [00:06<00:00, 156.46it/s, 1 steps of size 1.09e+00. acc. prob=0.92]\n"
     ]
    },
    {
     "name": "stdout",
     "output_type": "stream",
     "text": [
      "\n",
      "                mean       std    median      5.0%     95.0%     n_eff     r_hat\n",
      "        mu     -0.00      0.14     -0.01     -0.24      0.21    257.56      1.00\n",
      "\n",
      "Number of divergences: 0\n",
      "kl = 1.4193\n",
      "size: 10\n"
     ]
    },
    {
     "name": "stderr",
     "output_type": "stream",
     "text": [
      "sample: 100%|██████████| 1000/1000 [00:04<00:00, 213.32it/s, 1 steps of size 1.20e+00. acc. prob=0.93]\n"
     ]
    },
    {
     "name": "stdout",
     "output_type": "stream",
     "text": [
      "\n",
      "                mean       std    median      5.0%     95.0%     n_eff     r_hat\n",
      "        mu      0.02      0.14      0.02     -0.17      0.27    225.97      1.00\n",
      "\n",
      "Number of divergences: 0\n",
      "kl = 1.4326\n",
      "size: 10\n"
     ]
    },
    {
     "name": "stderr",
     "output_type": "stream",
     "text": [
      "sample: 100%|██████████| 1000/1000 [00:05<00:00, 187.62it/s, 1 steps of size 8.59e-01. acc. prob=0.93]\n"
     ]
    },
    {
     "name": "stdout",
     "output_type": "stream",
     "text": [
      "\n",
      "                mean       std    median      5.0%     95.0%     n_eff     r_hat\n",
      "        mu     -0.02      0.14     -0.02     -0.27      0.18    208.78      1.00\n",
      "\n",
      "Number of divergences: 0\n",
      "kl = 1.4202\n",
      "size: 10\n"
     ]
    },
    {
     "name": "stderr",
     "output_type": "stream",
     "text": [
      "sample: 100%|██████████| 1000/1000 [00:05<00:00, 192.84it/s, 3 steps of size 1.31e+00. acc. prob=0.89]\n"
     ]
    },
    {
     "name": "stdout",
     "output_type": "stream",
     "text": [
      "\n",
      "                mean       std    median      5.0%     95.0%     n_eff     r_hat\n",
      "        mu     -0.00      0.14     -0.01     -0.21      0.24    188.34      1.00\n",
      "\n",
      "Number of divergences: 0\n",
      "kl = 1.4225\n",
      "size: 10\n"
     ]
    },
    {
     "name": "stderr",
     "output_type": "stream",
     "text": [
      "sample: 100%|██████████| 1000/1000 [00:03<00:00, 274.39it/s, 3 steps of size 8.76e-01. acc. prob=0.94]\n"
     ]
    },
    {
     "name": "stdout",
     "output_type": "stream",
     "text": [
      "\n",
      "                mean       std    median      5.0%     95.0%     n_eff     r_hat\n",
      "        mu     -0.01      0.14     -0.02     -0.24      0.22    241.27      1.00\n",
      "\n",
      "Number of divergences: 0\n",
      "kl = 1.4245\n",
      "size: 10\n"
     ]
    },
    {
     "name": "stderr",
     "output_type": "stream",
     "text": [
      "sample: 100%|██████████| 1000/1000 [00:03<00:00, 274.78it/s, 1 steps of size 1.15e+00. acc. prob=0.92]\n"
     ]
    },
    {
     "name": "stdout",
     "output_type": "stream",
     "text": [
      "\n",
      "                mean       std    median      5.0%     95.0%     n_eff     r_hat\n",
      "        mu      0.00      0.13      0.00     -0.22      0.19    266.16      1.00\n",
      "\n",
      "Number of divergences: 0\n",
      "kl = 1.4391\n",
      "size: 12\n"
     ]
    },
    {
     "name": "stderr",
     "output_type": "stream",
     "text": [
      "sample: 100%|██████████| 1000/1000 [00:05<00:00, 190.49it/s, 1 steps of size 1.18e+00. acc. prob=0.93]\n"
     ]
    },
    {
     "name": "stdout",
     "output_type": "stream",
     "text": [
      "\n",
      "                mean       std    median      5.0%     95.0%     n_eff     r_hat\n",
      "        mu      0.01      0.13      0.02     -0.16      0.25    206.62      1.00\n",
      "\n",
      "Number of divergences: 0\n",
      "kl = 1.4453\n",
      "size: 12\n"
     ]
    },
    {
     "name": "stderr",
     "output_type": "stream",
     "text": [
      "sample: 100%|██████████| 1000/1000 [00:04<00:00, 204.41it/s, 1 steps of size 9.30e-01. acc. prob=0.93]\n"
     ]
    },
    {
     "name": "stdout",
     "output_type": "stream",
     "text": [
      "\n",
      "                mean       std    median      5.0%     95.0%     n_eff     r_hat\n",
      "        mu     -0.02      0.13     -0.02     -0.25      0.17    213.57      1.00\n",
      "\n",
      "Number of divergences: 0\n",
      "kl = 1.4368\n",
      "size: 12\n"
     ]
    },
    {
     "name": "stderr",
     "output_type": "stream",
     "text": [
      "sample: 100%|██████████| 1000/1000 [00:04<00:00, 229.67it/s, 3 steps of size 1.13e+00. acc. prob=0.89]\n"
     ]
    },
    {
     "name": "stdout",
     "output_type": "stream",
     "text": [
      "\n",
      "                mean       std    median      5.0%     95.0%     n_eff     r_hat\n",
      "        mu     -0.00      0.13     -0.01     -0.20      0.22    140.24      1.00\n",
      "\n",
      "Number of divergences: 0\n",
      "kl = 1.4347\n",
      "size: 12\n"
     ]
    },
    {
     "name": "stderr",
     "output_type": "stream",
     "text": [
      "sample: 100%|██████████| 1000/1000 [00:03<00:00, 269.44it/s, 3 steps of size 8.66e-01. acc. prob=0.95]\n"
     ]
    },
    {
     "name": "stdout",
     "output_type": "stream",
     "text": [
      "\n",
      "                mean       std    median      5.0%     95.0%     n_eff     r_hat\n",
      "        mu     -0.01      0.14     -0.01     -0.22      0.22    253.94      1.00\n",
      "\n",
      "Number of divergences: 0\n",
      "kl = 1.4310\n",
      "size: 12\n"
     ]
    },
    {
     "name": "stderr",
     "output_type": "stream",
     "text": [
      "sample: 100%|██████████| 1000/1000 [00:03<00:00, 268.12it/s, 3 steps of size 9.70e-01. acc. prob=0.93]\n"
     ]
    },
    {
     "name": "stdout",
     "output_type": "stream",
     "text": [
      "\n",
      "                mean       std    median      5.0%     95.0%     n_eff     r_hat\n",
      "        mu     -0.00      0.12     -0.00     -0.20      0.18    256.64      1.00\n",
      "\n",
      "Number of divergences: 0\n",
      "kl = 1.4523\n",
      "size: 14\n"
     ]
    },
    {
     "name": "stderr",
     "output_type": "stream",
     "text": [
      "sample: 100%|██████████| 1000/1000 [00:04<00:00, 222.28it/s, 1 steps of size 1.02e+00. acc. prob=0.94]\n"
     ]
    },
    {
     "name": "stdout",
     "output_type": "stream",
     "text": [
      "\n",
      "                mean       std    median      5.0%     95.0%     n_eff     r_hat\n",
      "        mu      0.01      0.12      0.01     -0.17      0.21    262.64      1.00\n",
      "\n",
      "Number of divergences: 0\n",
      "kl = 1.4584\n",
      "size: 14\n"
     ]
    },
    {
     "name": "stderr",
     "output_type": "stream",
     "text": [
      "sample: 100%|██████████| 1000/1000 [00:05<00:00, 178.50it/s, 1 steps of size 1.01e+00. acc. prob=0.94]\n"
     ]
    },
    {
     "name": "stdout",
     "output_type": "stream",
     "text": [
      "\n",
      "                mean       std    median      5.0%     95.0%     n_eff     r_hat\n",
      "        mu     -0.02      0.12     -0.02     -0.22      0.16    240.71      1.00\n",
      "\n",
      "Number of divergences: 0\n",
      "kl = 1.4521\n",
      "size: 14\n"
     ]
    },
    {
     "name": "stderr",
     "output_type": "stream",
     "text": [
      "sample: 100%|██████████| 1000/1000 [00:04<00:00, 201.53it/s, 3 steps of size 1.20e+00. acc. prob=0.89]\n"
     ]
    },
    {
     "name": "stdout",
     "output_type": "stream",
     "text": [
      "\n",
      "                mean       std    median      5.0%     95.0%     n_eff     r_hat\n",
      "        mu     -0.00      0.12     -0.01     -0.18      0.21    157.31      1.00\n",
      "\n",
      "Number of divergences: 0\n",
      "kl = 1.4469\n",
      "size: 14\n"
     ]
    },
    {
     "name": "stderr",
     "output_type": "stream",
     "text": [
      "sample: 100%|██████████| 1000/1000 [00:04<00:00, 248.57it/s, 3 steps of size 9.05e-01. acc. prob=0.94]\n"
     ]
    },
    {
     "name": "stdout",
     "output_type": "stream",
     "text": [
      "\n",
      "                mean       std    median      5.0%     95.0%     n_eff     r_hat\n",
      "        mu     -0.01      0.12     -0.01     -0.22      0.17    239.14      1.00\n",
      "\n",
      "Number of divergences: 0\n",
      "kl = 1.4510\n",
      "size: 14\n"
     ]
    },
    {
     "name": "stderr",
     "output_type": "stream",
     "text": [
      "sample: 100%|██████████| 1000/1000 [00:04<00:00, 208.10it/s, 3 steps of size 1.11e+00. acc. prob=0.93]\n"
     ]
    },
    {
     "name": "stdout",
     "output_type": "stream",
     "text": [
      "\n",
      "                mean       std    median      5.0%     95.0%     n_eff     r_hat\n",
      "        mu     -0.00      0.11     -0.00     -0.19      0.17    213.35      1.00\n",
      "\n",
      "Number of divergences: 0\n",
      "kl = 1.4605\n",
      "size: 18\n"
     ]
    },
    {
     "name": "stderr",
     "output_type": "stream",
     "text": [
      "sample: 100%|██████████| 1000/1000 [00:03<00:00, 255.42it/s, 1 steps of size 1.25e+00. acc. prob=0.91]\n"
     ]
    },
    {
     "name": "stdout",
     "output_type": "stream",
     "text": [
      "\n",
      "                mean       std    median      5.0%     95.0%     n_eff     r_hat\n",
      "        mu      0.01      0.11      0.02     -0.15      0.19    199.65      1.00\n",
      "\n",
      "Number of divergences: 0\n",
      "kl = 1.4648\n",
      "size: 18\n"
     ]
    },
    {
     "name": "stderr",
     "output_type": "stream",
     "text": [
      "sample: 100%|██████████| 1000/1000 [00:04<00:00, 232.43it/s, 3 steps of size 1.02e+00. acc. prob=0.90]\n"
     ]
    },
    {
     "name": "stdout",
     "output_type": "stream",
     "text": [
      "\n",
      "                mean       std    median      5.0%     95.0%     n_eff     r_hat\n",
      "        mu     -0.00      0.11     -0.00     -0.18      0.19    234.33      1.00\n",
      "\n",
      "Number of divergences: 0\n",
      "kl = 1.4619\n",
      "size: 18\n"
     ]
    },
    {
     "name": "stderr",
     "output_type": "stream",
     "text": [
      "sample: 100%|██████████| 1000/1000 [00:06<00:00, 160.90it/s, 3 steps of size 1.19e+00. acc. prob=0.90]\n"
     ]
    },
    {
     "name": "stdout",
     "output_type": "stream",
     "text": [
      "\n",
      "                mean       std    median      5.0%     95.0%     n_eff     r_hat\n",
      "        mu     -0.00      0.11     -0.01     -0.17      0.18    142.08      1.00\n",
      "\n",
      "Number of divergences: 0\n",
      "kl = 1.4616\n",
      "size: 18\n"
     ]
    },
    {
     "name": "stderr",
     "output_type": "stream",
     "text": [
      "sample: 100%|██████████| 1000/1000 [00:04<00:00, 206.61it/s, 3 steps of size 8.88e-01. acc. prob=0.95]\n"
     ]
    },
    {
     "name": "stdout",
     "output_type": "stream",
     "text": [
      "\n",
      "                mean       std    median      5.0%     95.0%     n_eff     r_hat\n",
      "        mu     -0.01      0.11     -0.01     -0.19      0.18    229.55      1.00\n",
      "\n",
      "Number of divergences: 0\n",
      "kl = 1.4599\n",
      "size: 18\n"
     ]
    },
    {
     "name": "stderr",
     "output_type": "stream",
     "text": [
      "sample: 100%|██████████| 1000/1000 [00:04<00:00, 209.51it/s, 3 steps of size 9.11e-01. acc. prob=0.94]\n"
     ]
    },
    {
     "name": "stdout",
     "output_type": "stream",
     "text": [
      "\n",
      "                mean       std    median      5.0%     95.0%     n_eff     r_hat\n",
      "        mu     -0.00      0.10     -0.00     -0.16      0.15    266.81      1.00\n",
      "\n",
      "Number of divergences: 0\n",
      "kl = 1.4766\n"
     ]
    }
   ],
   "source": [
    "for seed, data in datas:\n",
    "    size = jnp.shape(data)[0] if data is not None else 0\n",
    "    print(f\"size: {size}\")\n",
    "    if size == 0:\n",
    "        kl = get_prior_kl(seed)\n",
    "        print(f\"kl = {kl:.4f}\")\n",
    "        kls[size].append(kl)\n",
    "        continue\n",
    "    mcmc = numpyro.infer.MCMC(\n",
    "        sampler=numpyro.infer.NUTS(model),\n",
    "        num_warmup=400,\n",
    "        num_samples=600,\n",
    "    )\n",
    "    mcmc.run(seed, obs=data)\n",
    "    mcmc.print_summary()\n",
    "    logp_plus_one = numpyro.infer.log_likelihood(model, mcmc.get_samples(), obs=np.array([1.]))\n",
    "    logp_plus_one = jax.scipy.special.logsumexp(logp_plus_one['obs']) - jnp.log(mcmc.num_samples)\n",
    "    logp_neg_one = numpyro.infer.log_likelihood(model, mcmc.get_samples(), obs=np.array([-1.]))\n",
    "    logp_neg_one = jax.scipy.special.logsumexp(logp_neg_one['obs']) - jnp.log(mcmc.num_samples)\n",
    "    kl = np.log(0.5) - 0.5 * (logp_plus_one + logp_neg_one)\n",
    "    print(f\"kl = {kl:.4f}\")\n",
    "    kls[size].append(kl)"
   ],
   "metadata": {
    "collapsed": false
   }
  },
  {
   "cell_type": "code",
   "execution_count": 203,
   "outputs": [],
   "source": [
    "kls = {size: jnp.array(values) for size, values in kls.items()}"
   ],
   "metadata": {
    "collapsed": false
   }
  },
  {
   "cell_type": "code",
   "execution_count": 225,
   "outputs": [
    {
     "data": {
      "text/plain": "<Figure size 600x400 with 1 Axes>",
      "image/png": "[encoded data removed]"
     },
     "metadata": {},
     "output_type": "display_data"
    }
   ],
   "source": [
    "fig, ax = plt.subplots(figsize=(6,4))\n",
    "kl_means = np.array([values.mean() for values in kls.values()])\n",
    "kl_stds = np.array([values.std() for values in  kls.values()])\n",
    "ax.plot(kls.keys(), kl_means, 'o-', label=\"KL of posterior predictive from true distribution\")\n",
    "ax.fill_between(SIZES, kl_means - 2*kl_stds, kl_means + 2*kl_stds, alpha=0.5)\n",
    "ax.set_xticks(ticks=range(0, 20, 2), labels=range(0, 20, 2))\n",
    "ax.axhline(y=asymptotic_posterior_kl, linestyle='--', label=\"Asymptotic posterior KL\", alpha=0.8)\n",
    "ax.set_xlabel(\"Number of training datapoints\")\n",
    "ax.legend()\n",
    "fig.tight_layout()\n",
    "fig.savefig(\"figs/classical_misspec.pdf\")"
   ],
   "metadata": {
    "collapsed": false
   }
  },
  {
   "cell_type": "code",
   "execution_count": null,
   "outputs": [],
   "source": [],
   "metadata": {
    "collapsed": false
   }
  }
 ],
 "metadata": {
  "kernelspec": {
   "display_name": "Python 3",
   "language": "python",
   "name": "python3"
  },
  "language_info": {
   "codemirror_mode": {
    "name": "ipython",
    "version": 2
   },
   "file_extension": ".py",
   "mimetype": "text/x-python",
   "name": "python",
   "nbconvert_exporter": "python",
   "pygments_lexer": "ipython2",
   "version": "2.7.6"
  }
 },
 "nbformat": 4,
 "nbformat_minor": 0
}
