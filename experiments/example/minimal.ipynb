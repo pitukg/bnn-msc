{
 "cells": [
  {
   "cell_type": "code",
   "execution_count": null,
   "metadata": {},
   "outputs": [],
   "source": [
    "from experiments.src.data import ToyData1\n",
    "from experiments.src.model import BNNRegressor\n",
    "from experiments.src.experiment import BasicHMCExperiment, BasicMeanFieldGaussianVIExperiment\n",
    "from jax import random\n",
    "import jax.nn\n",
    "import numpy as onp\n",
    "import optax"
   ]
  },
  {
   "cell_type": "code",
   "execution_count": null,
   "metadata": {},
   "outputs": [],
   "source": [
    "bnn = BNNRegressor(\n",
    "    nonlin=jax.nn.silu,\n",
    "    D_X=2,\n",
    "    D_Y=1,\n",
    "    D_H=[16, 16],\n",
    "    biases=True,\n",
    "    obs_model=\"loc_scale\",\n",
    "    prior_scale=onp.sqrt(2),\n",
    "    prior_type=\"xavier\",\n",
    "    beta=1.0,\n",
    "    scale_nonlin=lambda xs: jax.nn.softplus(xs) * 0.2 + 1e-2,\n",
    ")"
   ]
  },
  {
   "cell_type": "code",
   "execution_count": null,
   "metadata": {},
   "outputs": [],
   "source": [
    "data = ToyData1()"
   ]
  },
  {
   "cell_type": "code",
   "execution_count": null,
   "metadata": {},
   "outputs": [],
   "source": [
    "_ = BasicHMCExperiment(\n",
    "    bnn,\n",
    "    data,\n",
    "    num_samples=400,\n",
    "    num_warmup=150,\n",
    ").run(random.PRNGKey(11))"
   ]
  },
  {
   "cell_type": "code",
   "execution_count": null,
   "metadata": {},
   "outputs": [],
   "source": [
    "_ = BasicMeanFieldGaussianVIExperiment(\n",
    "    bnn,\n",
    "    data,\n",
    "    num_samples=1000,\n",
    "    max_iter=160_000,\n",
    "    lr_schedule=optax.piecewise_constant_schedule(-0.0001, {100_000: 0.5, 130_000: 0.5})\n",
    ").run(random.PRNGKey(11))\n",
    "# Is it training? Try scaling up the network!\n",
    "# (If stuck, take a look at factory.small)"
   ]
  }
 ],
 "metadata": {
  "kernelspec": {
   "display_name": "synthreg",
   "language": "python",
   "name": "python3"
  },
  "language_info": {
   "codemirror_mode": {
    "name": "ipython",
    "version": 3
   },
   "file_extension": ".py",
   "mimetype": "text/x-python",
   "name": "python",
   "nbconvert_exporter": "python",
   "pygments_lexer": "ipython3",
   "version": "3.13.1"
  }
 },
 "nbformat": 4,
 "nbformat_minor": 2
}
